{
 "cells": [
  {
   "cell_type": "markdown",
   "metadata": {},
   "source": [
    "# Description/How to Use"
   ]
  },
  {
   "cell_type": "markdown",
   "metadata": {},
   "source": [
    "Please message Susan with any issues.\n",
    "\n",
    "**Making sure that the code is up to date with my code**\n",
    "- git remote add upstream https://github.com/susanhao/DPA_Project.git\n",
    "- git remote -v\n",
    "- git fetch upstream\n",
    "- git checkout master\n",
    "- git merge upstream/master\n",
    "\n",
    "**Directory Setup**\n",
    "- you should being using git to directly pull and push the folders Analysis and Data\n",
    "- in the Data folder --> behavioral logs will go into the behavioral folder.  \n",
    " -Put the log files from google drive in the appropriate folders.  \n",
    "   -download whole behavioral logs folder from google drive\n",
    " -Download the qualtrics csv from the behavioral session and put it in the correct folder.\n",
    "- Once you have all the data in the Data folder up to date, you can start running this script.\n",
    "\n",
    "**Running this Script**\n",
    "- you should have jupyter notebook already installed (that's how you can view this)\n",
    "- you should also have nbextensions installed\n",
    " - https://github.com/ipython-contrib/jupyter_contrib_nbextensions\n",
    " - please make sure that TOC (table of contents) is turned on\n",
    " - in the script you can press the TOC icon at the top to see the contents\n",
    "- please run every cell of this script\n",
    " - you can press CTRL + SHIFT to run something\n",
    "- at the end of the script, we will save our results \n",
    "\n",
    "**Pushing to Github**\n",
    "- git add .\n",
    "- git commit -m \"message (ie what subject you analyzed)\"\n",
    "- git push -u origin master\n"
   ]
  },
  {
   "cell_type": "markdown",
   "metadata": {},
   "source": [
    "# Setup"
   ]
  },
  {
   "cell_type": "code",
   "execution_count": 1,
   "metadata": {
    "ExecuteTime": {
     "end_time": "2021-02-27T03:52:15.547307Z",
     "start_time": "2021-02-27T03:51:48.343321Z"
    }
   },
   "outputs": [],
   "source": [
    "import sys\n",
    "sys.path.append('../python_functions/')\n",
    "\n",
    "from import_packages import *\n",
    "from cleanup_logs import *\n",
    "from matplotlib.patches import Rectangle\n",
    "\n",
    "\n",
    "import gspread\n",
    "from oauth2client.service_account import ServiceAccountCredentials\n",
    "sns.set_style('white')\n",
    "%matplotlib inline\n",
    "%load_ext rpy2.ipython"
   ]
  },
  {
   "cell_type": "code",
   "execution_count": 2,
   "metadata": {
    "ExecuteTime": {
     "end_time": "2021-02-27T03:52:15.562986Z",
     "start_time": "2021-02-27T03:52:15.552184Z"
    }
   },
   "outputs": [],
   "source": [
    "#put data directory here\n",
    "dir_logs = '../../Data/behavioral/behavioral logs/'\n",
    "dir_answer = 'answer_keys/'\n",
    "\n",
    "raw_scores_df = pd.DataFrame()\n",
    "perc_scores_df = pd.DataFrame()\n",
    "task_logs = {i.split('_')[0]: i for i in os.listdir(dir_logs)}\n",
    "\n",
    "#Put excluded/withdrawn subjs here\n",
    "excluded_subjs = ['DPA_F016','DPA_F039', 'DPA_F046', 'DPA_F047', 'DPA_F050', 'DPA_F051',\n",
    "                 'DPA_F057', 'DPA_F061', 'DPA_F063', 'DPA_F064', 'DPA_F069', 'DPA_F070', 'DPA_F072']"
   ]
  },
  {
   "cell_type": "code",
   "execution_count": 1,
   "metadata": {},
   "outputs": [],
   "source": [
    "#basic imports\n",
    "import csv\n",
    "import os\n",
    "import pandas as pd\n",
    "import numpy as np\n",
    "import re\n",
    "import itertools\n",
    "\n",
    "#visualization imports\n",
    "from mpl_toolkits.mplot3d import Axes3D\n",
    "import matplotlib.animation\n",
    "import seaborn as sns\n",
    "sns.set_style(\"white\")\n",
    "import matplotlib.pyplot as plt\n",
    "\n",
    "\n",
    "#stats imports\n",
    "import statsmodels.api as sm\n",
    "import statsmodels.formula.api as smf\n",
    "from sklearn import datasets, linear_model\n",
    "from sklearn.model_selection import train_test_split\n",
    "from sklearn import feature_selection\n",
    "from sklearn.linear_model import LinearRegression\n",
    "\n",
    "#pandas stuff\n",
    "pd.options.mode.chained_assignment = None  # default='warn'\n",
    "pd.options.display.max_rows = 70\n"
   ]
  },
  {
   "cell_type": "markdown",
   "metadata": {},
   "source": [
    "# Get Task Scores"
   ]
  },
  {
   "cell_type": "markdown",
   "metadata": {
    "collapsed": true
   },
   "source": [
    "## Bhisma's Emotion Task"
   ]
  },
  {
   "cell_type": "code",
   "execution_count": 3,
   "metadata": {
    "ExecuteTime": {
     "end_time": "2021-02-27T03:52:17.658219Z",
     "start_time": "2021-02-27T03:52:15.567723Z"
    }
   },
   "outputs": [],
   "source": [
    "answer_df = pd.read_csv(dir_answer + 'BET_answers.csv', names =['Stim', 'Answer'])\n",
    "bet_scores_df = pd.DataFrame(columns = ['BET_score_raw', 'BET_score_perc'])\n",
    "#loop thru log files\n",
    "for file in os.listdir(dir_logs + task_logs['BET']):\n",
    "    if 'BET' in file:\n",
    "        subj = re.search('DPA_F[0-9]{3}', file).group(0)\n",
    "    \n",
    "        if subj not in excluded_subjs:\n",
    "            clean_log = cleanup_logs(dir_logs + task_logs['BET'] +'/' + file, ['Stim.*', 'Final.*'])\n",
    "            clean_log.rename({0:'Stim', 1:'Response'}, axis = 1, inplace = True)\n",
    "\n",
    "            #replace everything up to the last /\n",
    "            clean_log['Stim'] = clean_log['Stim'].str.replace('.*\\/', '')\n",
    "            clean_log['Response'] = (clean_log['Response'].str.replace('Final button press: ', '')).str.lower()\n",
    "\n",
    "            #merge clean log and answerkeys on stim\n",
    "            subj_df = clean_log.merge(answer_df, how = 'left', left_on='Stim', right_on= 'Stim')\n",
    "            subj_df['Correct'] = (subj_df['Response'] == subj_df['Answer']).astype(int)\n",
    "\n",
    "            bet_scores_df.loc[subj, 'BET'] = subj_df['Correct'].sum()\n",
    "            bet_scores_df.loc[subj, 'BET_score_perc'] = (subj_df['Correct'].sum()/len(subj_df['Correct']))*100\n",
    "\n",
    "raw_scores_df = bet_scores_df[['BET']]\n",
    "perc_scores_df = bet_scores_df[['BET_score_perc']]"
   ]
  },
  {
   "cell_type": "markdown",
   "metadata": {},
   "source": [
    "## Brad's Identity Matching"
   ]
  },
  {
   "cell_type": "code",
   "execution_count": 4,
   "metadata": {
    "ExecuteTime": {
     "end_time": "2021-02-27T03:52:19.975347Z",
     "start_time": "2021-02-27T03:52:17.661921Z"
    }
   },
   "outputs": [],
   "source": [
    "answer_df = pd.read_csv(dir_answer + 'Brad_shuffled_answer.csv', names =['Target', 'Stim1', 'Stim2', 'Stim3', 'Answer'])\n",
    "brad_scores_df = pd.DataFrame(columns = ['brad_score_raw', 'brad_score_perc'])\n",
    "\n",
    "#loop thru log files\n",
    "for file in os.listdir(dir_logs + task_logs['Brads']):\n",
    "    if 'Brad' in file:\n",
    "        subj = re.search('DPA_F[0-9]{3}', file).group(0)\n",
    "        \n",
    "        if subj not in excluded_subjs:\n",
    "            clean_log = cleanup_logs(dir_logs + task_logs['Brads'] +'/' + file, ['Prompt.*', 'KEYPRESSED.*'])\n",
    "            #first 3 rows are practice so discard\n",
    "            clean_log = clean_log.iloc[3:]\n",
    "            clean_log.rename({0:'Stim', 1:'Response'}, axis = 1, inplace = True)\n",
    "\n",
    "            #replace KEYPRESS\n",
    "            clean_log['Response'] = clean_log['Response'].str.replace('KEYPRESSED: ', '')\n",
    "\n",
    "            #merge  on index for clean log and answerkeys on stim\n",
    "            subj_df = clean_log.join(answer_df)\n",
    "            subj_df['Correct'] = (subj_df['Response'].astype(int) == subj_df['Answer']).astype(int)\n",
    "\n",
    "            brad_scores_df.loc[subj, 'BFMT'] = subj_df['Correct'].sum()\n",
    "            brad_scores_df.loc[subj, 'brad_score_perc'] =( subj_df['Correct'].sum()/len(subj_df['Correct']))*100\n",
    "\n",
    "raw_scores_df = raw_scores_df.join(brad_scores_df[['BFMT']], how = 'outer')\n",
    "perc_scores_df = perc_scores_df.join(brad_scores_df[['brad_score_perc']], how = 'outer')"
   ]
  },
  {
   "cell_type": "markdown",
   "metadata": {},
   "source": [
    "## Films Emotion Task"
   ]
  },
  {
   "cell_type": "code",
   "execution_count": 5,
   "metadata": {
    "ExecuteTime": {
     "end_time": "2021-02-27T03:52:22.550760Z",
     "start_time": "2021-02-27T03:52:19.978246Z"
    }
   },
   "outputs": [],
   "source": [
    "answer_df = pd.read_csv(dir_answer + 'Films_answers.csv', names =['Target', 'Stim1', 'Stim2', 'Stim3', 'Answer'])\n",
    "films_scores_df = pd.DataFrame(columns = ['films_score_raw', 'films_score_perc'])\n",
    "\n",
    "#loop thru log files\n",
    "for file in os.listdir(dir_logs + task_logs['films']):\n",
    "    if 'Films' in file:\n",
    "        subj = re.search('DPA_F[0-9]{3}', file).group(0)\n",
    "        \n",
    "        if subj not in excluded_subjs:\n",
    "            clean_log = cleanup_logs(dir_logs + task_logs['films'] +'/' + file, ['Prompt.*', 'KEYPRESSED.*'])\n",
    "\n",
    "            #first 3 rows are practice so discard\n",
    "            clean_log = clean_log.iloc[3:]\n",
    "            clean_log.rename({0:'Stim', 1:'Response'}, axis = 1, inplace = True)\n",
    "\n",
    "            #replace KEYPRESS\n",
    "            clean_log['Response'] = clean_log['Response'].str.replace('KEYPRESSED: ', '')\n",
    "\n",
    "            #merge  on index for clean log and answerkeys on stim\n",
    "            subj_df = clean_log.join(answer_df)\n",
    "            subj_df['Correct'] = (subj_df['Response'].astype(int) == subj_df['Answer']).astype(int)\n",
    "\n",
    "            films_scores_df.loc[subj, 'Films'] = subj_df['Correct'].sum()\n",
    "            films_scores_df.loc[subj, 'films_score_perc'] = (subj_df['Correct'].sum()/len(subj_df['Correct']))*100\n",
    "\n",
    "raw_scores_df = raw_scores_df.join(films_scores_df[['Films']], how = 'outer')\n",
    "perc_scores_df = perc_scores_df.join(films_scores_df[['films_score_perc']], how = 'outer')"
   ]
  },
  {
   "cell_type": "markdown",
   "metadata": {},
   "source": [
    "## CFMT"
   ]
  },
  {
   "cell_type": "code",
   "execution_count": 6,
   "metadata": {
    "ExecuteTime": {
     "end_time": "2021-02-27T03:52:25.047079Z",
     "start_time": "2021-02-27T03:52:22.554747Z"
    }
   },
   "outputs": [],
   "source": [
    "answer_df = pd.read_csv(dir_answer + 'CFMT_key.csv', names =['keypress', 'prompt'])\n",
    "CFMT_scores_df = pd.DataFrame(columns = ['CFMT_score_raw', 'CFMT_score_perc'])\n",
    "\n",
    "#loop thru log files\n",
    "for file in os.listdir(dir_logs + task_logs['CFMT']):\n",
    "    if 'CFMT' in file:\n",
    "        subj = re.search('DPA_F[0-9]{3}', file).group(0)\n",
    "        \n",
    "        if subj not in excluded_subjs:\n",
    "            clean_log = cleanup_logs(dir_logs + task_logs['CFMT'] +'/' + file, ['Prompt.*', 'Final.*'])\n",
    "\n",
    "            #first 3 rows are practice so discard\n",
    "            clean_log = clean_log.iloc[3:]\n",
    "            clean_log.rename({0:'Stim', 1:'Response'}, axis = 1, inplace = True)\n",
    "\n",
    "            #replace KEYPRESS\n",
    "            clean_log['Response'] = clean_log['Response'].str.replace('Final key press: ', '')\n",
    "            #replace prompt         \n",
    "            clean_log['Stim'] = clean_log['Stim'].str.replace('Prompt: ', '')\n",
    "            #merge  on index for clean log and answerkeys on stim\n",
    "            subj_df = clean_log.join(answer_df)\n",
    "\n",
    "            subj_df['Correct'] = (subj_df['Response'].astype(int) == subj_df['prompt']).astype(int)\n",
    "            CFMT_scores_df.loc[subj, 'CFMT'] = subj_df['Correct'].sum()\n",
    "            CFMT_scores_df.loc[subj, 'CFMT_score_perc'] = (subj_df['Correct'].sum()/len(subj_df['Correct']))*100\n",
    "        \n",
    "raw_scores_df = raw_scores_df.join(CFMT_scores_df[['CFMT']], how = 'outer')\n",
    "perc_scores_df = perc_scores_df.join(CFMT_scores_df[['CFMT_score_perc']], how = 'outer')"
   ]
  },
  {
   "cell_type": "markdown",
   "metadata": {},
   "source": [
    "## Famous Faces"
   ]
  },
  {
   "cell_type": "code",
   "execution_count": 7,
   "metadata": {
    "ExecuteTime": {
     "end_time": "2021-02-27T03:52:27.750968Z",
     "start_time": "2021-02-27T03:52:25.057412Z"
    }
   },
   "outputs": [],
   "source": [
    "ff_scores_df = pd.DataFrame(columns = ['FF_score_raw', 'FF_score_perc'])\n",
    "\n",
    "#loop thru log files\n",
    "for file in os.listdir(dir_logs + task_logs['FF']):\n",
    "    if 'FF' in file:\n",
    "        subj = re.search('DPA_F[0-9]{3}', file).group(0)\n",
    "        \n",
    "        if subj not in excluded_subjs:\n",
    "            clean_log = cleanup_logs(dir_logs + task_logs['FF'] +'/' + file, [ 'Prompt.*'])\n",
    "            clean_log.rename({0:'Response'}, axis = 1, inplace = True)\n",
    "\n",
    "            #replace prompt answer\n",
    "            clean_log['Response'] = clean_log['Response'].str.replace('Prompt Answer: ', '')\n",
    "\n",
    "\n",
    "            correct = clean_log['Response'].value_counts()['Yes! I got it right']\n",
    "            if ('I got it wrong and I am familiar with this face.' in clean_log['Response'].value_counts().index):\n",
    "                total_known = clean_log['Response'].value_counts()['Yes! I got it right'] + clean_log['Response'].value_counts()['I got it wrong and I am familiar with this face.']\n",
    "            else:\n",
    "                total_known = correct\n",
    "\n",
    "            ff_scores_df.loc[subj, 'FF'] = (correct/total_known)*100\n",
    "            ff_scores_df.loc[subj, 'FF_score_perc'] = (correct/total_known)*100\n",
    "\n",
    "raw_scores_df = raw_scores_df.join(ff_scores_df[['FF']], how = 'outer')\n",
    "perc_scores_df = perc_scores_df.join(ff_scores_df[['FF_score_perc']], how = 'outer')"
   ]
  },
  {
   "cell_type": "markdown",
   "metadata": {},
   "source": [
    "## Mind in the Eyes"
   ]
  },
  {
   "cell_type": "code",
   "execution_count": 8,
   "metadata": {
    "ExecuteTime": {
     "end_time": "2021-02-27T03:52:30.269816Z",
     "start_time": "2021-02-27T03:52:27.756639Z"
    }
   },
   "outputs": [],
   "source": [
    "answer_df = pd.read_csv(dir_answer + 'MOE_answers.csv', names =['Target',  'Answer'])\n",
    "MOE_scores_df = pd.DataFrame(columns = ['MOE_score_raw', 'MOE_score_perc'])\n",
    "\n",
    "#loop thru log files\n",
    "for file in os.listdir(dir_logs + task_logs['MOE']):\n",
    "    if 'MOE' in file:\n",
    "        subj = re.search('DPA_F[0-9]{3}', file).group(0)\n",
    "        \n",
    "        if subj not in excluded_subjs:\n",
    "            clean_log = cleanup_logs(dir_logs + task_logs['MOE'] +'/' + file, ['Test.*', 'Final.*'])\n",
    "\n",
    "            #first row is practice so discard\n",
    "            clean_log = clean_log.iloc[1:]\n",
    "            clean_log.rename({0:'Stim', 1:'Response'}, axis = 1, inplace = True)\n",
    "\n",
    "            #replace strings\n",
    "            clean_log['Stim'] = clean_log['Stim'].str.replace('Test: stims_MOE/', '')\n",
    "            clean_log['Response'] = clean_log['Response'].str.replace('Final button press: ', '')\n",
    "\n",
    "            #merge  on index for clean log and answerkeys on stim\n",
    "            subj_df = clean_log.join(answer_df)\n",
    "            subj_df['Correct'] = (subj_df['Response'] == subj_df['Answer'])\n",
    "\n",
    "            MOE_scores_df.loc[subj, 'MIE'] = subj_df['Correct'].sum()\n",
    "            MOE_scores_df.loc[subj, 'MOE_score_perc'] = (subj_df['Correct'].sum()/len(subj_df['Correct']))*100\n",
    "        \n",
    "raw_scores_df = raw_scores_df.join(MOE_scores_df[['MIE']], how = 'outer')\n",
    "perc_scores_df = perc_scores_df.join(MOE_scores_df[['MOE_score_perc']], how = 'outer')"
   ]
  },
  {
   "cell_type": "markdown",
   "metadata": {},
   "source": [
    "## Emotion Hexagon"
   ]
  },
  {
   "cell_type": "markdown",
   "metadata": {},
   "source": [
    "DPA_F047 isn't right - somehow didn't record everything. But we excluded them"
   ]
  },
  {
   "cell_type": "code",
   "execution_count": 9,
   "metadata": {
    "ExecuteTime": {
     "end_time": "2021-02-27T03:52:32.970472Z",
     "start_time": "2021-02-27T03:52:30.274605Z"
    }
   },
   "outputs": [],
   "source": [
    "answer_df = pd.read_csv(dir_answer + 'EH_answers.csv', names =['Stim',  'Emotion1', 'Emotion2', 'Answer'])\n",
    "EH_scores_df = pd.DataFrame(columns = ['EH_score_raw', 'EH_score_perc'])\n",
    "\n",
    "#loop thru log files\n",
    "for file in os.listdir(dir_logs + task_logs['EH']):\n",
    "    if 'EH' in file:\n",
    "        subj = re.search('DPA_F[0-9]{3}', file).group(0)\n",
    "        if subj not in excluded_subjs:\n",
    "            clean_log = cleanup_logs(dir_logs + task_logs['EH'] +'/' + file, ['Stim.*', 'Final.*'])\n",
    "            clean_log.rename({0:'Stim', 1:'Response'}, axis = 1, inplace = True)\n",
    "\n",
    "            #replace strings\n",
    "            clean_log['Stim'] = clean_log['Stim'].str.replace('Stim: stims/', '')\n",
    "            clean_log['Stim'] = clean_log['Stim'].str.replace('.jpg', '')\n",
    "            clean_log['Response'] = clean_log['Response'].str.replace('Final button press: ', '')\n",
    "            clean_log['Response'] = clean_log['Response'].str.lower()\n",
    "\n",
    "            #merge  on index for clean log and answerkeys on stim\n",
    "            subj_df = clean_log.merge(answer_df, how='left', left_on='Stim', right_on='Stim')\n",
    "\n",
    "            #get rid of 50/50 rows - nan\n",
    "            subj_df =  subj_df[~subj_df['Answer'].isna()]\n",
    "\n",
    "    #         #comparing diff morphs\n",
    "    #         morphs_90_10 = subj_df[subj_df['Emotion1'].str.contains('90') | subj_df['Emotion1'].str.contains('10')]\n",
    "    #         morphs_70_30 = subj_df[subj_df['Emotion1'].str.contains('30') | subj_df['Emotion1'].str.contains('70')]\n",
    "    #         morphs_90_10['Correct'] = (morphs_90_10['Response'] == morphs_90_10['Answer'])\n",
    "    #         morphs_70_30['Correct'] = (morphs_70_30['Response'] == morphs_70_30['Answer'])\n",
    "    #         EH_90_10.loc[subj] = morphs_90_10['Correct'].sum()/len(morphs_90_10['Correct'])\n",
    "    #         EH_70_30.loc[subj] = morphs_70_30['Correct'].sum()/len(morphs_70_30['Correct'])\n",
    "\n",
    "            subj_df['Correct'] = (subj_df['Response'] == subj_df['Answer'])\n",
    "            EH_scores_df.loc[subj, 'EH'] = subj_df['Correct'].sum()\n",
    "            EH_scores_df.loc[subj, 'EH_score_perc'] = (subj_df['Correct'].sum()/len(subj_df['Correct'])) * 100\n",
    "            \n",
    "raw_scores_df = raw_scores_df.join(EH_scores_df[['EH']], how = 'outer')\n",
    "perc_scores_df = perc_scores_df.join(EH_scores_df[['EH_score_perc']], how = 'outer')"
   ]
  },
  {
   "cell_type": "markdown",
   "metadata": {},
   "source": [
    "## CCMT"
   ]
  },
  {
   "cell_type": "code",
   "execution_count": 10,
   "metadata": {
    "ExecuteTime": {
     "end_time": "2021-02-27T03:52:35.538954Z",
     "start_time": "2021-02-27T03:52:32.975182Z"
    }
   },
   "outputs": [],
   "source": [
    "answer_df = pd.read_csv(dir_answer + 'CCMT_answers.csv', names =['prompt'])\n",
    "CCMT_scores_df = pd.DataFrame(columns = ['CCMT_score_raw', 'CCMT_score_perc'])\n",
    "\n",
    "#loop thru log files\n",
    "for file in os.listdir(dir_logs + task_logs['CFMTcars']):\n",
    "    if 'CFMTcars' in file:\n",
    "        subj = re.search('DPA_F[0-9]{3}', file).group(0)\n",
    "        \n",
    "        if subj not in excluded_subjs:\n",
    "            clean_log = cleanup_logs(dir_logs + task_logs['CFMTcars'] +'/' + file, ['Prompt.*', 'Final.*'])\n",
    "\n",
    "            #first 3 rows are practice so discard\n",
    "            clean_log = clean_log.iloc[3:]\n",
    "            clean_log.rename({0:'Stim', 1:'Response'}, axis = 1, inplace = True)\n",
    "\n",
    "            #replace KEYPRESS\n",
    "            clean_log['Response'] = clean_log['Response'].str.replace('Final key press: ', '')\n",
    "            #replace prompt         \n",
    "            clean_log['Stim'] = clean_log['Stim'].str.replace('Prompt: ', '')\n",
    "            #merge  on index for clean log and answerkeys on stim\n",
    "            subj_df = clean_log.set_index('Stim').join(answer_df)\n",
    "\n",
    "            subj_df['Correct'] = (subj_df['Response'].astype(int) == subj_df['prompt']).astype(int)\n",
    "            CCMT_scores_df.loc[subj, 'CCMT'] = subj_df['Correct'].sum()\n",
    "            CCMT_scores_df.loc[subj, 'CCMT_score_perc'] = (subj_df['Correct'].sum()/len(subj_df['Correct']))*100\n",
    "        \n",
    "raw_scores_df = raw_scores_df.join(CCMT_scores_df[['CCMT']], how = 'outer')\n",
    "perc_scores_df = perc_scores_df.join(CCMT_scores_df[['CCMT_score_perc']], how = 'outer')"
   ]
  },
  {
   "cell_type": "markdown",
   "metadata": {},
   "source": [
    "## Gaze Direction"
   ]
  },
  {
   "cell_type": "code",
   "execution_count": 32,
   "metadata": {
    "ExecuteTime": {
     "end_time": "2021-02-27T03:52:38.151708Z",
     "start_time": "2021-02-27T03:52:35.544523Z"
    }
   },
   "outputs": [
    {
     "ename": "NameError",
     "evalue": "name 'dir_answer' is not defined",
     "output_type": "error",
     "traceback": [
      "\u001b[0;31m---------------------------------------------------------------------------\u001b[0m",
      "\u001b[0;31mNameError\u001b[0m                                 Traceback (most recent call last)",
      "\u001b[0;32m<ipython-input-32-e9866ee476a0>\u001b[0m in \u001b[0;36m<module>\u001b[0;34m\u001b[0m\n\u001b[0;32m----> 1\u001b[0;31m \u001b[0manswer_df\u001b[0m \u001b[0;34m=\u001b[0m \u001b[0mpd\u001b[0m\u001b[0;34m.\u001b[0m\u001b[0mread_csv\u001b[0m\u001b[0;34m(\u001b[0m\u001b[0mdir_answer\u001b[0m \u001b[0;34m+\u001b[0m \u001b[0;34m'GD_answers.csv'\u001b[0m\u001b[0;34m,\u001b[0m \u001b[0mnames\u001b[0m \u001b[0;34m=\u001b[0m\u001b[0;34m[\u001b[0m\u001b[0;34m'Stim'\u001b[0m\u001b[0;34m,\u001b[0m\u001b[0;34m'Answer'\u001b[0m\u001b[0;34m]\u001b[0m\u001b[0;34m)\u001b[0m\u001b[0;34m\u001b[0m\u001b[0;34m\u001b[0m\u001b[0m\n\u001b[0m\u001b[1;32m      2\u001b[0m \u001b[0mGD_scores_df\u001b[0m \u001b[0;34m=\u001b[0m \u001b[0mpd\u001b[0m\u001b[0;34m.\u001b[0m\u001b[0mDataFrame\u001b[0m\u001b[0;34m(\u001b[0m\u001b[0mcolumns\u001b[0m \u001b[0;34m=\u001b[0m \u001b[0;34m[\u001b[0m\u001b[0;34m'GD_score_raw'\u001b[0m\u001b[0;34m,\u001b[0m \u001b[0;34m'GD_score_perc'\u001b[0m\u001b[0;34m]\u001b[0m\u001b[0;34m)\u001b[0m\u001b[0;34m\u001b[0m\u001b[0;34m\u001b[0m\u001b[0m\n\u001b[1;32m      3\u001b[0m \u001b[0;34m\u001b[0m\u001b[0m\n\u001b[1;32m      4\u001b[0m \u001b[0;31m#loop thru log files\u001b[0m\u001b[0;34m\u001b[0m\u001b[0;34m\u001b[0m\u001b[0;34m\u001b[0m\u001b[0m\n\u001b[1;32m      5\u001b[0m \u001b[0;32mfor\u001b[0m \u001b[0mfile\u001b[0m \u001b[0;32min\u001b[0m \u001b[0mos\u001b[0m\u001b[0;34m.\u001b[0m\u001b[0mlistdir\u001b[0m\u001b[0;34m(\u001b[0m\u001b[0mdir_logs\u001b[0m \u001b[0;34m+\u001b[0m \u001b[0mtask_logs\u001b[0m\u001b[0;34m[\u001b[0m\u001b[0;34m'GD'\u001b[0m\u001b[0;34m]\u001b[0m\u001b[0;34m)\u001b[0m\u001b[0;34m:\u001b[0m\u001b[0;34m\u001b[0m\u001b[0;34m\u001b[0m\u001b[0m\n",
      "\u001b[0;31mNameError\u001b[0m: name 'dir_answer' is not defined"
     ]
    }
   ],
   "source": [
    "answer_df = pd.read_csv(dir_answer + 'GD_answers.csv', names =['Stim','Answer'])\n",
    "GD_scores_df = pd.DataFrame(columns = ['GD_score_raw', 'GD_score_perc'])\n",
    "\n",
    "#loop thru log files\n",
    "for file in os.listdir(dir_logs + task_logs['GD']):\n",
    "    if 'GD' in file:\n",
    "        subj = re.search('DPA_F[0-9]{3}', file).group(0)\n",
    "        \n",
    "        if subj not in excluded_subjs:\n",
    "            clean_log = cleanup_logs(dir_logs + task_logs['GD'] +'/' + file, ['Stim.*', 'Final.*'])\n",
    "            clean_log.rename({0:'Stim', 1:'Response'}, axis = 1, inplace = True)\n",
    "            \n",
    "            #first 3 rows are practice so discard\n",
    "            clean_log = clean_log.iloc[3:]\n",
    "\n",
    "            #replace everything up to the last /\n",
    "            clean_log['Stim'] = clean_log['Stim'].str.replace('.*\\/', '')\n",
    "            clean_log['Response'] = (clean_log['Response'].str.replace('Final button press: ', '')).str.lower()\n",
    "            clean_log.drop(clean_log.index[84],inplace=True)\n",
    "\n",
    "            #merge clean log and answerkeys on stim\n",
    "            subj_df = clean_log.merge(answer_df, how = 'left', left_on='Stim', right_on= 'Stim')\n",
    "            subj_df['Correct'] = (subj_df['Response'] == subj_df['Answer']).astype(int)\n",
    "            \n",
    "            GD_scores_df.loc[subj, 'GD'] = subj_df['Correct'].sum()\n",
    "            GD_scores_df.loc[subj, 'GD_score_perc'] = (subj_df['Correct'].sum()/len(subj_df['Correct']))*100\n",
    "        \n",
    "raw_scores_df = raw_scores_df.join(GD_scores_df[['GD']], how = 'outer')\n",
    "perc_scores_df = perc_scores_df.join(GD_scores_df[['GD_score_perc']], how = 'outer')"
   ]
  },
  {
   "cell_type": "markdown",
   "metadata": {},
   "source": [
    "## Implicit Association Task"
   ]
  },
  {
   "cell_type": "markdown",
   "metadata": {},
   "source": [
    "### Scoring"
   ]
  },
  {
   "cell_type": "code",
   "execution_count": 49,
   "metadata": {},
   "outputs": [],
   "source": [
    "means_df = pd.DataFrame(columns = ['1st_race', '3_mean', '4_mean', '6_mean', '7_mean'])\n",
    "\n",
    "for file in os.listdir('logs'):\n",
    "    if 'iat' in file:\n",
    "        log_df = pd.read_csv('logs/' + file, delimiter = '\\t', names = ['time', 'level', 'msg'])\n",
    "        data_df = log_df[log_df['level'] == 'CRITICAL ']\n",
    "        data_df.drop(columns = ['level'], inplace = True)\n",
    "\n",
    "        block = 0\n",
    "        score_blocks_df = pd.DataFrame(columns = ['block', 'time', 'msg'])\n",
    "        for index, row in data_df.iterrows():\n",
    "            if 'Instructions' in row['msg']:\n",
    "                block += 1\n",
    "            if block in [3, 4, 6, 7]:\n",
    "                score_blocks_df = score_blocks_df.append({'block': block, 'time': row['time'], 'msg': row['msg']}, ignore_index = True)\n",
    "\n",
    "        score_blocks_df = score_blocks_df[~score_blocks_df['msg'].str.contains('Block')]\n",
    "\n",
    "        score_blocks_df['end_time'] = score_blocks_df['time'].shift(-1)\n",
    "        score_blocks_df.rename(columns = {'time': 'start_time'}, inplace = True)\n",
    "        score_blocks_df = score_blocks_df[~score_blocks_df['msg'].str.contains('keypress')]\n",
    "\n",
    "        score_blocks_df['time_diff'] = score_blocks_df['end_time'] - score_blocks_df['start_time']\n",
    "        score_blocks_df['time_diff'][(score_blocks_df['time_diff'] <= 0.3) | (score_blocks_df['time_diff'] >= 10)] = np.nan\n",
    "\n",
    "        #with pd.option_context('display.max_rows', None, 'display.max_columns', None):\n",
    "            #display(score_blocks_df[np.isnan(score_blocks_df['time_diff'])])\n",
    "            #display(score_blocks_df)\n",
    "        \n",
    "        means_df.loc[file[8:12], '1st_race'] = file[13:18]\n",
    "        means_df.loc[file[8:12], '3_mean'] = score_blocks_df[score_blocks_df['block'] == 3]['time_diff'].mean()\n",
    "        means_df.loc[file[8:12], '4_mean'] = score_blocks_df[score_blocks_df['block'] == 4]['time_diff'].mean()\n",
    "        means_df.loc[file[8:12], '6_mean'] = score_blocks_df[score_blocks_df['block'] == 6]['time_diff'].mean()\n",
    "        means_df.loc[file[8:12], '7_mean'] = score_blocks_df[score_blocks_df['block'] == 7]['time_diff'].mean()\n",
    "        means_df.loc[file[8:12], '3_6_SD'] = score_blocks_df[(score_blocks_df['block'] == 3) |\n",
    "                                                            (score_blocks_df['block'] == 6)]['time_diff'].std()\n",
    "        means_df.loc[file[8:12], '4_7_SD'] = score_blocks_df[(score_blocks_df['block'] == 4) |\n",
    "                                                            (score_blocks_df['block'] == 7)]['time_diff'].std()\n",
    "        \n",
    "        #dividing based on race of stimulus\n",
    "        b_stim_df = score_blocks_df[score_blocks_df['msg'].str.contains('b') & score_blocks_df['msg'].str.contains('jpg')]\n",
    "        #display(b_stim_df)\n",
    "        b_3_mean = b_stim_df[b_stim_df['block'] == 3]['time_diff'].mean()\n",
    "        b_4_mean = b_stim_df[b_stim_df['block'] == 4]['time_diff'].mean()\n",
    "        b_6_mean = b_stim_df[b_stim_df['block'] == 6]['time_diff'].mean()\n",
    "        b_7_mean = b_stim_df[b_stim_df['block'] == 7]['time_diff'].mean()\n",
    "        b_3_6_SD = b_stim_df[(b_stim_df['block'] == 3) | (b_stim_df['block'] == 6)]['time_diff'].std()\n",
    "        b_4_7_SD = b_stim_df[(b_stim_df['block'] == 4) | (b_stim_df['block'] == 7)]['time_diff'].std()\n",
    "        means_df.loc[file[8:12], 'b_stim_score'] = (((b_6_mean-b_3_mean)/b_3_6_SD)+((b_7_mean-b_4_mean)/b_4_7_SD))/2\n",
    "\n",
    "        w_stim_df = score_blocks_df[score_blocks_df['msg'].str.contains('w') & score_blocks_df['msg'].str.contains('jpg')]\n",
    "        #display(w_stim_df)\n",
    "        w_3_mean = w_stim_df[w_stim_df['block'] == 3]['time_diff'].mean()\n",
    "        w_4_mean = w_stim_df[w_stim_df['block'] == 4]['time_diff'].mean()\n",
    "        w_6_mean = w_stim_df[w_stim_df['block'] == 6]['time_diff'].mean()\n",
    "        w_7_mean = w_stim_df[w_stim_df['block'] == 7]['time_diff'].mean()\n",
    "        w_3_6_SD = w_stim_df[(w_stim_df['block'] == 3) | (w_stim_df['block'] == 6)]['time_diff'].std()\n",
    "        w_4_7_SD = w_stim_df[(w_stim_df['block'] == 4) | (w_stim_df['block'] == 7)]['time_diff'].std()\n",
    "        means_df.loc[file[8:12], 'w_stim_score'] = (((w_6_mean-w_3_mean)/w_3_6_SD)+((w_7_mean-w_4_mean)/w_4_7_SD))/2\n",
    "\n",
    "#with pd.option_context('display.max_rows', None, 'display.max_columns', None):\n",
    "   # display(means_df)"
   ]
  },
  {
   "cell_type": "code",
   "execution_count": 44,
   "metadata": {},
   "outputs": [
    {
     "data": {
      "text/html": [
       "<div>\n",
       "<style scoped>\n",
       "    .dataframe tbody tr th:only-of-type {\n",
       "        vertical-align: middle;\n",
       "    }\n",
       "\n",
       "    .dataframe tbody tr th {\n",
       "        vertical-align: top;\n",
       "    }\n",
       "\n",
       "    .dataframe thead th {\n",
       "        text-align: right;\n",
       "    }\n",
       "</style>\n",
       "<table border=\"1\" class=\"dataframe\">\n",
       "  <thead>\n",
       "    <tr style=\"text-align: right;\">\n",
       "      <th></th>\n",
       "      <th>1st_race</th>\n",
       "      <th>3_mean</th>\n",
       "      <th>4_mean</th>\n",
       "      <th>6_mean</th>\n",
       "      <th>7_mean</th>\n",
       "      <th>3_6_SD</th>\n",
       "      <th>4_7_SD</th>\n",
       "      <th>b_stim_score</th>\n",
       "      <th>w_stim_score</th>\n",
       "      <th>final_score</th>\n",
       "    </tr>\n",
       "  </thead>\n",
       "  <tbody>\n",
       "    <tr>\n",
       "      <th>F020</th>\n",
       "      <td>black</td>\n",
       "      <td>0.72996</td>\n",
       "      <td>0.66417</td>\n",
       "      <td>0.563335</td>\n",
       "      <td>0.60961</td>\n",
       "      <td>0.225582</td>\n",
       "      <td>0.144739</td>\n",
       "      <td>1.024093</td>\n",
       "      <td>0.712659</td>\n",
       "      <td>0.557799</td>\n",
       "    </tr>\n",
       "    <tr>\n",
       "      <th>F054</th>\n",
       "      <td>white</td>\n",
       "      <td>0.60336</td>\n",
       "      <td>0.585883</td>\n",
       "      <td>0.642565</td>\n",
       "      <td>0.662988</td>\n",
       "      <td>0.159130</td>\n",
       "      <td>0.165632</td>\n",
       "      <td>0.080297</td>\n",
       "      <td>-0.195357</td>\n",
       "      <td>0.355945</td>\n",
       "    </tr>\n",
       "    <tr>\n",
       "      <th>F043</th>\n",
       "      <td>white</td>\n",
       "      <td>0.886045</td>\n",
       "      <td>0.777628</td>\n",
       "      <td>0.810145</td>\n",
       "      <td>0.787588</td>\n",
       "      <td>0.344372</td>\n",
       "      <td>0.249856</td>\n",
       "      <td>-0.208697</td>\n",
       "      <td>-0.584575</td>\n",
       "      <td>-0.090269</td>\n",
       "    </tr>\n",
       "    <tr>\n",
       "      <th>F033</th>\n",
       "      <td>black</td>\n",
       "      <td>0.876025</td>\n",
       "      <td>0.729272</td>\n",
       "      <td>0.851865</td>\n",
       "      <td>0.7989</td>\n",
       "      <td>0.380667</td>\n",
       "      <td>0.213228</td>\n",
       "      <td>0.038728</td>\n",
       "      <td>-0.356878</td>\n",
       "      <td>-0.131536</td>\n",
       "    </tr>\n",
       "    <tr>\n",
       "      <th>F037</th>\n",
       "      <td>white</td>\n",
       "      <td>0.85104</td>\n",
       "      <td>0.762208</td>\n",
       "      <td>0.891025</td>\n",
       "      <td>0.887295</td>\n",
       "      <td>0.401535</td>\n",
       "      <td>0.375076</td>\n",
       "      <td>-0.282408</td>\n",
       "      <td>0.524444</td>\n",
       "      <td>0.21654</td>\n",
       "    </tr>\n",
       "    <tr>\n",
       "      <th>F024</th>\n",
       "      <td>white</td>\n",
       "      <td>0.68092</td>\n",
       "      <td>0.745562</td>\n",
       "      <td>0.81934</td>\n",
       "      <td>0.768893</td>\n",
       "      <td>0.201449</td>\n",
       "      <td>0.269836</td>\n",
       "      <td>1.021407</td>\n",
       "      <td>0.443889</td>\n",
       "      <td>0.38679</td>\n",
       "    </tr>\n",
       "    <tr>\n",
       "      <th>F034</th>\n",
       "      <td>white</td>\n",
       "      <td>0.623405</td>\n",
       "      <td>0.59961</td>\n",
       "      <td>0.644195</td>\n",
       "      <td>0.647165</td>\n",
       "      <td>0.171061</td>\n",
       "      <td>0.148035</td>\n",
       "      <td>0.153925</td>\n",
       "      <td>-0.017075</td>\n",
       "      <td>0.221389</td>\n",
       "    </tr>\n",
       "    <tr>\n",
       "      <th>F044</th>\n",
       "      <td>black</td>\n",
       "      <td>0.87687</td>\n",
       "      <td>0.778042</td>\n",
       "      <td>0.624205</td>\n",
       "      <td>0.670055</td>\n",
       "      <td>0.238150</td>\n",
       "      <td>0.213421</td>\n",
       "      <td>0.777119</td>\n",
       "      <td>1.049246</td>\n",
       "      <td>0.783466</td>\n",
       "    </tr>\n",
       "    <tr>\n",
       "      <th>F053</th>\n",
       "      <td>black</td>\n",
       "      <td>2.07525</td>\n",
       "      <td>1.290113</td>\n",
       "      <td>1.52153</td>\n",
       "      <td>1.192542</td>\n",
       "      <td>1.488037</td>\n",
       "      <td>0.852737</td>\n",
       "      <td>0.470231</td>\n",
       "      <td>-0.320718</td>\n",
       "      <td>0.243267</td>\n",
       "    </tr>\n",
       "    <tr>\n",
       "      <th>F023</th>\n",
       "      <td>black</td>\n",
       "      <td>0.97362</td>\n",
       "      <td>0.804743</td>\n",
       "      <td>0.866055</td>\n",
       "      <td>0.728872</td>\n",
       "      <td>0.272918</td>\n",
       "      <td>0.268543</td>\n",
       "      <td>0.516278</td>\n",
       "      <td>0.187630</td>\n",
       "      <td>0.338327</td>\n",
       "    </tr>\n",
       "    <tr>\n",
       "      <th>F040</th>\n",
       "      <td>white</td>\n",
       "      <td>0.9661</td>\n",
       "      <td>0.985695</td>\n",
       "      <td>1.00613</td>\n",
       "      <td>0.832263</td>\n",
       "      <td>0.416759</td>\n",
       "      <td>0.416345</td>\n",
       "      <td>-0.114937</td>\n",
       "      <td>-0.318189</td>\n",
       "      <td>-0.136236</td>\n",
       "    </tr>\n",
       "    <tr>\n",
       "      <th>F030</th>\n",
       "      <td>black</td>\n",
       "      <td>0.720925</td>\n",
       "      <td>0.694685</td>\n",
       "      <td>0.648395</td>\n",
       "      <td>0.66925</td>\n",
       "      <td>0.266065</td>\n",
       "      <td>0.201360</td>\n",
       "      <td>0.606646</td>\n",
       "      <td>-0.163491</td>\n",
       "      <td>0.199459</td>\n",
       "    </tr>\n",
       "    <tr>\n",
       "      <th>F027</th>\n",
       "      <td>black</td>\n",
       "      <td>1.21046</td>\n",
       "      <td>1.165428</td>\n",
       "      <td>1.028675</td>\n",
       "      <td>1.114578</td>\n",
       "      <td>0.866979</td>\n",
       "      <td>0.994682</td>\n",
       "      <td>0.048608</td>\n",
       "      <td>0.742402</td>\n",
       "      <td>0.130399</td>\n",
       "    </tr>\n",
       "    <tr>\n",
       "      <th>F073</th>\n",
       "      <td>white</td>\n",
       "      <td>0.842715</td>\n",
       "      <td>0.808522</td>\n",
       "      <td>1.102895</td>\n",
       "      <td>0.964453</td>\n",
       "      <td>0.450607</td>\n",
       "      <td>0.348130</td>\n",
       "      <td>0.770161</td>\n",
       "      <td>0.520883</td>\n",
       "      <td>0.512653</td>\n",
       "    </tr>\n",
       "    <tr>\n",
       "      <th>F029</th>\n",
       "      <td>black</td>\n",
       "      <td>0.86105</td>\n",
       "      <td>0.886882</td>\n",
       "      <td>0.57087</td>\n",
       "      <td>0.630042</td>\n",
       "      <td>0.243476</td>\n",
       "      <td>0.327424</td>\n",
       "      <td>0.991472</td>\n",
       "      <td>0.666704</td>\n",
       "      <td>0.988123</td>\n",
       "    </tr>\n",
       "    <tr>\n",
       "      <th>F060</th>\n",
       "      <td>black</td>\n",
       "      <td>1.70421</td>\n",
       "      <td>1.087055</td>\n",
       "      <td>0.820195</td>\n",
       "      <td>0.87024</td>\n",
       "      <td>0.799031</td>\n",
       "      <td>0.502931</td>\n",
       "      <td>0.842739</td>\n",
       "      <td>0.905063</td>\n",
       "      <td>0.768731</td>\n",
       "    </tr>\n",
       "    <tr>\n",
       "      <th>F059</th>\n",
       "      <td>black</td>\n",
       "      <td>0.698435</td>\n",
       "      <td>0.5525</td>\n",
       "      <td>0.747655</td>\n",
       "      <td>0.625055</td>\n",
       "      <td>0.223525</td>\n",
       "      <td>0.092015</td>\n",
       "      <td>-0.359014</td>\n",
       "      <td>-0.197625</td>\n",
       "      <td>-0.504356</td>\n",
       "    </tr>\n",
       "    <tr>\n",
       "      <th>F074</th>\n",
       "      <td>black</td>\n",
       "      <td>0.848525</td>\n",
       "      <td>0.750972</td>\n",
       "      <td>0.82185</td>\n",
       "      <td>0.783918</td>\n",
       "      <td>0.379591</td>\n",
       "      <td>0.258472</td>\n",
       "      <td>-0.571749</td>\n",
       "      <td>0.315227</td>\n",
       "      <td>-0.028594</td>\n",
       "    </tr>\n",
       "    <tr>\n",
       "      <th>F049</th>\n",
       "      <td>white</td>\n",
       "      <td>1.015315</td>\n",
       "      <td>0.87188</td>\n",
       "      <td>1.04203</td>\n",
       "      <td>1.132915</td>\n",
       "      <td>0.414921</td>\n",
       "      <td>0.389564</td>\n",
       "      <td>0.676665</td>\n",
       "      <td>0.746353</td>\n",
       "      <td>0.367228</td>\n",
       "    </tr>\n",
       "    <tr>\n",
       "      <th>F067</th>\n",
       "      <td>white</td>\n",
       "      <td>0.60336</td>\n",
       "      <td>0.615037</td>\n",
       "      <td>0.832695</td>\n",
       "      <td>0.672175</td>\n",
       "      <td>0.279297</td>\n",
       "      <td>0.186188</td>\n",
       "      <td>0.461378</td>\n",
       "      <td>0.962340</td>\n",
       "      <td>0.563998</td>\n",
       "    </tr>\n",
       "    <tr>\n",
       "      <th>F071</th>\n",
       "      <td>black</td>\n",
       "      <td>0.70011</td>\n",
       "      <td>0.698359</td>\n",
       "      <td>0.6426</td>\n",
       "      <td>0.95406</td>\n",
       "      <td>0.248067</td>\n",
       "      <td>0.778262</td>\n",
       "      <td>0.013042</td>\n",
       "      <td>-0.748713</td>\n",
       "      <td>-0.048361</td>\n",
       "    </tr>\n",
       "    <tr>\n",
       "      <th>F075</th>\n",
       "      <td>white</td>\n",
       "      <td>0.90693</td>\n",
       "      <td>0.790158</td>\n",
       "      <td>1.00615</td>\n",
       "      <td>0.90859</td>\n",
       "      <td>0.391890</td>\n",
       "      <td>0.420490</td>\n",
       "      <td>0.321963</td>\n",
       "      <td>0.239518</td>\n",
       "      <td>0.267418</td>\n",
       "    </tr>\n",
       "    <tr>\n",
       "      <th>F062</th>\n",
       "      <td>white</td>\n",
       "      <td>0.68008</td>\n",
       "      <td>0.646307</td>\n",
       "      <td>0.76183</td>\n",
       "      <td>0.728453</td>\n",
       "      <td>0.296605</td>\n",
       "      <td>0.297426</td>\n",
       "      <td>0.264919</td>\n",
       "      <td>0.346825</td>\n",
       "      <td>0.275903</td>\n",
       "    </tr>\n",
       "    <tr>\n",
       "      <th>F066</th>\n",
       "      <td>white</td>\n",
       "      <td>0.62174</td>\n",
       "      <td>0.68302</td>\n",
       "      <td>0.87475</td>\n",
       "      <td>0.941945</td>\n",
       "      <td>0.420857</td>\n",
       "      <td>0.309783</td>\n",
       "      <td>0.671585</td>\n",
       "      <td>0.776956</td>\n",
       "      <td>0.718502</td>\n",
       "    </tr>\n",
       "    <tr>\n",
       "      <th>F038</th>\n",
       "      <td>black</td>\n",
       "      <td>0.946935</td>\n",
       "      <td>0.76137</td>\n",
       "      <td>0.75012</td>\n",
       "      <td>0.747223</td>\n",
       "      <td>0.347427</td>\n",
       "      <td>0.281214</td>\n",
       "      <td>0.606600</td>\n",
       "      <td>0.207662</td>\n",
       "      <td>0.308401</td>\n",
       "    </tr>\n",
       "    <tr>\n",
       "      <th>F048</th>\n",
       "      <td>white</td>\n",
       "      <td>0.60758</td>\n",
       "      <td>0.60043</td>\n",
       "      <td>0.817145</td>\n",
       "      <td>0.738028</td>\n",
       "      <td>0.219583</td>\n",
       "      <td>0.234022</td>\n",
       "      <td>0.701997</td>\n",
       "      <td>1.142645</td>\n",
       "      <td>0.771173</td>\n",
       "    </tr>\n",
       "    <tr>\n",
       "      <th>F058</th>\n",
       "      <td>white</td>\n",
       "      <td>0.60192</td>\n",
       "      <td>0.675617</td>\n",
       "      <td>0.900235</td>\n",
       "      <td>0.873675</td>\n",
       "      <td>0.256893</td>\n",
       "      <td>0.366873</td>\n",
       "      <td>0.846828</td>\n",
       "      <td>0.955908</td>\n",
       "      <td>0.850549</td>\n",
       "    </tr>\n",
       "    <tr>\n",
       "      <th>F028</th>\n",
       "      <td>white</td>\n",
       "      <td>0.63589</td>\n",
       "      <td>0.602105</td>\n",
       "      <td>0.805165</td>\n",
       "      <td>0.647965</td>\n",
       "      <td>0.300843</td>\n",
       "      <td>0.097574</td>\n",
       "      <td>1.079682</td>\n",
       "      <td>0.844607</td>\n",
       "      <td>0.516335</td>\n",
       "    </tr>\n",
       "    <tr>\n",
       "      <th>F065</th>\n",
       "      <td>black</td>\n",
       "      <td>0.922765</td>\n",
       "      <td>0.952362</td>\n",
       "      <td>0.72263</td>\n",
       "      <td>0.760978</td>\n",
       "      <td>0.343710</td>\n",
       "      <td>0.398170</td>\n",
       "      <td>0.891187</td>\n",
       "      <td>0.398617</td>\n",
       "      <td>0.531471</td>\n",
       "    </tr>\n",
       "    <tr>\n",
       "      <th>F031</th>\n",
       "      <td>white</td>\n",
       "      <td>0.924405</td>\n",
       "      <td>0.882997</td>\n",
       "      <td>1.19048</td>\n",
       "      <td>0.729305</td>\n",
       "      <td>0.447744</td>\n",
       "      <td>0.360643</td>\n",
       "      <td>0.054597</td>\n",
       "      <td>0.188611</td>\n",
       "      <td>0.084047</td>\n",
       "    </tr>\n",
       "    <tr>\n",
       "      <th>F052</th>\n",
       "      <td>black</td>\n",
       "      <td>0.758435</td>\n",
       "      <td>0.792245</td>\n",
       "      <td>0.92368</td>\n",
       "      <td>0.687152</td>\n",
       "      <td>0.418308</td>\n",
       "      <td>0.688562</td>\n",
       "      <td>0.223729</td>\n",
       "      <td>0.403110</td>\n",
       "      <td>-0.121203</td>\n",
       "    </tr>\n",
       "    <tr>\n",
       "      <th>F056</th>\n",
       "      <td>white</td>\n",
       "      <td>0.690095</td>\n",
       "      <td>0.71386</td>\n",
       "      <td>0.867715</td>\n",
       "      <td>0.780587</td>\n",
       "      <td>0.282560</td>\n",
       "      <td>0.375247</td>\n",
       "      <td>0.466742</td>\n",
       "      <td>0.701939</td>\n",
       "      <td>0.403217</td>\n",
       "    </tr>\n",
       "    <tr>\n",
       "      <th>F041</th>\n",
       "      <td>white</td>\n",
       "      <td>0.709255</td>\n",
       "      <td>0.60211</td>\n",
       "      <td>0.853515</td>\n",
       "      <td>0.783057</td>\n",
       "      <td>0.271025</td>\n",
       "      <td>0.251464</td>\n",
       "      <td>0.560674</td>\n",
       "      <td>0.611801</td>\n",
       "      <td>0.625926</td>\n",
       "    </tr>\n",
       "    <tr>\n",
       "      <th>F035</th>\n",
       "      <td>black</td>\n",
       "      <td>1.136245</td>\n",
       "      <td>0.912752</td>\n",
       "      <td>0.823545</td>\n",
       "      <td>1.022883</td>\n",
       "      <td>0.373185</td>\n",
       "      <td>0.388550</td>\n",
       "      <td>-0.298790</td>\n",
       "      <td>0.488572</td>\n",
       "      <td>0.277242</td>\n",
       "    </tr>\n",
       "    <tr>\n",
       "      <th>F045</th>\n",
       "      <td>white</td>\n",
       "      <td>0.63422</td>\n",
       "      <td>0.61588</td>\n",
       "      <td>0.801855</td>\n",
       "      <td>0.698855</td>\n",
       "      <td>0.294072</td>\n",
       "      <td>0.214664</td>\n",
       "      <td>0.269835</td>\n",
       "      <td>0.207497</td>\n",
       "      <td>0.478291</td>\n",
       "    </tr>\n",
       "    <tr>\n",
       "      <th>F025</th>\n",
       "      <td>black</td>\n",
       "      <td>1.13459</td>\n",
       "      <td>1.15711</td>\n",
       "      <td>1.022015</td>\n",
       "      <td>0.866472</td>\n",
       "      <td>0.475103</td>\n",
       "      <td>0.611216</td>\n",
       "      <td>0.531452</td>\n",
       "      <td>0.097566</td>\n",
       "      <td>0.356228</td>\n",
       "    </tr>\n",
       "    <tr>\n",
       "      <th>F036</th>\n",
       "      <td>black</td>\n",
       "      <td>0.593345</td>\n",
       "      <td>0.642547</td>\n",
       "      <td>0.69508</td>\n",
       "      <td>0.676327</td>\n",
       "      <td>0.220872</td>\n",
       "      <td>0.212055</td>\n",
       "      <td>-0.085495</td>\n",
       "      <td>0.309884</td>\n",
       "      <td>-0.309952</td>\n",
       "    </tr>\n",
       "    <tr>\n",
       "      <th>F055</th>\n",
       "      <td>black</td>\n",
       "      <td>0.645035</td>\n",
       "      <td>0.722605</td>\n",
       "      <td>0.750095</td>\n",
       "      <td>0.68466</td>\n",
       "      <td>0.293032</td>\n",
       "      <td>0.227566</td>\n",
       "      <td>-0.180026</td>\n",
       "      <td>0.399542</td>\n",
       "      <td>-0.095892</td>\n",
       "    </tr>\n",
       "    <tr>\n",
       "      <th>F042</th>\n",
       "      <td>black</td>\n",
       "      <td>0.961925</td>\n",
       "      <td>0.88771</td>\n",
       "      <td>0.62839</td>\n",
       "      <td>0.775545</td>\n",
       "      <td>0.287997</td>\n",
       "      <td>0.472034</td>\n",
       "      <td>0.881957</td>\n",
       "      <td>0.288090</td>\n",
       "      <td>0.697871</td>\n",
       "    </tr>\n",
       "    <tr>\n",
       "      <th>F032</th>\n",
       "      <td>white</td>\n",
       "      <td>0.661305</td>\n",
       "      <td>0.65507</td>\n",
       "      <td>0.827665</td>\n",
       "      <td>0.711357</td>\n",
       "      <td>0.199021</td>\n",
       "      <td>0.145143</td>\n",
       "      <td>0.341885</td>\n",
       "      <td>0.739607</td>\n",
       "      <td>0.611849</td>\n",
       "    </tr>\n",
       "    <tr>\n",
       "      <th>F068</th>\n",
       "      <td>black</td>\n",
       "      <td>1.304695</td>\n",
       "      <td>0.755977</td>\n",
       "      <td>0.535805</td>\n",
       "      <td>0.643395</td>\n",
       "      <td>0.604607</td>\n",
       "      <td>0.277353</td>\n",
       "      <td>0.493933</td>\n",
       "      <td>0.946888</td>\n",
       "      <td>0.838818</td>\n",
       "    </tr>\n",
       "  </tbody>\n",
       "</table>\n",
       "</div>"
      ],
      "text/plain": [
       "     1st_race    3_mean    4_mean    6_mean    7_mean    3_6_SD    4_7_SD  \\\n",
       "F020    black   0.72996   0.66417  0.563335   0.60961  0.225582  0.144739   \n",
       "F054    white   0.60336  0.585883  0.642565  0.662988  0.159130  0.165632   \n",
       "F043    white  0.886045  0.777628  0.810145  0.787588  0.344372  0.249856   \n",
       "F033    black  0.876025  0.729272  0.851865    0.7989  0.380667  0.213228   \n",
       "F037    white   0.85104  0.762208  0.891025  0.887295  0.401535  0.375076   \n",
       "F024    white   0.68092  0.745562   0.81934  0.768893  0.201449  0.269836   \n",
       "F034    white  0.623405   0.59961  0.644195  0.647165  0.171061  0.148035   \n",
       "F044    black   0.87687  0.778042  0.624205  0.670055  0.238150  0.213421   \n",
       "F053    black   2.07525  1.290113   1.52153  1.192542  1.488037  0.852737   \n",
       "F023    black   0.97362  0.804743  0.866055  0.728872  0.272918  0.268543   \n",
       "F040    white    0.9661  0.985695   1.00613  0.832263  0.416759  0.416345   \n",
       "F030    black  0.720925  0.694685  0.648395   0.66925  0.266065  0.201360   \n",
       "F027    black   1.21046  1.165428  1.028675  1.114578  0.866979  0.994682   \n",
       "F073    white  0.842715  0.808522  1.102895  0.964453  0.450607  0.348130   \n",
       "F029    black   0.86105  0.886882   0.57087  0.630042  0.243476  0.327424   \n",
       "F060    black   1.70421  1.087055  0.820195   0.87024  0.799031  0.502931   \n",
       "F059    black  0.698435    0.5525  0.747655  0.625055  0.223525  0.092015   \n",
       "F074    black  0.848525  0.750972   0.82185  0.783918  0.379591  0.258472   \n",
       "F049    white  1.015315   0.87188   1.04203  1.132915  0.414921  0.389564   \n",
       "F067    white   0.60336  0.615037  0.832695  0.672175  0.279297  0.186188   \n",
       "F071    black   0.70011  0.698359    0.6426   0.95406  0.248067  0.778262   \n",
       "F075    white   0.90693  0.790158   1.00615   0.90859  0.391890  0.420490   \n",
       "F062    white   0.68008  0.646307   0.76183  0.728453  0.296605  0.297426   \n",
       "F066    white   0.62174   0.68302   0.87475  0.941945  0.420857  0.309783   \n",
       "F038    black  0.946935   0.76137   0.75012  0.747223  0.347427  0.281214   \n",
       "F048    white   0.60758   0.60043  0.817145  0.738028  0.219583  0.234022   \n",
       "F058    white   0.60192  0.675617  0.900235  0.873675  0.256893  0.366873   \n",
       "F028    white   0.63589  0.602105  0.805165  0.647965  0.300843  0.097574   \n",
       "F065    black  0.922765  0.952362   0.72263  0.760978  0.343710  0.398170   \n",
       "F031    white  0.924405  0.882997   1.19048  0.729305  0.447744  0.360643   \n",
       "F052    black  0.758435  0.792245   0.92368  0.687152  0.418308  0.688562   \n",
       "F056    white  0.690095   0.71386  0.867715  0.780587  0.282560  0.375247   \n",
       "F041    white  0.709255   0.60211  0.853515  0.783057  0.271025  0.251464   \n",
       "F035    black  1.136245  0.912752  0.823545  1.022883  0.373185  0.388550   \n",
       "F045    white   0.63422   0.61588  0.801855  0.698855  0.294072  0.214664   \n",
       "F025    black   1.13459   1.15711  1.022015  0.866472  0.475103  0.611216   \n",
       "F036    black  0.593345  0.642547   0.69508  0.676327  0.220872  0.212055   \n",
       "F055    black  0.645035  0.722605  0.750095   0.68466  0.293032  0.227566   \n",
       "F042    black  0.961925   0.88771   0.62839  0.775545  0.287997  0.472034   \n",
       "F032    white  0.661305   0.65507  0.827665  0.711357  0.199021  0.145143   \n",
       "F068    black  1.304695  0.755977  0.535805  0.643395  0.604607  0.277353   \n",
       "\n",
       "      b_stim_score  w_stim_score final_score  \n",
       "F020      1.024093      0.712659    0.557799  \n",
       "F054      0.080297     -0.195357    0.355945  \n",
       "F043     -0.208697     -0.584575   -0.090269  \n",
       "F033      0.038728     -0.356878   -0.131536  \n",
       "F037     -0.282408      0.524444     0.21654  \n",
       "F024      1.021407      0.443889     0.38679  \n",
       "F034      0.153925     -0.017075    0.221389  \n",
       "F044      0.777119      1.049246    0.783466  \n",
       "F053      0.470231     -0.320718    0.243267  \n",
       "F023      0.516278      0.187630    0.338327  \n",
       "F040     -0.114937     -0.318189   -0.136236  \n",
       "F030      0.606646     -0.163491    0.199459  \n",
       "F027      0.048608      0.742402    0.130399  \n",
       "F073      0.770161      0.520883    0.512653  \n",
       "F029      0.991472      0.666704    0.988123  \n",
       "F060      0.842739      0.905063    0.768731  \n",
       "F059     -0.359014     -0.197625   -0.504356  \n",
       "F074     -0.571749      0.315227   -0.028594  \n",
       "F049      0.676665      0.746353    0.367228  \n",
       "F067      0.461378      0.962340    0.563998  \n",
       "F071      0.013042     -0.748713   -0.048361  \n",
       "F075      0.321963      0.239518    0.267418  \n",
       "F062      0.264919      0.346825    0.275903  \n",
       "F066      0.671585      0.776956    0.718502  \n",
       "F038      0.606600      0.207662    0.308401  \n",
       "F048      0.701997      1.142645    0.771173  \n",
       "F058      0.846828      0.955908    0.850549  \n",
       "F028      1.079682      0.844607    0.516335  \n",
       "F065      0.891187      0.398617    0.531471  \n",
       "F031      0.054597      0.188611    0.084047  \n",
       "F052      0.223729      0.403110   -0.121203  \n",
       "F056      0.466742      0.701939    0.403217  \n",
       "F041      0.560674      0.611801    0.625926  \n",
       "F035     -0.298790      0.488572    0.277242  \n",
       "F045      0.269835      0.207497    0.478291  \n",
       "F025      0.531452      0.097566    0.356228  \n",
       "F036     -0.085495      0.309884   -0.309952  \n",
       "F055     -0.180026      0.399542   -0.095892  \n",
       "F042      0.881957      0.288090    0.697871  \n",
       "F032      0.341885      0.739607    0.611849  \n",
       "F068      0.493933      0.946888    0.838818  "
      ]
     },
     "metadata": {},
     "output_type": "display_data"
    }
   ],
   "source": [
    "means_df['final_score'] = (((means_df['6_mean']-means_df['3_mean'])/means_df['3_6_SD'])+((means_df['7_mean']-means_df['4_mean'])/means_df['4_7_SD']))/2\n",
    "\n",
    "#with pd.option_context('display.max_rows', None, 'display.max_columns', None):\n",
    "    #display(means_df)\n",
    "    \n",
    "for index, row in means_df.iterrows():\n",
    "    if row['1st_race'] == 'black':\n",
    "        means_df.loc[index, 'final_score'] = means_df.loc[index, 'final_score'] * -1\n",
    "        means_df.loc[index, 'b_stim_score'] = means_df.loc[index, 'b_stim_score'] * -1\n",
    "        means_df.loc[index, 'w_stim_score'] = means_df.loc[index, 'w_stim_score'] * -1\n",
    "        \n",
    "with pd.option_context('display.max_rows', None, 'display.max_columns', None):\n",
    "    display(means_df)"
   ]
  },
  {
   "cell_type": "code",
   "execution_count": 18,
   "metadata": {},
   "outputs": [
    {
     "data": {
      "text/plain": [
       "<seaborn.axisgrid.FacetGrid at 0x7fd8a0d6dc70>"
      ]
     },
     "execution_count": 18,
     "metadata": {},
     "output_type": "execute_result"
    },
    {
     "data": {
      "image/png": "[encoded data removed]",
      "text/plain": [
       "<Figure size 360x360 with 1 Axes>"
      ]
     },
     "metadata": {},
     "output_type": "display_data"
    }
   ],
   "source": [
    "sns.displot(data = means_df, x = \"final_score\", kind = 'kde')"
   ]
  },
  {
   "cell_type": "markdown",
   "metadata": {},
   "source": [
    "### Order Effect"
   ]
  },
  {
   "cell_type": "code",
   "execution_count": 6,
   "metadata": {},
   "outputs": [
    {
     "name": "stdout",
     "output_type": "stream",
     "text": [
      "Ttest_indResult(statistic=-1.1601847206252378, pvalue=0.253026806792546)\n",
      "MannwhitneyuResult(statistic=168.0, pvalue=0.13953650325004135)\n"
     ]
    },
    {
     "data": {
      "text/plain": [
       "<seaborn.axisgrid.FacetGrid at 0x7fd89ef4f2b0>"
      ]
     },
     "execution_count": 6,
     "metadata": {},
     "output_type": "execute_result"
    },
    {
     "data": {
      "image/png": "[encoded data removed]",
      "text/plain": [
       "<Figure size 419.375x360 with 1 Axes>"
      ]
     },
     "metadata": {},
     "output_type": "display_data"
    }
   ],
   "source": [
    "#comparing black_1st and white_1st\n",
    "import scipy\n",
    "black_1st_scores = means_df[means_df['1st_race'] == 'black']['final_score']\n",
    "white_1st_scores = means_df[means_df['1st_race'] == 'white']['final_score']\n",
    "\n",
    "order_ttest = scipy.stats.ttest_ind(black_1st_scores, white_1st_scores)\n",
    "print(order_ttest)\n",
    "\n",
    "order_mannwhitneyu = scipy.stats.mannwhitneyu(black_1st_scores, white_1st_scores)\n",
    "print(order_mannwhitneyu)\n",
    "\n",
    "means_df['final_score'] = means_df['final_score'].astype('float64')\n",
    "sns.displot(data = means_df, x = \"final_score\", hue = '1st_race', kind = 'kde')"
   ]
  },
  {
   "cell_type": "markdown",
   "metadata": {},
   "source": [
    "### Demographics"
   ]
  },
  {
   "cell_type": "code",
   "execution_count": 5,
   "metadata": {},
   "outputs": [
    {
     "data": {
      "text/html": [
       "<div>\n",
       "<style scoped>\n",
       "    .dataframe tbody tr th:only-of-type {\n",
       "        vertical-align: middle;\n",
       "    }\n",
       "\n",
       "    .dataframe tbody tr th {\n",
       "        vertical-align: top;\n",
       "    }\n",
       "\n",
       "    .dataframe thead th {\n",
       "        text-align: right;\n",
       "    }\n",
       "</style>\n",
       "<table border=\"1\" class=\"dataframe\">\n",
       "  <thead>\n",
       "    <tr style=\"text-align: right;\">\n",
       "      <th></th>\n",
       "      <th>Age</th>\n",
       "      <th>Gender</th>\n",
       "      <th>Hispanic</th>\n",
       "      <th>Race</th>\n",
       "      <th>Subcategory</th>\n",
       "      <th>final_score</th>\n",
       "      <th>abs_score</th>\n",
       "    </tr>\n",
       "  </thead>\n",
       "  <tbody>\n",
       "    <tr>\n",
       "      <th>F020</th>\n",
       "      <td>21</td>\n",
       "      <td>M</td>\n",
       "      <td>no</td>\n",
       "      <td>Asian</td>\n",
       "      <td>NaN</td>\n",
       "      <td>0.557799</td>\n",
       "      <td>0.557799</td>\n",
       "    </tr>\n",
       "    <tr>\n",
       "      <th>F023</th>\n",
       "      <td>20</td>\n",
       "      <td>F</td>\n",
       "      <td>no</td>\n",
       "      <td>White</td>\n",
       "      <td>NaN</td>\n",
       "      <td>0.338327</td>\n",
       "      <td>0.338327</td>\n",
       "    </tr>\n",
       "    <tr>\n",
       "      <th>F024</th>\n",
       "      <td>30</td>\n",
       "      <td>M</td>\n",
       "      <td>no</td>\n",
       "      <td>Asian</td>\n",
       "      <td>East Asian</td>\n",
       "      <td>0.386790</td>\n",
       "      <td>0.386790</td>\n",
       "    </tr>\n",
       "    <tr>\n",
       "      <th>F025</th>\n",
       "      <td>34</td>\n",
       "      <td>M</td>\n",
       "      <td>no</td>\n",
       "      <td>White</td>\n",
       "      <td>NaN</td>\n",
       "      <td>0.356228</td>\n",
       "      <td>0.356228</td>\n",
       "    </tr>\n",
       "    <tr>\n",
       "      <th>F027</th>\n",
       "      <td>21</td>\n",
       "      <td>F</td>\n",
       "      <td>no</td>\n",
       "      <td>Asian</td>\n",
       "      <td>Southeast Asian</td>\n",
       "      <td>0.130399</td>\n",
       "      <td>0.130399</td>\n",
       "    </tr>\n",
       "    <tr>\n",
       "      <th>F028</th>\n",
       "      <td>23</td>\n",
       "      <td>M</td>\n",
       "      <td>no</td>\n",
       "      <td>Asian</td>\n",
       "      <td>East Asian</td>\n",
       "      <td>0.516335</td>\n",
       "      <td>0.516335</td>\n",
       "    </tr>\n",
       "    <tr>\n",
       "      <th>F029</th>\n",
       "      <td>20</td>\n",
       "      <td>M</td>\n",
       "      <td>no</td>\n",
       "      <td>White</td>\n",
       "      <td>NaN</td>\n",
       "      <td>0.988123</td>\n",
       "      <td>0.988123</td>\n",
       "    </tr>\n",
       "    <tr>\n",
       "      <th>F030</th>\n",
       "      <td>19</td>\n",
       "      <td>M</td>\n",
       "      <td>yes</td>\n",
       "      <td>White</td>\n",
       "      <td>NaN</td>\n",
       "      <td>0.199459</td>\n",
       "      <td>0.199459</td>\n",
       "    </tr>\n",
       "    <tr>\n",
       "      <th>F031</th>\n",
       "      <td>20</td>\n",
       "      <td>M</td>\n",
       "      <td>no</td>\n",
       "      <td>Asian</td>\n",
       "      <td>Indian/Pakistani/South Asian</td>\n",
       "      <td>0.084047</td>\n",
       "      <td>0.084047</td>\n",
       "    </tr>\n",
       "    <tr>\n",
       "      <th>F032</th>\n",
       "      <td>37</td>\n",
       "      <td>M</td>\n",
       "      <td>no</td>\n",
       "      <td>White</td>\n",
       "      <td>NaN</td>\n",
       "      <td>0.611849</td>\n",
       "      <td>0.611849</td>\n",
       "    </tr>\n",
       "    <tr>\n",
       "      <th>F033</th>\n",
       "      <td>18</td>\n",
       "      <td>F</td>\n",
       "      <td>no</td>\n",
       "      <td>Asian</td>\n",
       "      <td>East Asian</td>\n",
       "      <td>-0.131536</td>\n",
       "      <td>0.131536</td>\n",
       "    </tr>\n",
       "    <tr>\n",
       "      <th>F034</th>\n",
       "      <td>21</td>\n",
       "      <td>M</td>\n",
       "      <td>no</td>\n",
       "      <td>Asian</td>\n",
       "      <td>Southeast Asian</td>\n",
       "      <td>0.221389</td>\n",
       "      <td>0.221389</td>\n",
       "    </tr>\n",
       "    <tr>\n",
       "      <th>F035</th>\n",
       "      <td>28</td>\n",
       "      <td>F</td>\n",
       "      <td>no</td>\n",
       "      <td>Asian</td>\n",
       "      <td>NaN</td>\n",
       "      <td>0.277242</td>\n",
       "      <td>0.277242</td>\n",
       "    </tr>\n",
       "    <tr>\n",
       "      <th>F036</th>\n",
       "      <td>18</td>\n",
       "      <td>F</td>\n",
       "      <td>no</td>\n",
       "      <td>Asian</td>\n",
       "      <td>East Asian</td>\n",
       "      <td>-0.309952</td>\n",
       "      <td>0.309952</td>\n",
       "    </tr>\n",
       "    <tr>\n",
       "      <th>F037</th>\n",
       "      <td>22</td>\n",
       "      <td>F</td>\n",
       "      <td>no</td>\n",
       "      <td>White</td>\n",
       "      <td>NaN</td>\n",
       "      <td>0.216540</td>\n",
       "      <td>0.216540</td>\n",
       "    </tr>\n",
       "    <tr>\n",
       "      <th>F038</th>\n",
       "      <td>24</td>\n",
       "      <td>F</td>\n",
       "      <td>no</td>\n",
       "      <td>White</td>\n",
       "      <td>NaN</td>\n",
       "      <td>0.308401</td>\n",
       "      <td>0.308401</td>\n",
       "    </tr>\n",
       "    <tr>\n",
       "      <th>F040</th>\n",
       "      <td>20</td>\n",
       "      <td>F</td>\n",
       "      <td>no</td>\n",
       "      <td>Asian</td>\n",
       "      <td>East Asian</td>\n",
       "      <td>-0.136236</td>\n",
       "      <td>0.136236</td>\n",
       "    </tr>\n",
       "    <tr>\n",
       "      <th>F041</th>\n",
       "      <td>20</td>\n",
       "      <td>M</td>\n",
       "      <td>no</td>\n",
       "      <td>White</td>\n",
       "      <td>NaN</td>\n",
       "      <td>0.625926</td>\n",
       "      <td>0.625926</td>\n",
       "    </tr>\n",
       "    <tr>\n",
       "      <th>F042</th>\n",
       "      <td>36</td>\n",
       "      <td>F</td>\n",
       "      <td>no</td>\n",
       "      <td>White</td>\n",
       "      <td>NaN</td>\n",
       "      <td>0.697871</td>\n",
       "      <td>0.697871</td>\n",
       "    </tr>\n",
       "    <tr>\n",
       "      <th>F043</th>\n",
       "      <td>20</td>\n",
       "      <td>F</td>\n",
       "      <td>no</td>\n",
       "      <td>White, Asian</td>\n",
       "      <td>East Asian</td>\n",
       "      <td>-0.090269</td>\n",
       "      <td>0.090269</td>\n",
       "    </tr>\n",
       "    <tr>\n",
       "      <th>F044</th>\n",
       "      <td>19</td>\n",
       "      <td>M</td>\n",
       "      <td>no</td>\n",
       "      <td>White</td>\n",
       "      <td>NaN</td>\n",
       "      <td>0.783466</td>\n",
       "      <td>0.783466</td>\n",
       "    </tr>\n",
       "    <tr>\n",
       "      <th>F045</th>\n",
       "      <td>24</td>\n",
       "      <td>F</td>\n",
       "      <td>no</td>\n",
       "      <td>Middle Eastern</td>\n",
       "      <td>NaN</td>\n",
       "      <td>0.478291</td>\n",
       "      <td>0.478291</td>\n",
       "    </tr>\n",
       "    <tr>\n",
       "      <th>F048</th>\n",
       "      <td>22</td>\n",
       "      <td>F</td>\n",
       "      <td>no</td>\n",
       "      <td>White</td>\n",
       "      <td>NaN</td>\n",
       "      <td>0.771173</td>\n",
       "      <td>0.771173</td>\n",
       "    </tr>\n",
       "    <tr>\n",
       "      <th>F049</th>\n",
       "      <td>39</td>\n",
       "      <td>F</td>\n",
       "      <td>no</td>\n",
       "      <td>White</td>\n",
       "      <td>NaN</td>\n",
       "      <td>0.367228</td>\n",
       "      <td>0.367228</td>\n",
       "    </tr>\n",
       "    <tr>\n",
       "      <th>F052</th>\n",
       "      <td>39</td>\n",
       "      <td>F</td>\n",
       "      <td>no</td>\n",
       "      <td>Black</td>\n",
       "      <td>NaN</td>\n",
       "      <td>-0.121203</td>\n",
       "      <td>0.121203</td>\n",
       "    </tr>\n",
       "    <tr>\n",
       "      <th>F053</th>\n",
       "      <td>24</td>\n",
       "      <td>F</td>\n",
       "      <td>no</td>\n",
       "      <td>White</td>\n",
       "      <td>NaN</td>\n",
       "      <td>0.243267</td>\n",
       "      <td>0.243267</td>\n",
       "    </tr>\n",
       "    <tr>\n",
       "      <th>F054</th>\n",
       "      <td>19</td>\n",
       "      <td>F</td>\n",
       "      <td>no</td>\n",
       "      <td>Asian</td>\n",
       "      <td>East Asian</td>\n",
       "      <td>0.355945</td>\n",
       "      <td>0.355945</td>\n",
       "    </tr>\n",
       "    <tr>\n",
       "      <th>F055</th>\n",
       "      <td>22</td>\n",
       "      <td>F</td>\n",
       "      <td>no</td>\n",
       "      <td>White, Asian</td>\n",
       "      <td>Southeast Asian</td>\n",
       "      <td>-0.095892</td>\n",
       "      <td>0.095892</td>\n",
       "    </tr>\n",
       "    <tr>\n",
       "      <th>F056</th>\n",
       "      <td>18</td>\n",
       "      <td>M</td>\n",
       "      <td>no</td>\n",
       "      <td>White, Asian</td>\n",
       "      <td>Indian/Pakistani/South Asian</td>\n",
       "      <td>0.403217</td>\n",
       "      <td>0.403217</td>\n",
       "    </tr>\n",
       "    <tr>\n",
       "      <th>F058</th>\n",
       "      <td>27</td>\n",
       "      <td>M</td>\n",
       "      <td>no</td>\n",
       "      <td>Asian</td>\n",
       "      <td>East Asian</td>\n",
       "      <td>0.850549</td>\n",
       "      <td>0.850549</td>\n",
       "    </tr>\n",
       "    <tr>\n",
       "      <th>F059</th>\n",
       "      <td>24</td>\n",
       "      <td>F</td>\n",
       "      <td>no</td>\n",
       "      <td>Black</td>\n",
       "      <td>NaN</td>\n",
       "      <td>-0.504356</td>\n",
       "      <td>0.504356</td>\n",
       "    </tr>\n",
       "    <tr>\n",
       "      <th>F060</th>\n",
       "      <td>19</td>\n",
       "      <td>F</td>\n",
       "      <td>no</td>\n",
       "      <td>White</td>\n",
       "      <td>NaN</td>\n",
       "      <td>0.768731</td>\n",
       "      <td>0.768731</td>\n",
       "    </tr>\n",
       "    <tr>\n",
       "      <th>F062</th>\n",
       "      <td>18</td>\n",
       "      <td>M</td>\n",
       "      <td>no</td>\n",
       "      <td>White</td>\n",
       "      <td>NaN</td>\n",
       "      <td>0.275903</td>\n",
       "      <td>0.275903</td>\n",
       "    </tr>\n",
       "    <tr>\n",
       "      <th>F065</th>\n",
       "      <td>21</td>\n",
       "      <td>F</td>\n",
       "      <td>no</td>\n",
       "      <td>Other</td>\n",
       "      <td>NaN</td>\n",
       "      <td>0.531471</td>\n",
       "      <td>0.531471</td>\n",
       "    </tr>\n",
       "    <tr>\n",
       "      <th>F066</th>\n",
       "      <td>18</td>\n",
       "      <td>F</td>\n",
       "      <td>no</td>\n",
       "      <td>Asian</td>\n",
       "      <td>East Asian</td>\n",
       "      <td>0.718502</td>\n",
       "      <td>0.718502</td>\n",
       "    </tr>\n",
       "    <tr>\n",
       "      <th>F067</th>\n",
       "      <td>18</td>\n",
       "      <td>F</td>\n",
       "      <td>yes</td>\n",
       "      <td>White</td>\n",
       "      <td>NaN</td>\n",
       "      <td>0.563998</td>\n",
       "      <td>0.563998</td>\n",
       "    </tr>\n",
       "    <tr>\n",
       "      <th>F068</th>\n",
       "      <td>19</td>\n",
       "      <td>M</td>\n",
       "      <td>no</td>\n",
       "      <td>Asian</td>\n",
       "      <td>East Asian</td>\n",
       "      <td>0.838818</td>\n",
       "      <td>0.838818</td>\n",
       "    </tr>\n",
       "    <tr>\n",
       "      <th>F071</th>\n",
       "      <td>17</td>\n",
       "      <td>F</td>\n",
       "      <td>no</td>\n",
       "      <td>Asian</td>\n",
       "      <td>East Asian</td>\n",
       "      <td>-0.048361</td>\n",
       "      <td>0.048361</td>\n",
       "    </tr>\n",
       "    <tr>\n",
       "      <th>F073</th>\n",
       "      <td>18</td>\n",
       "      <td>M</td>\n",
       "      <td>no</td>\n",
       "      <td>Asian</td>\n",
       "      <td>East Asian</td>\n",
       "      <td>0.512653</td>\n",
       "      <td>0.512653</td>\n",
       "    </tr>\n",
       "    <tr>\n",
       "      <th>F074</th>\n",
       "      <td>27</td>\n",
       "      <td>F</td>\n",
       "      <td>no</td>\n",
       "      <td>White, Asian</td>\n",
       "      <td>East Asian</td>\n",
       "      <td>-0.028594</td>\n",
       "      <td>0.028594</td>\n",
       "    </tr>\n",
       "    <tr>\n",
       "      <th>F075</th>\n",
       "      <td>35</td>\n",
       "      <td>F</td>\n",
       "      <td>no</td>\n",
       "      <td>White</td>\n",
       "      <td>NaN</td>\n",
       "      <td>0.267418</td>\n",
       "      <td>0.267418</td>\n",
       "    </tr>\n",
       "  </tbody>\n",
       "</table>\n",
       "</div>"
      ],
      "text/plain": [
       "      Age Gender Hispanic            Race                   Subcategory  \\\n",
       "F020   21      M       no           Asian                           NaN   \n",
       "F023   20      F       no           White                           NaN   \n",
       "F024   30      M       no           Asian                    East Asian   \n",
       "F025   34      M       no           White                           NaN   \n",
       "F027   21      F       no           Asian               Southeast Asian   \n",
       "F028   23      M       no           Asian                    East Asian   \n",
       "F029   20      M       no           White                           NaN   \n",
       "F030   19      M      yes           White                           NaN   \n",
       "F031   20      M       no           Asian  Indian/Pakistani/South Asian   \n",
       "F032   37      M       no           White                           NaN   \n",
       "F033   18      F       no           Asian                    East Asian   \n",
       "F034   21      M       no           Asian               Southeast Asian   \n",
       "F035   28      F       no           Asian                           NaN   \n",
       "F036   18      F       no           Asian                    East Asian   \n",
       "F037   22      F       no           White                           NaN   \n",
       "F038   24      F       no           White                           NaN   \n",
       "F040   20      F       no           Asian                    East Asian   \n",
       "F041   20      M       no           White                           NaN   \n",
       "F042   36      F       no           White                           NaN   \n",
       "F043   20      F       no    White, Asian                    East Asian   \n",
       "F044   19      M       no           White                           NaN   \n",
       "F045   24      F       no  Middle Eastern                           NaN   \n",
       "F048   22      F       no           White                           NaN   \n",
       "F049   39      F       no           White                           NaN   \n",
       "F052   39      F       no           Black                           NaN   \n",
       "F053   24      F       no           White                           NaN   \n",
       "F054   19      F       no           Asian                    East Asian   \n",
       "F055   22      F       no    White, Asian               Southeast Asian   \n",
       "F056   18      M       no    White, Asian  Indian/Pakistani/South Asian   \n",
       "F058   27      M       no           Asian                    East Asian   \n",
       "F059   24      F       no           Black                           NaN   \n",
       "F060   19      F       no           White                           NaN   \n",
       "F062   18      M       no           White                           NaN   \n",
       "F065   21      F       no           Other                           NaN   \n",
       "F066   18      F       no           Asian                    East Asian   \n",
       "F067   18      F      yes           White                           NaN   \n",
       "F068   19      M       no           Asian                    East Asian   \n",
       "F071   17      F       no           Asian                    East Asian   \n",
       "F073   18      M       no           Asian                    East Asian   \n",
       "F074   27      F       no    White, Asian                    East Asian   \n",
       "F075   35      F       no           White                           NaN   \n",
       "\n",
       "      final_score  abs_score  \n",
       "F020     0.557799   0.557799  \n",
       "F023     0.338327   0.338327  \n",
       "F024     0.386790   0.386790  \n",
       "F025     0.356228   0.356228  \n",
       "F027     0.130399   0.130399  \n",
       "F028     0.516335   0.516335  \n",
       "F029     0.988123   0.988123  \n",
       "F030     0.199459   0.199459  \n",
       "F031     0.084047   0.084047  \n",
       "F032     0.611849   0.611849  \n",
       "F033    -0.131536   0.131536  \n",
       "F034     0.221389   0.221389  \n",
       "F035     0.277242   0.277242  \n",
       "F036    -0.309952   0.309952  \n",
       "F037     0.216540   0.216540  \n",
       "F038     0.308401   0.308401  \n",
       "F040    -0.136236   0.136236  \n",
       "F041     0.625926   0.625926  \n",
       "F042     0.697871   0.697871  \n",
       "F043    -0.090269   0.090269  \n",
       "F044     0.783466   0.783466  \n",
       "F045     0.478291   0.478291  \n",
       "F048     0.771173   0.771173  \n",
       "F049     0.367228   0.367228  \n",
       "F052    -0.121203   0.121203  \n",
       "F053     0.243267   0.243267  \n",
       "F054     0.355945   0.355945  \n",
       "F055    -0.095892   0.095892  \n",
       "F056     0.403217   0.403217  \n",
       "F058     0.850549   0.850549  \n",
       "F059    -0.504356   0.504356  \n",
       "F060     0.768731   0.768731  \n",
       "F062     0.275903   0.275903  \n",
       "F065     0.531471   0.531471  \n",
       "F066     0.718502   0.718502  \n",
       "F067     0.563998   0.563998  \n",
       "F068     0.838818   0.838818  \n",
       "F071    -0.048361   0.048361  \n",
       "F073     0.512653   0.512653  \n",
       "F074    -0.028594   0.028594  \n",
       "F075     0.267418   0.267418  "
      ]
     },
     "metadata": {},
     "output_type": "display_data"
    }
   ],
   "source": [
    "#importing demographics\n",
    "demographics_df = pd.read_excel('DPA_demographics.xlsx')\n",
    "demographics_df = demographics_df.set_index('subj')\n",
    "demo_scores_df = pd.concat([demographics_df, means_df['final_score']], axis = 1)\n",
    "demo_scores_df['abs_score'] = abs(demo_scores_df['final_score'])\n",
    "display(demo_scores_df)"
   ]
  },
  {
   "cell_type": "markdown",
   "metadata": {},
   "source": [
    "### Gender"
   ]
  },
  {
   "cell_type": "code",
   "execution_count": 7,
   "metadata": {},
   "outputs": [
    {
     "data": {
      "text/plain": [
       "<AxesSubplot:ylabel='Gender'>"
      ]
     },
     "execution_count": 7,
     "metadata": {},
     "output_type": "execute_result"
    },
    {
     "data": {
      "image/png": "[encoded data removed]",
      "text/plain": [
       "<Figure size 432x288 with 1 Axes>"
      ]
     },
     "metadata": {},
     "output_type": "display_data"
    }
   ],
   "source": [
    "#pie chart\n",
    "demo_scores_df.Gender.value_counts().plot(kind = 'pie')"
   ]
  },
  {
   "cell_type": "code",
   "execution_count": 8,
   "metadata": {},
   "outputs": [
    {
     "data": {
      "text/plain": [
       "<seaborn.axisgrid.FacetGrid at 0x7fd8a0162e20>"
      ]
     },
     "execution_count": 8,
     "metadata": {},
     "output_type": "execute_result"
    },
    {
     "data": {
      "image/png": "[encoded data removed]",
      "text/plain": [
       "<Figure size 404.375x360 with 1 Axes>"
      ]
     },
     "metadata": {},
     "output_type": "display_data"
    }
   ],
   "source": [
    "sns.displot(data = demo_scores_df, x = \"final_score\", hue = 'Gender', kind = 'kde')"
   ]
  },
  {
   "cell_type": "code",
   "execution_count": 9,
   "metadata": {},
   "outputs": [
    {
     "name": "stdout",
     "output_type": "stream",
     "text": [
      "Ttest_indResult(statistic=2.847401856414154, pvalue=0.00699685316152866)\n",
      "MannwhitneyuResult(statistic=104.0, pvalue=0.005350027517806919)\n"
     ]
    },
    {
     "data": {
      "text/plain": [
       "<AxesSubplot:xlabel='Gender', ylabel='final_score'>"
      ]
     },
     "execution_count": 9,
     "metadata": {},
     "output_type": "execute_result"
    },
    {
     "data": {
      "image/png": "[encoded data removed]",
      "text/plain": [
       "<Figure size 432x288 with 1 Axes>"
      ]
     },
     "metadata": {},
     "output_type": "display_data"
    }
   ],
   "source": [
    "#gender and final score\n",
    "M_scores = demo_scores_df[demo_scores_df['Gender'] == 'M']['final_score']\n",
    "F_scores = demo_scores_df[demo_scores_df['Gender'] == 'F']['final_score']\n",
    "\n",
    "gender_ttest = scipy.stats.ttest_ind(M_scores, F_scores)\n",
    "print(gender_ttest)\n",
    "\n",
    "gender_mannwhitneyu = scipy.stats.mannwhitneyu(M_scores, F_scores)\n",
    "print(gender_mannwhitneyu)\n",
    "\n",
    "sns.boxplot(x = 'Gender', y = 'final_score', data = demo_scores_df)"
   ]
  },
  {
   "cell_type": "code",
   "execution_count": 10,
   "metadata": {},
   "outputs": [
    {
     "name": "stdout",
     "output_type": "stream",
     "text": [
      "Ttest_indResult(statistic=2.222773473575398, pvalue=0.03209802372027642)\n",
      "MannwhitneyuResult(statistic=120.0, pvalue=0.016804704874817267)\n"
     ]
    },
    {
     "data": {
      "text/plain": [
       "<AxesSubplot:xlabel='Gender', ylabel='abs_score'>"
      ]
     },
     "execution_count": 10,
     "metadata": {},
     "output_type": "execute_result"
    },
    {
     "data": {
      "image/png": "[encoded data removed]",
      "text/plain": [
       "<Figure size 432x288 with 1 Axes>"
      ]
     },
     "metadata": {},
     "output_type": "display_data"
    }
   ],
   "source": [
    "#gender and abs value of final score\n",
    "M_abs_scores = demo_scores_df[demo_scores_df['Gender'] == 'M']['abs_score']\n",
    "F_abs_scores = demo_scores_df[demo_scores_df['Gender'] == 'F']['abs_score']\n",
    "\n",
    "gender_abs_ttest = scipy.stats.ttest_ind(M_abs_scores, F_abs_scores)\n",
    "print(gender_abs_ttest)\n",
    "\n",
    "gender_abs_mannwhitneyu = scipy.stats.mannwhitneyu(M_abs_scores, F_abs_scores)\n",
    "print(gender_abs_mannwhitneyu)\n",
    "\n",
    "sns.boxplot(x = 'Gender', y = 'abs_score', data = demo_scores_df)"
   ]
  },
  {
   "cell_type": "markdown",
   "metadata": {},
   "source": [
    "### Age"
   ]
  },
  {
   "cell_type": "code",
   "execution_count": 20,
   "metadata": {},
   "outputs": [
    {
     "name": "stdout",
     "output_type": "stream",
     "text": [
      "Pearson correlation results:(0.004195687733213032, 0.9792296055108064)\n"
     ]
    },
    {
     "data": {
      "text/plain": [
       "<AxesSubplot:xlabel='Age', ylabel='final_score'>"
      ]
     },
     "execution_count": 20,
     "metadata": {},
     "output_type": "execute_result"
    },
    {
     "data": {
      "image/png": "[encoded data removed]",
      "text/plain": [
       "<Figure size 432x288 with 1 Axes>"
      ]
     },
     "metadata": {},
     "output_type": "display_data"
    }
   ],
   "source": [
    "#age and final score\n",
    "age_score_corr = scipy.stats.pearsonr(demo_scores_df['Age'], demo_scores_df['final_score'])\n",
    "print('Pearson correlation results:' + str(age_score_corr))\n",
    "\n",
    "sns.regplot(x = 'Age', y = 'final_score', data = demo_scores_df)"
   ]
  },
  {
   "cell_type": "code",
   "execution_count": 21,
   "metadata": {},
   "outputs": [
    {
     "name": "stdout",
     "output_type": "stream",
     "text": [
      "Pearson correlation results:(-0.034078027515803015, 0.8324822485071772)\n"
     ]
    },
    {
     "data": {
      "text/plain": [
       "<AxesSubplot:xlabel='Age', ylabel='abs_score'>"
      ]
     },
     "execution_count": 21,
     "metadata": {},
     "output_type": "execute_result"
    },
    {
     "data": {
      "image/png": "[encoded data removed]",
      "text/plain": [
       "<Figure size 432x288 with 1 Axes>"
      ]
     },
     "metadata": {},
     "output_type": "display_data"
    }
   ],
   "source": [
    "#age and abs value of final score\n",
    "age_absscore_corr = scipy.stats.pearsonr(demo_scores_df['Age'], demo_scores_df['abs_score'])\n",
    "print('Pearson correlation results:' + str(age_absscore_corr))\n",
    "\n",
    "sns.regplot(x = 'Age', y = 'abs_score', data = demo_scores_df)"
   ]
  },
  {
   "cell_type": "markdown",
   "metadata": {},
   "source": [
    "### Black vs White Stimuli"
   ]
  },
  {
   "cell_type": "code",
   "execution_count": 51,
   "metadata": {},
   "outputs": [
    {
     "name": "stdout",
     "output_type": "stream",
     "text": [
      "Ttest_indResult(statistic=-0.34483526539996406, pvalue=0.7311231603679358)\n",
      "MannwhitneyuResult(statistic=803.0, pvalue=0.3657471355883092)\n"
     ]
    },
    {
     "data": {
      "text/plain": [
       "<AxesSubplot:xlabel='b_stim_score', ylabel='Density'>"
      ]
     },
     "execution_count": 51,
     "metadata": {},
     "output_type": "execute_result"
    },
    {
     "data": {
      "image/png": "[encoded data removed]",
      "text/plain": [
       "<Figure size 432x288 with 1 Axes>"
      ]
     },
     "metadata": {},
     "output_type": "display_data"
    }
   ],
   "source": [
    "stim_race_ttest = scipy.stats.ttest_ind(means_df['b_stim_score'], means_df['w_stim_score'])\n",
    "print(stim_race_ttest)\n",
    "\n",
    "stim_race_mannwhitneyu = scipy.stats.mannwhitneyu(means_df['b_stim_score'], means_df['w_stim_score'])\n",
    "print(stim_race_mannwhitneyu)\n",
    "\n",
    "sns.kdeplot(data = means_df, x = \"b_stim_score\")\n",
    "sns.kdeplot(data = means_df, x = \"w_stim_score\")"
   ]
  },
  {
   "cell_type": "markdown",
   "metadata": {},
   "source": [
    "## Online"
   ]
  },
  {
   "cell_type": "code",
   "execution_count": 12,
   "metadata": {
    "ExecuteTime": {
     "end_time": "2021-02-27T03:52:42.422159Z",
     "start_time": "2021-02-27T03:52:38.158108Z"
    }
   },
   "outputs": [],
   "source": [
    "scope = ['https://spreadsheets.google.com/feeds',\n",
    "         'https://www.googleapis.com/auth/drive']\n",
    "\n",
    "credentials = ServiceAccountCredentials.from_json_keyfile_name(\n",
    "         '../online/DPAProject-083039688e6a.json', scope) # Your json file here\n",
    "\n",
    "gc = gspread.authorize(credentials)\n",
    "wks = gc.open(\"Subject Log\").sheet1\n",
    "\n",
    "data = wks.get_all_values()\n",
    "headers = data.pop(0)\n",
    "\n",
    "df_subj_qual = pd.DataFrame(data, columns=headers)"
   ]
  },
  {
   "cell_type": "code",
   "execution_count": 13,
   "metadata": {
    "ExecuteTime": {
     "end_time": "2021-02-27T03:52:43.797344Z",
     "start_time": "2021-02-27T03:52:42.425041Z"
    }
   },
   "outputs": [],
   "source": [
    "wks = gc.open(\"Subject Log\").worksheets()[1]\n",
    "\n",
    "data = wks.get_all_values()\n",
    "headers = data.pop(0)\n",
    "\n",
    "df_online = pd.DataFrame(data, columns=headers)"
   ]
  },
  {
   "cell_type": "code",
   "execution_count": 14,
   "metadata": {
    "ExecuteTime": {
     "end_time": "2021-02-27T03:52:43.811919Z",
     "start_time": "2021-02-27T03:52:43.800074Z"
    }
   },
   "outputs": [],
   "source": [
    "all_subjs = df_subj_qual[df_subj_qual['Date Finished'] == \"\"][\"Subject ID\"]\n",
    "all_subjs_df = df_online[df_online['Subject ID'].isin(all_subjs)]"
   ]
  },
  {
   "cell_type": "code",
   "execution_count": 15,
   "metadata": {
    "ExecuteTime": {
     "end_time": "2021-02-27T03:52:43.838449Z",
     "start_time": "2021-02-27T03:52:43.815687Z"
    }
   },
   "outputs": [],
   "source": [
    "raw_scores_df = raw_scores_df.join(all_subjs_df.set_index('Subject ID')[['AQ Score', 'EQ Score', 'STAI Y1', 'STAI Y2', 'CFMT - Australian', 'PI 20']])\n",
    "raw_scores_df = raw_scores_df.replace('-', np.nan)\n",
    "raw_scores_df = raw_scores_df.replace('', np.nan)\n",
    "raw_scores_df = raw_scores_df.astype(float)\n",
    "raw_scores_df.rename(columns ={'AQ Score': 'AQ', 'EQ Score': 'EQ', 'STAI Y1': 'STAI_Y1', 'STAI Y2': 'STAI_Y2', 'CFMT - Australian': 'CFMT_aus', 'PI 20': 'PI20'}, inplace=True)"
   ]
  },
  {
   "cell_type": "markdown",
   "metadata": {},
   "source": [
    "## Export"
   ]
  },
  {
   "cell_type": "code",
   "execution_count": 16,
   "metadata": {
    "ExecuteTime": {
     "end_time": "2021-02-27T03:52:43.913288Z",
     "start_time": "2021-02-27T03:52:43.841191Z"
    }
   },
   "outputs": [],
   "source": [
    "raw_scores_df.to_csv('results/raw_scores_32220.csv')\n",
    "perc_scores_df.to_csv('results/perc_scores_32220.csv')"
   ]
  },
  {
   "cell_type": "markdown",
   "metadata": {},
   "source": [
    "# Analysis"
   ]
  },
  {
   "cell_type": "markdown",
   "metadata": {},
   "source": [
    "## Factor Analysis"
   ]
  },
  {
   "cell_type": "code",
   "execution_count": 17,
   "metadata": {
    "ExecuteTime": {
     "end_time": "2021-02-27T03:52:44.366047Z",
     "start_time": "2021-02-27T03:52:43.915822Z"
    }
   },
   "outputs": [
    {
     "ename": "ModuleNotFoundError",
     "evalue": "No module named 'factor_analyzer'",
     "output_type": "error",
     "traceback": [
      "\u001b[0;31m---------------------------------------------------------------------------\u001b[0m",
      "\u001b[0;31mModuleNotFoundError\u001b[0m                       Traceback (most recent call last)",
      "\u001b[0;32m<ipython-input-17-2ff5db1ed359>\u001b[0m in \u001b[0;36m<module>\u001b[0;34m\u001b[0m\n\u001b[0;32m----> 1\u001b[0;31m \u001b[0;32mfrom\u001b[0m \u001b[0mfactor_analyzer\u001b[0m \u001b[0;32mimport\u001b[0m \u001b[0mFactorAnalyzer\u001b[0m\u001b[0;34m\u001b[0m\u001b[0;34m\u001b[0m\u001b[0m\n\u001b[0m\u001b[1;32m      2\u001b[0m \u001b[0mx_factor\u001b[0m \u001b[0;34m=\u001b[0m \u001b[0mraw_scores_df\u001b[0m\u001b[0;34m.\u001b[0m\u001b[0mloc\u001b[0m\u001b[0;34m[\u001b[0m\u001b[0;34m:\u001b[0m\u001b[0;34m,\u001b[0m \u001b[0;34m:\u001b[0m\u001b[0;34m'GD'\u001b[0m\u001b[0;34m]\u001b[0m\u001b[0;34m.\u001b[0m\u001b[0mjoin\u001b[0m\u001b[0;34m(\u001b[0m\u001b[0mraw_scores_df\u001b[0m\u001b[0;34m[\u001b[0m\u001b[0;34m'CFMT_aus'\u001b[0m\u001b[0;34m]\u001b[0m\u001b[0;34m)\u001b[0m\u001b[0;34m\u001b[0m\u001b[0;34m\u001b[0m\u001b[0m\n\u001b[1;32m      3\u001b[0m \u001b[0mfa\u001b[0m \u001b[0;34m=\u001b[0m \u001b[0mFactorAnalyzer\u001b[0m\u001b[0;34m(\u001b[0m\u001b[0mrotation\u001b[0m\u001b[0;34m=\u001b[0m\u001b[0;32mNone\u001b[0m\u001b[0;34m)\u001b[0m\u001b[0;34m\u001b[0m\u001b[0;34m\u001b[0m\u001b[0m\n\u001b[1;32m      4\u001b[0m \u001b[0mfa\u001b[0m\u001b[0;34m.\u001b[0m\u001b[0mfit\u001b[0m\u001b[0;34m(\u001b[0m\u001b[0mx_factor\u001b[0m\u001b[0;34m)\u001b[0m\u001b[0;34m\u001b[0m\u001b[0;34m\u001b[0m\u001b[0m\n",
      "\u001b[0;31mModuleNotFoundError\u001b[0m: No module named 'factor_analyzer'"
     ]
    }
   ],
   "source": [
    "from factor_analyzer import FactorAnalyzer\n",
    "x_factor = raw_scores_df.loc[:, :'GD'].join(raw_scores_df['CFMT_aus'])\n",
    "fa = FactorAnalyzer(rotation=None)\n",
    "fa.fit(x_factor)"
   ]
  },
  {
   "cell_type": "code",
   "execution_count": null,
   "metadata": {
    "ExecuteTime": {
     "end_time": "2021-02-27T03:52:44.374345Z",
     "start_time": "2021-02-27T03:51:48.435Z"
    }
   },
   "outputs": [],
   "source": [
    "eig, v = fa.get_eigenvalues()\n",
    "plt.scatter(range(0, len(eig)), eig)\n",
    "plt.plot(range(0, len(eig)), eig)"
   ]
  },
  {
   "cell_type": "code",
   "execution_count": null,
   "metadata": {
    "ExecuteTime": {
     "end_time": "2021-02-27T03:52:44.375644Z",
     "start_time": "2021-02-27T03:51:48.442Z"
    }
   },
   "outputs": [],
   "source": [
    "fa = FactorAnalyzer(rotation='promax', n_factors =4)\n",
    "fa.fit(x_factor)"
   ]
  },
  {
   "cell_type": "code",
   "execution_count": null,
   "metadata": {
    "ExecuteTime": {
     "end_time": "2021-02-27T03:52:44.377047Z",
     "start_time": "2021-02-27T03:51:48.447Z"
    }
   },
   "outputs": [],
   "source": [
    "factor_df = pd.DataFrame(index = x_factor.columns, columns = ['factor1', 'factor2', 'factor3', 'factor4'], data = fa.loadings_)\n",
    "# factor_df.reindex(['CFMT', 'CFMT_aus', 'BFMT', 'FF', 'CCMT', 'BET', 'EH', 'MIE', 'Films', 'GD'])"
   ]
  },
  {
   "cell_type": "code",
   "execution_count": null,
   "metadata": {
    "ExecuteTime": {
     "end_time": "2021-02-27T03:52:44.378380Z",
     "start_time": "2021-02-27T03:51:48.455Z"
    }
   },
   "outputs": [],
   "source": [
    "def label_point_from_df(x_label, y_label, df, ax):\n",
    "    texts = []\n",
    "    for i, point in df.iterrows():\n",
    "        texts.append(ax.text(point[x_label], point[y_label], point.name))\n",
    "    adjust_text(texts)"
   ]
  },
  {
   "cell_type": "code",
   "execution_count": null,
   "metadata": {
    "ExecuteTime": {
     "end_time": "2021-02-27T03:52:44.379685Z",
     "start_time": "2021-02-27T03:51:48.460Z"
    }
   },
   "outputs": [],
   "source": [
    "from adjustText import adjust_text\n",
    "\n",
    "\n",
    "plt.rcParams.update({'font.size': 13})\n",
    "ax = sns.scatterplot(x= 'factor1', y='factor2', data = factor_df)\n",
    "label_point_from_df('factor1', 'factor2', factor_df, ax)"
   ]
  },
  {
   "cell_type": "code",
   "execution_count": null,
   "metadata": {
    "ExecuteTime": {
     "end_time": "2021-02-27T03:52:44.381561Z",
     "start_time": "2021-02-27T03:51:48.465Z"
    }
   },
   "outputs": [],
   "source": [
    "plt.rcParams.update({'font.size': 13})\n",
    "ax = sns.scatterplot(x= 'factor2', y='factor3', data = factor_df)\n",
    "label_point_from_df('factor2', 'factor3', factor_df, ax)"
   ]
  },
  {
   "cell_type": "code",
   "execution_count": null,
   "metadata": {
    "ExecuteTime": {
     "end_time": "2021-02-27T03:52:44.383030Z",
     "start_time": "2021-02-27T03:51:48.471Z"
    }
   },
   "outputs": [],
   "source": [
    "plt.rcParams.update({'font.size': 13})\n",
    "ax = sns.scatterplot(x= 'factor3', y='factor4', data = factor_df)\n",
    "label_point_from_df('factor3', 'factor4', factor_df, ax)"
   ]
  },
  {
   "cell_type": "code",
   "execution_count": null,
   "metadata": {
    "ExecuteTime": {
     "end_time": "2021-02-27T03:52:44.384578Z",
     "start_time": "2021-02-27T03:51:48.477Z"
    }
   },
   "outputs": [],
   "source": [
    "transform_df = pd.DataFrame(index = x_factor.index, columns = ['factor1', 'factor2', 'factor3', 'factor4'], data = fa.transform(x_factor))\n",
    "transform_df = transform_df.join(raw_scores_df[['AQ', 'EQ', 'STAI_Y1', 'STAI_Y2']])"
   ]
  },
  {
   "cell_type": "code",
   "execution_count": null,
   "metadata": {
    "ExecuteTime": {
     "end_time": "2021-02-27T03:52:44.386013Z",
     "start_time": "2021-02-27T03:51:48.483Z"
    }
   },
   "outputs": [],
   "source": [
    "plt.figure(figsize = (15, 10))\n",
    "sns.heatmap(transform_df.corr(), annot=True)"
   ]
  },
  {
   "cell_type": "code",
   "execution_count": null,
   "metadata": {
    "ExecuteTime": {
     "end_time": "2021-02-27T03:52:44.387703Z",
     "start_time": "2021-02-27T03:51:48.489Z"
    },
    "scrolled": true
   },
   "outputs": [],
   "source": [
    "# p_values = calculate_pvalues(transform_df.astype(float)).values\n",
    "\n",
    "perm_pvalue = []\n",
    "transform_df = transform_df.astype(float)\n",
    "for col_1 in transform_df.columns:\n",
    "    row_pvalue = []\n",
    "    for col_2 in transform_df.columns:\n",
    "        print(col_1, col_2)\n",
    "        perm_df = permutation_test(transform_df, col_1, col_2, 1000)\n",
    "        corr_par = transform_df[[col_1, col_2]].corr().iloc[0, 1]\n",
    "        row_pvalue.append(np.sum(np.abs(perm_df['perm_corr']) > np.abs(corr_par))/1000)\n",
    "    perm_pvalue.append(row_pvalue)\n",
    "        "
   ]
  },
  {
   "cell_type": "code",
   "execution_count": null,
   "metadata": {
    "ExecuteTime": {
     "end_time": "2021-02-27T03:52:44.389030Z",
     "start_time": "2021-02-27T03:51:48.494Z"
    }
   },
   "outputs": [],
   "source": [
    "pvalues_df = pd.DataFrame(perm_pvalue, columns = transform_df.columns, index = transform_df.columns)"
   ]
  },
  {
   "cell_type": "code",
   "execution_count": null,
   "metadata": {
    "ExecuteTime": {
     "end_time": "2021-02-27T03:52:44.390205Z",
     "start_time": "2021-02-27T03:51:48.499Z"
    }
   },
   "outputs": [],
   "source": [
    "plt.figure(figsize=(15, 15))\n",
    "p_values_df = pvalues_df.loc[transform_df.columns, transform_df.columns]\n",
    "labels =transform_df.columns\n",
    "\n",
    "# mask = np.triu(np.ones_like(transform_df.astype(float).corr(), dtype=np.bool))\n",
    "# ax = sns.heatmap(transform_df.astype(float).corr(), mask=mask, annot = True, cmap = 'RdBu', xticklabels=labels, yticklabels=labels)\n",
    "ax = sns.heatmap(transform_df.astype(float).corr(), annot = True, cmap = 'RdBu_r', xticklabels=labels, yticklabels=labels)\n",
    "for y_i, row in enumerate(p_values_df.values):\n",
    "    for x_i, cell in enumerate(row):\n",
    "        if cell < 0.05:\n",
    "            ax.add_patch(Rectangle((x_i, y_i), 1, 1, fill=False, edgecolor = 'black', lw=3))\n",
    "plt.show()"
   ]
  },
  {
   "cell_type": "markdown",
   "metadata": {},
   "source": [
    "## PCA"
   ]
  },
  {
   "cell_type": "code",
   "execution_count": null,
   "metadata": {
    "ExecuteTime": {
     "end_time": "2021-02-27T03:52:44.394122Z",
     "start_time": "2021-02-27T03:51:48.509Z"
    }
   },
   "outputs": [],
   "source": [
    "from sklearn.decomposition import PCA\n",
    "pca_df = x_factor\n",
    "D = pca_df.values\n",
    "pca_n = D.shape[0]\n",
    "#Center Data\n",
    "pca_means = np.mean(D, axis = 0)\n",
    "X = (D - pca_means)/np.sqrt(pca_n)\n",
    "\n",
    "pca = PCA()\n",
    "pcs = pca.fit_transform(X)"
   ]
  },
  {
   "cell_type": "code",
   "execution_count": null,
   "metadata": {
    "ExecuteTime": {
     "end_time": "2021-02-27T03:52:44.396374Z",
     "start_time": "2021-02-27T03:51:48.514Z"
    }
   },
   "outputs": [],
   "source": [
    "pca_df['pc1'] = pcs[:, 0]\n",
    "pca_df['pc2'] = pcs[:, 1]\n",
    "pca_df['pc3'] = pcs[:, 2]"
   ]
  },
  {
   "cell_type": "code",
   "execution_count": null,
   "metadata": {
    "ExecuteTime": {
     "end_time": "2021-02-27T03:52:44.398148Z",
     "start_time": "2021-02-27T03:51:48.522Z"
    }
   },
   "outputs": [],
   "source": [
    "features_df = pd.DataFrame(columns = ['pc1', 'pc2', 'pc3'], index=pca_df.columns[:-3])\n",
    "t_features = pca.components_.T * np.sqrt(pca.explained_variance_)\n",
    "features_df['pc1'] = t_features[:, 0]\n",
    "features_df['pc2'] = t_features[:, 1]\n",
    "features_df['pc3'] = t_features[:, 2]\n",
    "\n",
    "\n"
   ]
  },
  {
   "cell_type": "code",
   "execution_count": null,
   "metadata": {
    "ExecuteTime": {
     "end_time": "2021-02-27T03:52:44.400084Z",
     "start_time": "2021-02-27T03:51:48.529Z"
    }
   },
   "outputs": [],
   "source": [
    "from adjustText import adjust_text\n",
    "\n",
    "\n",
    "plt.rcParams.update({'font.size': 13})\n",
    "ax = sns.scatterplot(x= 'pc1', y='pc2', data = features_df)\n",
    "label_point_from_df('pc1', 'pc2', features_df, ax)"
   ]
  },
  {
   "cell_type": "code",
   "execution_count": null,
   "metadata": {
    "ExecuteTime": {
     "end_time": "2021-02-27T03:52:44.401903Z",
     "start_time": "2021-02-27T03:51:48.534Z"
    }
   },
   "outputs": [],
   "source": [
    "plt.rcParams.update({'font.size': 13})\n",
    "ax = sns.scatterplot(x= 'pc2', y='pc3', data = features_df)\n",
    "label_point_from_df('pc2', 'pc3', features_df, ax)"
   ]
  },
  {
   "cell_type": "code",
   "execution_count": null,
   "metadata": {
    "ExecuteTime": {
     "end_time": "2021-02-27T03:52:44.403251Z",
     "start_time": "2021-02-27T03:51:48.538Z"
    }
   },
   "outputs": [],
   "source": [
    "pca_df.join(raw_scores_df[['AQ', 'EQ', 'STAI_Y1', 'STAI_Y2']]).loc[:, 'pc1':].corr().round(2)"
   ]
  },
  {
   "cell_type": "markdown",
   "metadata": {},
   "source": [
    "## Correlations"
   ]
  },
  {
   "cell_type": "code",
   "execution_count": null,
   "metadata": {
    "ExecuteTime": {
     "end_time": "2021-02-27T03:52:44.405643Z",
     "start_time": "2021-02-27T03:51:48.541Z"
    }
   },
   "outputs": [],
   "source": [
    "from scipy.stats import pearsonr\n",
    "import pandas as pd\n",
    "\n",
    "def calculate_pvalues(df):\n",
    "    df = df.dropna()._get_numeric_data()\n",
    "    dfcols = pd.DataFrame(columns=df.columns)\n",
    "    pvalues = dfcols.transpose().join(dfcols, how='outer')\n",
    "    for r in df.columns:\n",
    "        for c in df.columns:\n",
    "            pvalues[r][c] = round(pearsonr(df[r], df[c])[1], 4)\n",
    "    return pvalues"
   ]
  },
  {
   "cell_type": "code",
   "execution_count": null,
   "metadata": {
    "ExecuteTime": {
     "end_time": "2021-02-27T03:52:44.407490Z",
     "start_time": "2021-02-27T03:51:48.544Z"
    }
   },
   "outputs": [],
   "source": [
    "from sklearn.utils import shuffle\n",
    "\n",
    "\n",
    "def permutation_test(df, y, x, times_shuffle):\n",
    "    np.random.seed(1000)\n",
    "    perm_df = pd.DataFrame()\n",
    "    for i in range(times_shuffle):\n",
    "        y_shuffle = shuffle(df[y]).reset_index(drop=True)\n",
    "        shuffle_df = df[[x]].reset_index(drop=True)\n",
    "        shuffle_df[y] = y_shuffle\n",
    "\n",
    "        corr = shuffle_df[[y, x]].corr().iloc[0, 1]\n",
    "        perm_df.loc[i, 'perm_corr'] = corr\n",
    "    return perm_df"
   ]
  },
  {
   "cell_type": "code",
   "execution_count": null,
   "metadata": {
    "ExecuteTime": {
     "end_time": "2021-02-27T03:52:44.409424Z",
     "start_time": "2021-02-27T03:51:48.547Z"
    },
    "scrolled": true
   },
   "outputs": [],
   "source": [
    "# p_values = calculate_pvalues(raw_scores_df.astype(float)).values\n",
    "\n",
    "perm_pvalue = []\n",
    "raw_scores_df = raw_scores_df.astype(float)\n",
    "for col_1 in raw_scores_df.columns:\n",
    "    row_pvalue = []\n",
    "    for col_2 in raw_scores_df.columns:\n",
    "        print(col_1, col_2)\n",
    "        perm_df = permutation_test(raw_scores_df, col_1, col_2, 1000)\n",
    "        corr_par = raw_scores_df[[col_1, col_2]].corr().iloc[0, 1]\n",
    "        row_pvalue.append(np.sum(np.abs(perm_df['perm_corr']) > np.abs(corr_par))/1000)\n",
    "    perm_pvalue.append(row_pvalue)\n",
    "        "
   ]
  },
  {
   "cell_type": "code",
   "execution_count": null,
   "metadata": {
    "ExecuteTime": {
     "end_time": "2021-02-27T03:52:44.413738Z",
     "start_time": "2021-02-27T03:51:48.550Z"
    }
   },
   "outputs": [],
   "source": [
    "pvalues_df = pd.DataFrame(perm_pvalue, columns = raw_scores_df.columns, index = raw_scores_df.columns)"
   ]
  },
  {
   "cell_type": "code",
   "execution_count": null,
   "metadata": {
    "ExecuteTime": {
     "end_time": "2021-02-27T03:52:44.415890Z",
     "start_time": "2021-02-27T03:51:48.555Z"
    },
    "scrolled": false
   },
   "outputs": [],
   "source": [
    "plt.figure(figsize=(15, 15))\n",
    "raw_scores_df = raw_scores_df[['CFMT', 'CFMT_aus', 'BFMT', 'FF', 'CCMT', 'PI20', 'BET', 'EH', 'MIE', 'Films', 'GD', 'AQ', 'EQ', 'STAI_Y1', 'STAI_Y2']]\n",
    "p_values_df = pvalues_df.loc[raw_scores_df.columns, raw_scores_df.columns]\n",
    "labels = ['CFMT', 'CFMT Australian', 'Brads FMT', 'Famous Faces', 'CCMT', 'PI20', 'Bhismas Emotion Task', 'Emotion Hexagon', 'Mind in the Eyes', 'Films Task', 'Gaze Direction', 'AQ', 'EQ', 'STAI_Y1', 'STAI_Y2']\n",
    "\n",
    "# mask = np.triu(np.ones_like(raw_scores_df.astype(float).corr(), dtype=np.bool))\n",
    "# ax = sns.heatmap(raw_scores_df.astype(float).corr(), mask=mask, annot = True, cmap = 'RdBu', xticklabels=labels, yticklabels=labels)\n",
    "ax = sns.heatmap(raw_scores_df.astype(float).corr(), annot = True, cmap = 'RdBu_r', xticklabels=labels, yticklabels=labels)\n",
    "for y_i, row in enumerate(p_values_df.values):\n",
    "    for x_i, cell in enumerate(row):\n",
    "        if cell < 0.05:\n",
    "            ax.add_patch(Rectangle((x_i, y_i), 1, 1, fill=False, edgecolor = 'black', lw=3))\n",
    "plt.show()"
   ]
  },
  {
   "cell_type": "code",
   "execution_count": null,
   "metadata": {
    "ExecuteTime": {
     "end_time": "2021-02-27T03:52:44.418389Z",
     "start_time": "2021-02-27T03:51:48.558Z"
    }
   },
   "outputs": [],
   "source": [
    "sns.regplot(x = 'AQ', y = 'CFMT_aus', data = raw_scores_df.astype(float))\n",
    "print (pearsonr(raw_scores_df['AQ'].astype(float), raw_scores_df['CFMT_aus'].astype(float)))"
   ]
  },
  {
   "cell_type": "code",
   "execution_count": null,
   "metadata": {
    "ExecuteTime": {
     "end_time": "2021-02-27T03:52:44.420263Z",
     "start_time": "2021-02-27T03:51:48.562Z"
    }
   },
   "outputs": [],
   "source": [
    "sns.regplot(x = 'STAI_Y2', y = 'CFMT_aus', data = raw_scores_df.astype(float))\n",
    "print (pearsonr(raw_scores_df['STAI_Y2'].astype(float), raw_scores_df['CFMT'].astype(float)))"
   ]
  },
  {
   "cell_type": "code",
   "execution_count": null,
   "metadata": {
    "ExecuteTime": {
     "end_time": "2021-02-27T03:52:44.421756Z",
     "start_time": "2021-02-27T03:51:48.568Z"
    }
   },
   "outputs": [],
   "source": [
    "p_values = calculate_pvalues(raw_scores_df.astype(float)).values\n",
    "pd.DataFrame(data= p_values)"
   ]
  },
  {
   "cell_type": "markdown",
   "metadata": {},
   "source": [
    "## Histograms"
   ]
  },
  {
   "cell_type": "code",
   "execution_count": null,
   "metadata": {
    "ExecuteTime": {
     "end_time": "2021-02-27T03:52:44.422967Z",
     "start_time": "2021-02-27T03:51:48.572Z"
    }
   },
   "outputs": [],
   "source": [
    "fig, ax = plt.subplots(3, 5)\n",
    "fig.set_figwidth(30)\n",
    "fig.set_figheight(20)\n",
    "ax = ax.ravel()\n",
    "for i, col in enumerate(raw_scores_df.columns):\n",
    "    ax[i].hist(raw_scores_df[col], bins=10)\n",
    "    ax[i].set_title(col)"
   ]
  }
 ],
 "metadata": {
  "kernelspec": {
   "display_name": "Python 3",
   "language": "python",
   "name": "python3"
  },
  "language_info": {
   "codemirror_mode": {
    "name": "ipython",
    "version": 3
   },
   "file_extension": ".py",
   "mimetype": "text/x-python",
   "name": "python",
   "nbconvert_exporter": "python",
   "pygments_lexer": "ipython3",
   "version": "3.8.3"
  },
  "toc": {
   "base_numbering": 1,
   "nav_menu": {},
   "number_sections": true,
   "sideBar": true,
   "skip_h1_title": false,
   "title_cell": "Table of Contents",
   "title_sidebar": "Contents",
   "toc_cell": false,
   "toc_position": {
    "height": "calc(100% - 180px)",
    "left": "10px",
    "top": "150px",
    "width": "165px"
   },
   "toc_section_display": true,
   "toc_window_display": true
  },
  "varInspector": {
   "cols": {
    "lenName": 16,
    "lenType": 16,
    "lenVar": 40
   },
   "kernels_config": {
    "python": {
     "delete_cmd_postfix": "",
     "delete_cmd_prefix": "del ",
     "library": "var_list.py",
     "varRefreshCmd": "print(var_dic_list())"
    },
    "r": {
     "delete_cmd_postfix": ") ",
     "delete_cmd_prefix": "rm(",
     "library": "var_list.r",
     "varRefreshCmd": "cat(var_dic_list()) "
    }
   },
   "types_to_exclude": [
    "module",
    "function",
    "builtin_function_or_method",
    "instance",
    "_Feature"
   ],
   "window_display": false
  }
 },
 "nbformat": 4,
 "nbformat_minor": 2
}
