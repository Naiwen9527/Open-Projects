{
  "nbformat": 4,
  "nbformat_minor": 0,
  "metadata": {
    "kernelspec": {
      "display_name": "Python 3",
      "language": "python",
      "name": "python3"
    },
    "language_info": {
      "codemirror_mode": {
        "name": "ipython",
        "version": 3
      },
      "file_extension": ".py",
      "mimetype": "text/x-python",
      "name": "python",
      "nbconvert_exporter": "python",
      "pygments_lexer": "ipython3",
      "version": "3.8.3"
    },
    "toc": {
      "base_numbering": 1,
      "nav_menu": {},
      "number_sections": true,
      "sideBar": true,
      "skip_h1_title": false,
      "title_cell": "Table of Contents",
      "title_sidebar": "Contents",
      "toc_cell": false,
      "toc_position": {
        "height": "calc(100% - 180px)",
        "left": "10px",
        "top": "150px",
        "width": "165px"
      },
      "toc_section_display": true,
      "toc_window_display": true
    },
    "varInspector": {
      "cols": {
        "lenName": 16,
        "lenType": 16,
        "lenVar": 40
      },
      "kernels_config": {
        "python": {
          "delete_cmd_postfix": "",
          "delete_cmd_prefix": "del ",
          "library": "var_list.py",
          "varRefreshCmd": "print(var_dic_list())"
        },
        "r": {
          "delete_cmd_postfix": ") ",
          "delete_cmd_prefix": "rm(",
          "library": "var_list.r",
          "varRefreshCmd": "cat(var_dic_list()) "
        }
      },
      "types_to_exclude": [
        "module",
        "function",
        "builtin_function_or_method",
        "instance",
        "_Feature"
      ],
      "window_display": false
    },
    "colab": {
      "name": "Analyze Behave Tasks Final (1).ipynb",
      "provenance": [],
      "collapsed_sections": [
        "WSucU9YxF_3B",
        "EYITy4NtF_3D",
        "_DM3kxKRF_3F",
        "uu_o4n9iF_3G",
        "qA10a9r1F_3H",
        "QUktxv1zF_3I",
        "hObVsF04F_3K",
        "ADB1UID4F_3L",
        "oP7ZkWIDF_3M",
        "HWsALJkcF_3O",
        "vTvQ4Z_sF_3Q",
        "iJ3dOeNbF_3R",
        "6_iIiv4-F_3X",
        "BVJCve-7F_3Z",
        "d4w_thEtF_3b"
      ]
    }
  },
  "cells": [
    {
      "cell_type": "markdown",
      "metadata": {
        "id": "8CZvaC-IF_24"
      },
      "source": [
        "# Description/How to Use"
      ]
    },
    {
      "cell_type": "markdown",
      "metadata": {
        "id": "ML4Vrqd8F_26"
      },
      "source": [
        "Please message Susan with any issues.\n",
        "\n",
        "**Making sure that the code is up to date with my code**\n",
        "- git remote add upstream https://github.com/susanhao/DPA_Project.git\n",
        "- git remote -v\n",
        "- git fetch upstream\n",
        "- git checkout master\n",
        "- git merge upstream/master\n",
        "\n",
        "**Directory Setup**\n",
        "- you should being using git to directly pull and push the folders Analysis and Data\n",
        "- in the Data folder --> behavioral logs will go into the behavioral folder.  \n",
        " -Put the log files from google drive in the appropriate folders.  \n",
        "   -download whole behavioral logs folder from google drive\n",
        " -Download the qualtrics csv from the behavioral session and put it in the correct folder.\n",
        "- Once you have all the data in the Data folder up to date, you can start running this script.\n",
        "\n",
        "**Running this Script**\n",
        "- you should have jupyter notebook already installed (that's how you can view this)\n",
        "- you should also have nbextensions installed\n",
        " - https://github.com/ipython-contrib/jupyter_contrib_nbextensions\n",
        " - please make sure that TOC (table of contents) is turned on\n",
        " - in the script you can press the TOC icon at the top to see the contents\n",
        "- please run every cell of this script\n",
        " - you can press CTRL + SHIFT to run something\n",
        "- at the end of the script, we will save our results \n",
        "\n",
        "**Pushing to Github**\n",
        "- git add .\n",
        "- git commit -m \"message (ie what subject you analyzed)\"\n",
        "- git push -u origin master\n"
      ]
    },
    {
      "cell_type": "markdown",
      "metadata": {
        "id": "vXgjEWvoF_29"
      },
      "source": [
        "# Setup"
      ]
    },
    {
      "cell_type": "code",
      "metadata": {
        "colab": {
          "base_uri": "https://localhost:8080/"
        },
        "id": "1oScYd_pGO1E",
        "outputId": "1b06cd88-0945-4e65-ea6a-533fbb0b13ab"
      },
      "source": [
        "import csv\n",
        "import os\n",
        "import pandas as pd\n",
        "import numpy as np\n",
        "import re\n",
        "import itertools\n",
        "\n",
        "#visualization imports\n",
        "from mpl_toolkits.mplot3d import Axes3D\n",
        "import matplotlib.animation\n",
        "import seaborn as sns\n",
        "sns.set_style(\"white\")\n",
        "import matplotlib.pyplot as plt\n",
        "\n",
        "\n",
        "#stats imports\n",
        "import statsmodels.api as sm\n",
        "import statsmodels.formula.api as smf\n",
        "from sklearn import datasets, linear_model\n",
        "from sklearn.model_selection import train_test_split\n",
        "from sklearn import feature_selection\n",
        "from sklearn.linear_model import LinearRegression\n",
        "\n",
        "#pandas stuff\n",
        "pd.options.mode.chained_assignment = None  # default='warn'\n",
        "pd.options.display.max_rows = 70\n"
      ],
      "execution_count": 1,
      "outputs": [
        {
          "output_type": "stream",
          "text": [
            "/usr/local/lib/python3.7/dist-packages/statsmodels/tools/_testing.py:19: FutureWarning: pandas.util.testing is deprecated. Use the functions in the public API at pandas.testing instead.\n",
            "  import pandas.util.testing as tm\n"
          ],
          "name": "stderr"
        }
      ]
    },
    {
      "cell_type": "code",
      "metadata": {
        "ExecuteTime": {
          "end_time": "2021-02-27T03:52:15.562986Z",
          "start_time": "2021-02-27T03:52:15.552184Z"
        },
        "id": "Kgcoe1C6F_2_"
      },
      "source": [
        "#put data directory here\n",
        "dir_logs = '../../Data/behavioral/behavioral logs/'\n",
        "dir_answer = 'answer_keys/'\n",
        "\n",
        "raw_scores_df = pd.DataFrame()\n",
        "perc_scores_df = pd.DataFrame()\n",
        "task_logs = {i.split('_')[0]: i for i in os.listdir(dir_logs)}\n",
        "\n",
        "#Put excluded/withdrawn subjs here\n",
        "excluded_subjs = ['DPA_F016','DPA_F039', 'DPA_F046', 'DPA_F047', 'DPA_F050', 'DPA_F051',\n",
        "                 'DPA_F057', 'DPA_F061', 'DPA_F063', 'DPA_F064', 'DPA_F069', 'DPA_F070', 'DPA_F072']"
      ],
      "execution_count": null,
      "outputs": []
    },
    {
      "cell_type": "code",
      "metadata": {
        "id": "l8HaBpGBF_3A"
      },
      "source": [
        "#basic imports\n",
        "import csv\n",
        "import os\n",
        "import pandas as pd\n",
        "import numpy as np\n",
        "import re\n",
        "import itertools\n",
        "\n",
        "#visualization imports\n",
        "from mpl_toolkits.mplot3d import Axes3D\n",
        "import matplotlib.animation\n",
        "import seaborn as sns\n",
        "sns.set_style(\"white\")\n",
        "import matplotlib.pyplot as plt\n",
        "\n",
        "\n",
        "#stats imports\n",
        "import statsmodels.api as sm\n",
        "import statsmodels.formula.api as smf\n",
        "from sklearn import datasets, linear_model\n",
        "from sklearn.model_selection import train_test_split\n",
        "from sklearn import feature_selection\n",
        "from sklearn.linear_model import LinearRegression\n",
        "\n",
        "#pandas stuff\n",
        "pd.options.mode.chained_assignment = None  # default='warn'\n",
        "pd.options.display.max_rows = 70\n"
      ],
      "execution_count": 2,
      "outputs": []
    },
    {
      "cell_type": "markdown",
      "metadata": {
        "id": "7Cy3Njx3F_3A"
      },
      "source": [
        "# Get Task Scores"
      ]
    },
    {
      "cell_type": "markdown",
      "metadata": {
        "collapsed": true,
        "id": "WSucU9YxF_3B"
      },
      "source": [
        "## Bhisma's Emotion Task"
      ]
    },
    {
      "cell_type": "code",
      "metadata": {
        "ExecuteTime": {
          "end_time": "2021-02-27T03:52:17.658219Z",
          "start_time": "2021-02-27T03:52:15.567723Z"
        },
        "id": "04WsmDRnF_3C"
      },
      "source": [
        "answer_df = pd.read_csv(dir_answer + 'BET_answers.csv', names =['Stim', 'Answer'])\n",
        "bet_scores_df = pd.DataFrame(columns = ['BET_score_raw', 'BET_score_perc'])\n",
        "#loop thru log files\n",
        "for file in os.listdir(dir_logs + task_logs['BET']):\n",
        "    if 'BET' in file:\n",
        "        subj = re.search('DPA_F[0-9]{3}', file).group(0)\n",
        "    \n",
        "        if subj not in excluded_subjs:\n",
        "            clean_log = cleanup_logs(dir_logs + task_logs['BET'] +'/' + file, ['Stim.*', 'Final.*'])\n",
        "            clean_log.rename({0:'Stim', 1:'Response'}, axis = 1, inplace = True)\n",
        "\n",
        "            #replace everything up to the last /\n",
        "            clean_log['Stim'] = clean_log['Stim'].str.replace('.*\\/', '')\n",
        "            clean_log['Response'] = (clean_log['Response'].str.replace('Final button press: ', '')).str.lower()\n",
        "\n",
        "            #merge clean log and answerkeys on stim\n",
        "            subj_df = clean_log.merge(answer_df, how = 'left', left_on='Stim', right_on= 'Stim')\n",
        "            subj_df['Correct'] = (subj_df['Response'] == subj_df['Answer']).astype(int)\n",
        "\n",
        "            bet_scores_df.loc[subj, 'BET'] = subj_df['Correct'].sum()\n",
        "            bet_scores_df.loc[subj, 'BET_score_perc'] = (subj_df['Correct'].sum()/len(subj_df['Correct']))*100\n",
        "\n",
        "raw_scores_df = bet_scores_df[['BET']]\n",
        "perc_scores_df = bet_scores_df[['BET_score_perc']]"
      ],
      "execution_count": null,
      "outputs": []
    },
    {
      "cell_type": "markdown",
      "metadata": {
        "id": "EYITy4NtF_3D"
      },
      "source": [
        "## Brad's Identity Matching"
      ]
    },
    {
      "cell_type": "code",
      "metadata": {
        "ExecuteTime": {
          "end_time": "2021-02-27T03:52:19.975347Z",
          "start_time": "2021-02-27T03:52:17.661921Z"
        },
        "id": "DOfxs80sF_3D"
      },
      "source": [
        "answer_df = pd.read_csv(dir_answer + 'Brad_shuffled_answer.csv', names =['Target', 'Stim1', 'Stim2', 'Stim3', 'Answer'])\n",
        "brad_scores_df = pd.DataFrame(columns = ['brad_score_raw', 'brad_score_perc'])\n",
        "\n",
        "#loop thru log files\n",
        "for file in os.listdir(dir_logs + task_logs['Brads']):\n",
        "    if 'Brad' in file:\n",
        "        subj = re.search('DPA_F[0-9]{3}', file).group(0)\n",
        "        \n",
        "        if subj not in excluded_subjs:\n",
        "            clean_log = cleanup_logs(dir_logs + task_logs['Brads'] +'/' + file, ['Prompt.*', 'KEYPRESSED.*'])\n",
        "            #first 3 rows are practice so discard\n",
        "            clean_log = clean_log.iloc[3:]\n",
        "            clean_log.rename({0:'Stim', 1:'Response'}, axis = 1, inplace = True)\n",
        "\n",
        "            #replace KEYPRESS\n",
        "            clean_log['Response'] = clean_log['Response'].str.replace('KEYPRESSED: ', '')\n",
        "\n",
        "            #merge  on index for clean log and answerkeys on stim\n",
        "            subj_df = clean_log.join(answer_df)\n",
        "            subj_df['Correct'] = (subj_df['Response'].astype(int) == subj_df['Answer']).astype(int)\n",
        "\n",
        "            brad_scores_df.loc[subj, 'BFMT'] = subj_df['Correct'].sum()\n",
        "            brad_scores_df.loc[subj, 'brad_score_perc'] =( subj_df['Correct'].sum()/len(subj_df['Correct']))*100\n",
        "\n",
        "raw_scores_df = raw_scores_df.join(brad_scores_df[['BFMT']], how = 'outer')\n",
        "perc_scores_df = perc_scores_df.join(brad_scores_df[['brad_score_perc']], how = 'outer')"
      ],
      "execution_count": null,
      "outputs": []
    },
    {
      "cell_type": "markdown",
      "metadata": {
        "id": "_DM3kxKRF_3F"
      },
      "source": [
        "## Films Emotion Task"
      ]
    },
    {
      "cell_type": "code",
      "metadata": {
        "ExecuteTime": {
          "end_time": "2021-02-27T03:52:22.550760Z",
          "start_time": "2021-02-27T03:52:19.978246Z"
        },
        "id": "jTcBwiuTF_3F"
      },
      "source": [
        "answer_df = pd.read_csv(dir_answer + 'Films_answers.csv', names =['Target', 'Stim1', 'Stim2', 'Stim3', 'Answer'])\n",
        "films_scores_df = pd.DataFrame(columns = ['films_score_raw', 'films_score_perc'])\n",
        "\n",
        "#loop thru log files\n",
        "for file in os.listdir(dir_logs + task_logs['films']):\n",
        "    if 'Films' in file:\n",
        "        subj = re.search('DPA_F[0-9]{3}', file).group(0)\n",
        "        \n",
        "        if subj not in excluded_subjs:\n",
        "            clean_log = cleanup_logs(dir_logs + task_logs['films'] +'/' + file, ['Prompt.*', 'KEYPRESSED.*'])\n",
        "\n",
        "            #first 3 rows are practice so discard\n",
        "            clean_log = clean_log.iloc[3:]\n",
        "            clean_log.rename({0:'Stim', 1:'Response'}, axis = 1, inplace = True)\n",
        "\n",
        "            #replace KEYPRESS\n",
        "            clean_log['Response'] = clean_log['Response'].str.replace('KEYPRESSED: ', '')\n",
        "\n",
        "            #merge  on index for clean log and answerkeys on stim\n",
        "            subj_df = clean_log.join(answer_df)\n",
        "            subj_df['Correct'] = (subj_df['Response'].astype(int) == subj_df['Answer']).astype(int)\n",
        "\n",
        "            films_scores_df.loc[subj, 'Films'] = subj_df['Correct'].sum()\n",
        "            films_scores_df.loc[subj, 'films_score_perc'] = (subj_df['Correct'].sum()/len(subj_df['Correct']))*100\n",
        "\n",
        "raw_scores_df = raw_scores_df.join(films_scores_df[['Films']], how = 'outer')\n",
        "perc_scores_df = perc_scores_df.join(films_scores_df[['films_score_perc']], how = 'outer')"
      ],
      "execution_count": null,
      "outputs": []
    },
    {
      "cell_type": "markdown",
      "metadata": {
        "id": "uu_o4n9iF_3G"
      },
      "source": [
        "## CFMT"
      ]
    },
    {
      "cell_type": "code",
      "metadata": {
        "ExecuteTime": {
          "end_time": "2021-02-27T03:52:25.047079Z",
          "start_time": "2021-02-27T03:52:22.554747Z"
        },
        "id": "NnkAenIyF_3H"
      },
      "source": [
        "answer_df = pd.read_csv(dir_answer + 'CFMT_key.csv', names =['keypress', 'prompt'])\n",
        "CFMT_scores_df = pd.DataFrame(columns = ['CFMT_score_raw', 'CFMT_score_perc'])\n",
        "\n",
        "#loop thru log files\n",
        "for file in os.listdir(dir_logs + task_logs['CFMT']):\n",
        "    if 'CFMT' in file:\n",
        "        subj = re.search('DPA_F[0-9]{3}', file).group(0)\n",
        "        \n",
        "        if subj not in excluded_subjs:\n",
        "            clean_log = cleanup_logs(dir_logs + task_logs['CFMT'] +'/' + file, ['Prompt.*', 'Final.*'])\n",
        "\n",
        "            #first 3 rows are practice so discard\n",
        "            clean_log = clean_log.iloc[3:]\n",
        "            clean_log.rename({0:'Stim', 1:'Response'}, axis = 1, inplace = True)\n",
        "\n",
        "            #replace KEYPRESS\n",
        "            clean_log['Response'] = clean_log['Response'].str.replace('Final key press: ', '')\n",
        "            #replace prompt         \n",
        "            clean_log['Stim'] = clean_log['Stim'].str.replace('Prompt: ', '')\n",
        "            #merge  on index for clean log and answerkeys on stim\n",
        "            subj_df = clean_log.join(answer_df)\n",
        "\n",
        "            subj_df['Correct'] = (subj_df['Response'].astype(int) == subj_df['prompt']).astype(int)\n",
        "            CFMT_scores_df.loc[subj, 'CFMT'] = subj_df['Correct'].sum()\n",
        "            CFMT_scores_df.loc[subj, 'CFMT_score_perc'] = (subj_df['Correct'].sum()/len(subj_df['Correct']))*100\n",
        "        \n",
        "raw_scores_df = raw_scores_df.join(CFMT_scores_df[['CFMT']], how = 'outer')\n",
        "perc_scores_df = perc_scores_df.join(CFMT_scores_df[['CFMT_score_perc']], how = 'outer')"
      ],
      "execution_count": null,
      "outputs": []
    },
    {
      "cell_type": "markdown",
      "metadata": {
        "id": "qA10a9r1F_3H"
      },
      "source": [
        "## Famous Faces"
      ]
    },
    {
      "cell_type": "code",
      "metadata": {
        "ExecuteTime": {
          "end_time": "2021-02-27T03:52:27.750968Z",
          "start_time": "2021-02-27T03:52:25.057412Z"
        },
        "id": "HH93k7XsF_3I"
      },
      "source": [
        "ff_scores_df = pd.DataFrame(columns = ['FF_score_raw', 'FF_score_perc'])\n",
        "\n",
        "#loop thru log files\n",
        "for file in os.listdir(dir_logs + task_logs['FF']):\n",
        "    if 'FF' in file:\n",
        "        subj = re.search('DPA_F[0-9]{3}', file).group(0)\n",
        "        \n",
        "        if subj not in excluded_subjs:\n",
        "            clean_log = cleanup_logs(dir_logs + task_logs['FF'] +'/' + file, [ 'Prompt.*'])\n",
        "            clean_log.rename({0:'Response'}, axis = 1, inplace = True)\n",
        "\n",
        "            #replace prompt answer\n",
        "            clean_log['Response'] = clean_log['Response'].str.replace('Prompt Answer: ', '')\n",
        "\n",
        "\n",
        "            correct = clean_log['Response'].value_counts()['Yes! I got it right']\n",
        "            if ('I got it wrong and I am familiar with this face.' in clean_log['Response'].value_counts().index):\n",
        "                total_known = clean_log['Response'].value_counts()['Yes! I got it right'] + clean_log['Response'].value_counts()['I got it wrong and I am familiar with this face.']\n",
        "            else:\n",
        "                total_known = correct\n",
        "\n",
        "            ff_scores_df.loc[subj, 'FF'] = (correct/total_known)*100\n",
        "            ff_scores_df.loc[subj, 'FF_score_perc'] = (correct/total_known)*100\n",
        "\n",
        "raw_scores_df = raw_scores_df.join(ff_scores_df[['FF']], how = 'outer')\n",
        "perc_scores_df = perc_scores_df.join(ff_scores_df[['FF_score_perc']], how = 'outer')"
      ],
      "execution_count": null,
      "outputs": []
    },
    {
      "cell_type": "markdown",
      "metadata": {
        "id": "QUktxv1zF_3I"
      },
      "source": [
        "## Mind in the Eyes"
      ]
    },
    {
      "cell_type": "code",
      "metadata": {
        "ExecuteTime": {
          "end_time": "2021-02-27T03:52:30.269816Z",
          "start_time": "2021-02-27T03:52:27.756639Z"
        },
        "id": "TUhBDFB1F_3J"
      },
      "source": [
        "answer_df = pd.read_csv(dir_answer + 'MOE_answers.csv', names =['Target',  'Answer'])\n",
        "MOE_scores_df = pd.DataFrame(columns = ['MOE_score_raw', 'MOE_score_perc'])\n",
        "\n",
        "#loop thru log files\n",
        "for file in os.listdir(dir_logs + task_logs['MOE']):\n",
        "    if 'MOE' in file:\n",
        "        subj = re.search('DPA_F[0-9]{3}', file).group(0)\n",
        "        \n",
        "        if subj not in excluded_subjs:\n",
        "            clean_log = cleanup_logs(dir_logs + task_logs['MOE'] +'/' + file, ['Test.*', 'Final.*'])\n",
        "\n",
        "            #first row is practice so discard\n",
        "            clean_log = clean_log.iloc[1:]\n",
        "            clean_log.rename({0:'Stim', 1:'Response'}, axis = 1, inplace = True)\n",
        "\n",
        "            #replace strings\n",
        "            clean_log['Stim'] = clean_log['Stim'].str.replace('Test: stims_MOE/', '')\n",
        "            clean_log['Response'] = clean_log['Response'].str.replace('Final button press: ', '')\n",
        "\n",
        "            #merge  on index for clean log and answerkeys on stim\n",
        "            subj_df = clean_log.join(answer_df)\n",
        "            subj_df['Correct'] = (subj_df['Response'] == subj_df['Answer'])\n",
        "\n",
        "            MOE_scores_df.loc[subj, 'MIE'] = subj_df['Correct'].sum()\n",
        "            MOE_scores_df.loc[subj, 'MOE_score_perc'] = (subj_df['Correct'].sum()/len(subj_df['Correct']))*100\n",
        "        \n",
        "raw_scores_df = raw_scores_df.join(MOE_scores_df[['MIE']], how = 'outer')\n",
        "perc_scores_df = perc_scores_df.join(MOE_scores_df[['MOE_score_perc']], how = 'outer')"
      ],
      "execution_count": null,
      "outputs": []
    },
    {
      "cell_type": "markdown",
      "metadata": {
        "id": "hObVsF04F_3K"
      },
      "source": [
        "## Emotion Hexagon"
      ]
    },
    {
      "cell_type": "markdown",
      "metadata": {
        "id": "lmj_3hi9F_3K"
      },
      "source": [
        "DPA_F047 isn't right - somehow didn't record everything. But we excluded them"
      ]
    },
    {
      "cell_type": "code",
      "metadata": {
        "ExecuteTime": {
          "end_time": "2021-02-27T03:52:32.970472Z",
          "start_time": "2021-02-27T03:52:30.274605Z"
        },
        "id": "svOeOVktF_3K"
      },
      "source": [
        "answer_df = pd.read_csv(dir_answer + 'EH_answers.csv', names =['Stim',  'Emotion1', 'Emotion2', 'Answer'])\n",
        "EH_scores_df = pd.DataFrame(columns = ['EH_score_raw', 'EH_score_perc'])\n",
        "\n",
        "#loop thru log files\n",
        "for file in os.listdir(dir_logs + task_logs['EH']):\n",
        "    if 'EH' in file:\n",
        "        subj = re.search('DPA_F[0-9]{3}', file).group(0)\n",
        "        if subj not in excluded_subjs:\n",
        "            clean_log = cleanup_logs(dir_logs + task_logs['EH'] +'/' + file, ['Stim.*', 'Final.*'])\n",
        "            clean_log.rename({0:'Stim', 1:'Response'}, axis = 1, inplace = True)\n",
        "\n",
        "            #replace strings\n",
        "            clean_log['Stim'] = clean_log['Stim'].str.replace('Stim: stims/', '')\n",
        "            clean_log['Stim'] = clean_log['Stim'].str.replace('.jpg', '')\n",
        "            clean_log['Response'] = clean_log['Response'].str.replace('Final button press: ', '')\n",
        "            clean_log['Response'] = clean_log['Response'].str.lower()\n",
        "\n",
        "            #merge  on index for clean log and answerkeys on stim\n",
        "            subj_df = clean_log.merge(answer_df, how='left', left_on='Stim', right_on='Stim')\n",
        "\n",
        "            #get rid of 50/50 rows - nan\n",
        "            subj_df =  subj_df[~subj_df['Answer'].isna()]\n",
        "\n",
        "    #         #comparing diff morphs\n",
        "    #         morphs_90_10 = subj_df[subj_df['Emotion1'].str.contains('90') | subj_df['Emotion1'].str.contains('10')]\n",
        "    #         morphs_70_30 = subj_df[subj_df['Emotion1'].str.contains('30') | subj_df['Emotion1'].str.contains('70')]\n",
        "    #         morphs_90_10['Correct'] = (morphs_90_10['Response'] == morphs_90_10['Answer'])\n",
        "    #         morphs_70_30['Correct'] = (morphs_70_30['Response'] == morphs_70_30['Answer'])\n",
        "    #         EH_90_10.loc[subj] = morphs_90_10['Correct'].sum()/len(morphs_90_10['Correct'])\n",
        "    #         EH_70_30.loc[subj] = morphs_70_30['Correct'].sum()/len(morphs_70_30['Correct'])\n",
        "\n",
        "            subj_df['Correct'] = (subj_df['Response'] == subj_df['Answer'])\n",
        "            EH_scores_df.loc[subj, 'EH'] = subj_df['Correct'].sum()\n",
        "            EH_scores_df.loc[subj, 'EH_score_perc'] = (subj_df['Correct'].sum()/len(subj_df['Correct'])) * 100\n",
        "            \n",
        "raw_scores_df = raw_scores_df.join(EH_scores_df[['EH']], how = 'outer')\n",
        "perc_scores_df = perc_scores_df.join(EH_scores_df[['EH_score_perc']], how = 'outer')"
      ],
      "execution_count": null,
      "outputs": []
    },
    {
      "cell_type": "markdown",
      "metadata": {
        "id": "ADB1UID4F_3L"
      },
      "source": [
        "## CCMT"
      ]
    },
    {
      "cell_type": "code",
      "metadata": {
        "ExecuteTime": {
          "end_time": "2021-02-27T03:52:35.538954Z",
          "start_time": "2021-02-27T03:52:32.975182Z"
        },
        "id": "KQ1bxkVGF_3M"
      },
      "source": [
        "answer_df = pd.read_csv(dir_answer + 'CCMT_answers.csv', names =['prompt'])\n",
        "CCMT_scores_df = pd.DataFrame(columns = ['CCMT_score_raw', 'CCMT_score_perc'])\n",
        "\n",
        "#loop thru log files\n",
        "for file in os.listdir(dir_logs + task_logs['CFMTcars']):\n",
        "    if 'CFMTcars' in file:\n",
        "        subj = re.search('DPA_F[0-9]{3}', file).group(0)\n",
        "        \n",
        "        if subj not in excluded_subjs:\n",
        "            clean_log = cleanup_logs(dir_logs + task_logs['CFMTcars'] +'/' + file, ['Prompt.*', 'Final.*'])\n",
        "\n",
        "            #first 3 rows are practice so discard\n",
        "            clean_log = clean_log.iloc[3:]\n",
        "            clean_log.rename({0:'Stim', 1:'Response'}, axis = 1, inplace = True)\n",
        "\n",
        "            #replace KEYPRESS\n",
        "            clean_log['Response'] = clean_log['Response'].str.replace('Final key press: ', '')\n",
        "            #replace prompt         \n",
        "            clean_log['Stim'] = clean_log['Stim'].str.replace('Prompt: ', '')\n",
        "            #merge  on index for clean log and answerkeys on stim\n",
        "            subj_df = clean_log.set_index('Stim').join(answer_df)\n",
        "\n",
        "            subj_df['Correct'] = (subj_df['Response'].astype(int) == subj_df['prompt']).astype(int)\n",
        "            CCMT_scores_df.loc[subj, 'CCMT'] = subj_df['Correct'].sum()\n",
        "            CCMT_scores_df.loc[subj, 'CCMT_score_perc'] = (subj_df['Correct'].sum()/len(subj_df['Correct']))*100\n",
        "        \n",
        "raw_scores_df = raw_scores_df.join(CCMT_scores_df[['CCMT']], how = 'outer')\n",
        "perc_scores_df = perc_scores_df.join(CCMT_scores_df[['CCMT_score_perc']], how = 'outer')"
      ],
      "execution_count": null,
      "outputs": []
    },
    {
      "cell_type": "markdown",
      "metadata": {
        "id": "oP7ZkWIDF_3M"
      },
      "source": [
        "## Gaze Direction"
      ]
    },
    {
      "cell_type": "code",
      "metadata": {
        "ExecuteTime": {
          "end_time": "2021-02-27T03:52:38.151708Z",
          "start_time": "2021-02-27T03:52:35.544523Z"
        },
        "id": "PrBRCbI6F_3M",
        "outputId": "13c2acfc-f710-4c64-9d56-cacc3c82216e"
      },
      "source": [
        "answer_df = pd.read_csv(dir_answer + 'GD_answers.csv', names =['Stim','Answer'])\n",
        "GD_scores_df = pd.DataFrame(columns = ['GD_score_raw', 'GD_score_perc'])\n",
        "\n",
        "#loop thru log files\n",
        "for file in os.listdir(dir_logs + task_logs['GD']):\n",
        "    if 'GD' in file:\n",
        "        subj = re.search('DPA_F[0-9]{3}', file).group(0)\n",
        "        \n",
        "        if subj not in excluded_subjs:\n",
        "            clean_log = cleanup_logs(dir_logs + task_logs['GD'] +'/' + file, ['Stim.*', 'Final.*'])\n",
        "            clean_log.rename({0:'Stim', 1:'Response'}, axis = 1, inplace = True)\n",
        "            \n",
        "            #first 3 rows are practice so discard\n",
        "            clean_log = clean_log.iloc[3:]\n",
        "\n",
        "            #replace everything up to the last /\n",
        "            clean_log['Stim'] = clean_log['Stim'].str.replace('.*\\/', '')\n",
        "            clean_log['Response'] = (clean_log['Response'].str.replace('Final button press: ', '')).str.lower()\n",
        "            clean_log.drop(clean_log.index[84],inplace=True)\n",
        "\n",
        "            #merge clean log and answerkeys on stim\n",
        "            subj_df = clean_log.merge(answer_df, how = 'left', left_on='Stim', right_on= 'Stim')\n",
        "            subj_df['Correct'] = (subj_df['Response'] == subj_df['Answer']).astype(int)\n",
        "            \n",
        "            GD_scores_df.loc[subj, 'GD'] = subj_df['Correct'].sum()\n",
        "            GD_scores_df.loc[subj, 'GD_score_perc'] = (subj_df['Correct'].sum()/len(subj_df['Correct']))*100\n",
        "        \n",
        "raw_scores_df = raw_scores_df.join(GD_scores_df[['GD']], how = 'outer')\n",
        "perc_scores_df = perc_scores_df.join(GD_scores_df[['GD_score_perc']], how = 'outer')"
      ],
      "execution_count": null,
      "outputs": [
        {
          "output_type": "error",
          "ename": "NameError",
          "evalue": "name 'dir_answer' is not defined",
          "traceback": [
            "\u001b[0;31m---------------------------------------------------------------------------\u001b[0m",
            "\u001b[0;31mNameError\u001b[0m                                 Traceback (most recent call last)",
            "\u001b[0;32m<ipython-input-32-e9866ee476a0>\u001b[0m in \u001b[0;36m<module>\u001b[0;34m\u001b[0m\n\u001b[0;32m----> 1\u001b[0;31m \u001b[0manswer_df\u001b[0m \u001b[0;34m=\u001b[0m \u001b[0mpd\u001b[0m\u001b[0;34m.\u001b[0m\u001b[0mread_csv\u001b[0m\u001b[0;34m(\u001b[0m\u001b[0mdir_answer\u001b[0m \u001b[0;34m+\u001b[0m \u001b[0;34m'GD_answers.csv'\u001b[0m\u001b[0;34m,\u001b[0m \u001b[0mnames\u001b[0m \u001b[0;34m=\u001b[0m\u001b[0;34m[\u001b[0m\u001b[0;34m'Stim'\u001b[0m\u001b[0;34m,\u001b[0m\u001b[0;34m'Answer'\u001b[0m\u001b[0;34m]\u001b[0m\u001b[0;34m)\u001b[0m\u001b[0;34m\u001b[0m\u001b[0;34m\u001b[0m\u001b[0m\n\u001b[0m\u001b[1;32m      2\u001b[0m \u001b[0mGD_scores_df\u001b[0m \u001b[0;34m=\u001b[0m \u001b[0mpd\u001b[0m\u001b[0;34m.\u001b[0m\u001b[0mDataFrame\u001b[0m\u001b[0;34m(\u001b[0m\u001b[0mcolumns\u001b[0m \u001b[0;34m=\u001b[0m \u001b[0;34m[\u001b[0m\u001b[0;34m'GD_score_raw'\u001b[0m\u001b[0;34m,\u001b[0m \u001b[0;34m'GD_score_perc'\u001b[0m\u001b[0;34m]\u001b[0m\u001b[0;34m)\u001b[0m\u001b[0;34m\u001b[0m\u001b[0;34m\u001b[0m\u001b[0m\n\u001b[1;32m      3\u001b[0m \u001b[0;34m\u001b[0m\u001b[0m\n\u001b[1;32m      4\u001b[0m \u001b[0;31m#loop thru log files\u001b[0m\u001b[0;34m\u001b[0m\u001b[0;34m\u001b[0m\u001b[0;34m\u001b[0m\u001b[0m\n\u001b[1;32m      5\u001b[0m \u001b[0;32mfor\u001b[0m \u001b[0mfile\u001b[0m \u001b[0;32min\u001b[0m \u001b[0mos\u001b[0m\u001b[0;34m.\u001b[0m\u001b[0mlistdir\u001b[0m\u001b[0;34m(\u001b[0m\u001b[0mdir_logs\u001b[0m \u001b[0;34m+\u001b[0m \u001b[0mtask_logs\u001b[0m\u001b[0;34m[\u001b[0m\u001b[0;34m'GD'\u001b[0m\u001b[0;34m]\u001b[0m\u001b[0;34m)\u001b[0m\u001b[0;34m:\u001b[0m\u001b[0;34m\u001b[0m\u001b[0;34m\u001b[0m\u001b[0m\n",
            "\u001b[0;31mNameError\u001b[0m: name 'dir_answer' is not defined"
          ]
        }
      ]
    },
    {
      "cell_type": "markdown",
      "metadata": {
        "id": "CmY3sdjWF_3N"
      },
      "source": [
        "## Implicit Association Task"
      ]
    },
    {
      "cell_type": "code",
      "metadata": {
        "colab": {
          "base_uri": "https://localhost:8080/",
          "height": 419
        },
        "id": "lW4X1IH3F_3N",
        "outputId": "cb89cdfa-18f2-4c85-fcab-f2d556a60e98"
      },
      "source": [
        "log_df = pd.read_csv('iat_DPA_F020_black_1st.log', delimiter = '\\t', names = ['time', 'level', 'msg'])\n",
        "data_df = log_df[log_df['level'] == 'CRITICAL ']\n",
        "data_df.drop(columns = ['level'], inplace = True)\n",
        "\n",
        "block = 0\n",
        "score_blocks_df = pd.DataFrame(columns = ['time', 'msg'])\n",
        "for index, row in data_df.iterrows():\n",
        "    if 'Instructions' in row[\"msg\"]:\n",
        "        block += 1\n",
        "    if block in [3, 4, 6, 7]:\n",
        "        score_blocks_df = score_blocks_df.append({'time': row['time'], 'msg': row['msg']}, ignore_index = True)\n",
        "\n",
        "#with pd.option_context('display.max_rows', None, 'display.max_columns', None):\n",
        "    #print(score_blocks_df)\n",
        "score_blocks_df.head(len(score_blocks_df))\n",
        "test = score_blocks_df\n",
        "score_blocks_df"
      ],
      "execution_count": 32,
      "outputs": [
        {
          "output_type": "execute_result",
          "data": {
            "text/html": [
              "<div>\n",
              "<style scoped>\n",
              "    .dataframe tbody tr th:only-of-type {\n",
              "        vertical-align: middle;\n",
              "    }\n",
              "\n",
              "    .dataframe tbody tr th {\n",
              "        vertical-align: top;\n",
              "    }\n",
              "\n",
              "    .dataframe thead th {\n",
              "        text-align: right;\n",
              "    }\n",
              "</style>\n",
              "<table border=\"1\" class=\"dataframe\">\n",
              "  <thead>\n",
              "    <tr style=\"text-align: right;\">\n",
              "      <th></th>\n",
              "      <th>time</th>\n",
              "      <th>msg</th>\n",
              "    </tr>\n",
              "  </thead>\n",
              "  <tbody>\n",
              "    <tr>\n",
              "      <th>0</th>\n",
              "      <td>100.8715</td>\n",
              "      <td>***Block 3 Instructions***</td>\n",
              "    </tr>\n",
              "    <tr>\n",
              "      <th>1</th>\n",
              "      <td>106.9424</td>\n",
              "      <td>***Block 3 Experiment***</td>\n",
              "    </tr>\n",
              "    <tr>\n",
              "      <th>2</th>\n",
              "      <td>106.9424</td>\n",
              "      <td>Stim: bf23_nc.jpg</td>\n",
              "    </tr>\n",
              "    <tr>\n",
              "      <th>3</th>\n",
              "      <td>107.8777</td>\n",
              "      <td>Final keypress: e</td>\n",
              "    </tr>\n",
              "    <tr>\n",
              "      <th>4</th>\n",
              "      <td>108.1434</td>\n",
              "      <td>Stim: Terrible</td>\n",
              "    </tr>\n",
              "    <tr>\n",
              "      <th>...</th>\n",
              "      <td>...</td>\n",
              "      <td>...</td>\n",
              "    </tr>\n",
              "    <tr>\n",
              "      <th>243</th>\n",
              "      <td>254.1990</td>\n",
              "      <td>Final keypress: e</td>\n",
              "    </tr>\n",
              "    <tr>\n",
              "      <th>244</th>\n",
              "      <td>254.4645</td>\n",
              "      <td>Stim: wm1_nc.jpg</td>\n",
              "    </tr>\n",
              "    <tr>\n",
              "      <th>245</th>\n",
              "      <td>255.0662</td>\n",
              "      <td>Final keypress: e</td>\n",
              "    </tr>\n",
              "    <tr>\n",
              "      <th>246</th>\n",
              "      <td>255.3318</td>\n",
              "      <td>Stim: wf6_nc.jpg</td>\n",
              "    </tr>\n",
              "    <tr>\n",
              "      <th>247</th>\n",
              "      <td>255.8334</td>\n",
              "      <td>Final keypress: e</td>\n",
              "    </tr>\n",
              "  </tbody>\n",
              "</table>\n",
              "<p>248 rows × 2 columns</p>\n",
              "</div>"
            ],
            "text/plain": [
              "         time                         msg\n",
              "0    100.8715  ***Block 3 Instructions***\n",
              "1    106.9424    ***Block 3 Experiment***\n",
              "2    106.9424           Stim: bf23_nc.jpg\n",
              "3    107.8777           Final keypress: e\n",
              "4    108.1434              Stim: Terrible\n",
              "..        ...                         ...\n",
              "243  254.1990           Final keypress: e\n",
              "244  254.4645            Stim: wm1_nc.jpg\n",
              "245  255.0662           Final keypress: e\n",
              "246  255.3318            Stim: wf6_nc.jpg\n",
              "247  255.8334           Final keypress: e\n",
              "\n",
              "[248 rows x 2 columns]"
            ]
          },
          "metadata": {
            "tags": []
          },
          "execution_count": 32
        }
      ]
    },
    {
      "cell_type": "code",
      "metadata": {
        "colab": {
          "base_uri": "https://localhost:8080/"
        },
        "id": "z05B5G8PKdYP",
        "outputId": "83fc2cc2-9776-450b-a9f2-37ff547aa7ad"
      },
      "source": [
        "test.index[test['msg']=='***Block 7 Instructions***'].tolist()\n",
        "block_3 = score_blocks_df.iloc[2:42]\n",
        "block_4 = score_blocks_df.iloc[44:124]\n",
        "block_6 = score_blocks_df.iloc[126:166]\n",
        "block_7 = score_blocks_df.iloc[168:]\n",
        "\n",
        "def array_maker1(length):\n",
        "  counter = 1\n",
        "  result = []\n",
        "  for i in np.arange(length/2):\n",
        "    result += [counter]\n",
        "    result += [counter]\n",
        "    counter += 1\n",
        "  return result\n",
        "\n",
        "array_maker1(6)"
      ],
      "execution_count": 50,
      "outputs": [
        {
          "output_type": "execute_result",
          "data": {
            "text/plain": [
              "[1, 1, 2, 2, 3, 3]"
            ]
          },
          "metadata": {
            "tags": []
          },
          "execution_count": 50
        }
      ]
    },
    {
      "cell_type": "code",
      "metadata": {
        "colab": {
          "base_uri": "https://localhost:8080/"
        },
        "id": "Q9GaaGlxSd8b",
        "outputId": "1ee6103e-2ee9-4ef1-9b1b-3599e7d9a034"
      },
      "source": [
        "def ammd(series):\n",
        "  return max(series) - min(series)\n",
        "\n",
        "def retrieve_stimu(series):\n",
        "  return series.iloc[0]\n",
        "\n",
        "block_3_ind = array_maker1(len(block_3))\n",
        "block_3['ind'] = block_3_ind\n",
        "block_3.index = block_3['ind']\n",
        "block_3\n",
        "block_3_stimu = block_3[['time', 'msg']].groupby(['ind']).agg(retrieve_stimu)\n",
        "block_3_time = block_3[['time', 'msg']].groupby(['ind']).agg(ammd)\n",
        "block_3_stimu['time_diff'] = block_3_time\n",
        "b3_time_diff = block_3_stimu[['msg', 'time_diff']]\n",
        "b3_time_diff.index[b3_time_diff['time_diff'] < 0.3]\n",
        "b3_time_diff.index[b3_time_diff['time_diff'] > 10]"
      ],
      "execution_count": 69,
      "outputs": [
        {
          "output_type": "execute_result",
          "data": {
            "text/plain": [
              "Int64Index([], dtype='int64', name='ind')"
            ]
          },
          "metadata": {
            "tags": []
          },
          "execution_count": 69
        }
      ]
    },
    {
      "cell_type": "code",
      "metadata": {
        "colab": {
          "base_uri": "https://localhost:8080/"
        },
        "id": "CGWbg75aY3_8",
        "outputId": "5b466741-006f-44fc-eee5-d361480ce955"
      },
      "source": [
        "block_4_ind = array_maker1(len(block_4))\n",
        "block_4['ind'] = block_4_ind\n",
        "block_4.index = block_4['ind']\n",
        "block_4_stimu = block_4[['time', 'msg']].groupby(['ind']).agg(retrieve_stimu)\n",
        "block_4_time = block_4[['time', 'msg']].groupby(['ind']).agg(ammd)\n",
        "block_4_stimu['time_diff'] = block_4_time\n",
        "b4_time_diff = block_4_stimu[['msg', 'time_diff']]\n",
        "b4_time_diff.index[b4_time_diff['time_diff'] < 0.3]\n",
        "b4_time_diff.index[b4_time_diff['time_diff'] > 10]"
      ],
      "execution_count": 68,
      "outputs": [
        {
          "output_type": "execute_result",
          "data": {
            "text/plain": [
              "Int64Index([], dtype='int64', name='ind')"
            ]
          },
          "metadata": {
            "tags": []
          },
          "execution_count": 68
        }
      ]
    },
    {
      "cell_type": "code",
      "metadata": {
        "colab": {
          "base_uri": "https://localhost:8080/"
        },
        "id": "ZmHkeO2MZdRH",
        "outputId": "df656f86-aab6-4bf4-8d7f-38a1dfe5929d"
      },
      "source": [
        "block_6_ind = array_maker1(len(block_6))\n",
        "block_6['ind'] = block_6_ind\n",
        "block_6.index = block_6['ind']\n",
        "block_6\n",
        "block_6_stimu = block_6[['time', 'msg']].groupby(['ind']).agg(retrieve_stimu)\n",
        "block_6_time = block_6[['time', 'msg']].groupby(['ind']).agg(ammd)\n",
        "block_6_stimu['time_diff'] = block_6_time\n",
        "b6_time_diff = block_6_stimu[['msg', 'time_diff']]\n",
        "b6_time_diff.index[b6_time_diff['time_diff'] < 0.3]\n",
        "b6_time_diff.index[b6_time_diff['time_diff'] > 10]"
      ],
      "execution_count": 67,
      "outputs": [
        {
          "output_type": "execute_result",
          "data": {
            "text/plain": [
              "Int64Index([], dtype='int64', name='ind')"
            ]
          },
          "metadata": {
            "tags": []
          },
          "execution_count": 67
        }
      ]
    },
    {
      "cell_type": "code",
      "metadata": {
        "colab": {
          "base_uri": "https://localhost:8080/"
        },
        "id": "_8FJfHe2Zs-n",
        "outputId": "fd963585-0ca0-4367-d10a-0d72a5883ecf"
      },
      "source": [
        "block_7_ind = array_maker1(len(block_7))\n",
        "block_7['ind'] = block_7_ind\n",
        "block_7.index = block_7['ind']\n",
        "block_7\n",
        "block_7_stimu = block_7[['time', 'msg']].groupby(['ind']).agg(retrieve_stimu)\n",
        "block_7_time = block_7[['time', 'msg']].groupby(['ind']).agg(ammd)\n",
        "block_7_stimu['time_diff'] = block_7_time\n",
        "b7_time_diff = block_7_stimu[['msg', 'time_diff']]\n",
        "b7_time_diff.index[b7_time_diff['time_diff'] < 0.3]\n",
        "b7_time_diff.index[b7_time_diff['time_diff'] > 10]"
      ],
      "execution_count": 66,
      "outputs": [
        {
          "output_type": "execute_result",
          "data": {
            "text/plain": [
              "Int64Index([], dtype='int64', name='ind')"
            ]
          },
          "metadata": {
            "tags": []
          },
          "execution_count": 66
        }
      ]
    },
    {
      "cell_type": "code",
      "metadata": {
        "colab": {
          "base_uri": "https://localhost:8080/",
          "height": 1000
        },
        "id": "MtUwinVHmlHN",
        "outputId": "301bc7fd-cced-4648-9458-3f4eea3b1d79"
      },
      "source": [
        "b3_time_diff\n",
        "b4_time_diff\n",
        "b6_time_diff\n",
        "b7_time_diff"
      ],
      "execution_count": 70,
      "outputs": [
        {
          "output_type": "execute_result",
          "data": {
            "text/html": [
              "<div>\n",
              "<style scoped>\n",
              "    .dataframe tbody tr th:only-of-type {\n",
              "        vertical-align: middle;\n",
              "    }\n",
              "\n",
              "    .dataframe tbody tr th {\n",
              "        vertical-align: top;\n",
              "    }\n",
              "\n",
              "    .dataframe thead th {\n",
              "        text-align: right;\n",
              "    }\n",
              "</style>\n",
              "<table border=\"1\" class=\"dataframe\">\n",
              "  <thead>\n",
              "    <tr style=\"text-align: right;\">\n",
              "      <th></th>\n",
              "      <th>msg</th>\n",
              "      <th>time_diff</th>\n",
              "    </tr>\n",
              "    <tr>\n",
              "      <th>ind</th>\n",
              "      <th></th>\n",
              "      <th></th>\n",
              "    </tr>\n",
              "  </thead>\n",
              "  <tbody>\n",
              "    <tr>\n",
              "      <th>1</th>\n",
              "      <td>Stim: Lovely</td>\n",
              "      <td>0.7685</td>\n",
              "    </tr>\n",
              "    <tr>\n",
              "      <th>2</th>\n",
              "      <td>Stim: Horrible</td>\n",
              "      <td>0.7351</td>\n",
              "    </tr>\n",
              "    <tr>\n",
              "      <th>3</th>\n",
              "      <td>Stim: bf14_nc.jpg</td>\n",
              "      <td>0.6016</td>\n",
              "    </tr>\n",
              "    <tr>\n",
              "      <th>4</th>\n",
              "      <td>Stim: Painful</td>\n",
              "      <td>0.7351</td>\n",
              "    </tr>\n",
              "    <tr>\n",
              "      <th>5</th>\n",
              "      <td>Stim: Glorious</td>\n",
              "      <td>0.7852</td>\n",
              "    </tr>\n",
              "    <tr>\n",
              "      <th>6</th>\n",
              "      <td>Stim: Superb</td>\n",
              "      <td>0.9686</td>\n",
              "    </tr>\n",
              "    <tr>\n",
              "      <th>7</th>\n",
              "      <td>Stim: bm14_nc.jpg</td>\n",
              "      <td>0.5183</td>\n",
              "    </tr>\n",
              "    <tr>\n",
              "      <th>8</th>\n",
              "      <td>Stim: wf2_nc.jpg</td>\n",
              "      <td>0.6190</td>\n",
              "    </tr>\n",
              "    <tr>\n",
              "      <th>9</th>\n",
              "      <td>Stim: Humiliate</td>\n",
              "      <td>0.6350</td>\n",
              "    </tr>\n",
              "    <tr>\n",
              "      <th>10</th>\n",
              "      <td>Stim: bm56_nc.jpg</td>\n",
              "      <td>0.4849</td>\n",
              "    </tr>\n",
              "    <tr>\n",
              "      <th>11</th>\n",
              "      <td>Stim: Awful</td>\n",
              "      <td>0.6351</td>\n",
              "    </tr>\n",
              "    <tr>\n",
              "      <th>12</th>\n",
              "      <td>Stim: wm4_nc.jpg</td>\n",
              "      <td>0.5850</td>\n",
              "    </tr>\n",
              "    <tr>\n",
              "      <th>13</th>\n",
              "      <td>Stim: Beautiful</td>\n",
              "      <td>0.6184</td>\n",
              "    </tr>\n",
              "    <tr>\n",
              "      <th>14</th>\n",
              "      <td>Stim: bm23_nc.jpg</td>\n",
              "      <td>0.5015</td>\n",
              "    </tr>\n",
              "    <tr>\n",
              "      <th>15</th>\n",
              "      <td>Stim: Marvelous</td>\n",
              "      <td>0.5683</td>\n",
              "    </tr>\n",
              "    <tr>\n",
              "      <th>16</th>\n",
              "      <td>Stim: Joyful</td>\n",
              "      <td>0.4183</td>\n",
              "    </tr>\n",
              "    <tr>\n",
              "      <th>17</th>\n",
              "      <td>Stim: wm1_nc.jpg</td>\n",
              "      <td>0.5849</td>\n",
              "    </tr>\n",
              "    <tr>\n",
              "      <th>18</th>\n",
              "      <td>Stim: Nasty</td>\n",
              "      <td>0.5016</td>\n",
              "    </tr>\n",
              "    <tr>\n",
              "      <th>19</th>\n",
              "      <td>Stim: bm14_nc.jpg</td>\n",
              "      <td>0.4348</td>\n",
              "    </tr>\n",
              "    <tr>\n",
              "      <th>20</th>\n",
              "      <td>Stim: Humiliate</td>\n",
              "      <td>0.5850</td>\n",
              "    </tr>\n",
              "    <tr>\n",
              "      <th>21</th>\n",
              "      <td>Stim: wf2_nc.jpg</td>\n",
              "      <td>0.5349</td>\n",
              "    </tr>\n",
              "    <tr>\n",
              "      <th>22</th>\n",
              "      <td>Stim: wf3_nc.jpg</td>\n",
              "      <td>0.5015</td>\n",
              "    </tr>\n",
              "    <tr>\n",
              "      <th>23</th>\n",
              "      <td>Stim: bf56_nc.jpg</td>\n",
              "      <td>0.9519</td>\n",
              "    </tr>\n",
              "    <tr>\n",
              "      <th>24</th>\n",
              "      <td>Stim: Awful</td>\n",
              "      <td>0.5683</td>\n",
              "    </tr>\n",
              "    <tr>\n",
              "      <th>25</th>\n",
              "      <td>Stim: wf6_nc.jpg</td>\n",
              "      <td>0.8519</td>\n",
              "    </tr>\n",
              "    <tr>\n",
              "      <th>26</th>\n",
              "      <td>Stim: bf56_nc.jpg</td>\n",
              "      <td>0.5016</td>\n",
              "    </tr>\n",
              "    <tr>\n",
              "      <th>27</th>\n",
              "      <td>Stim: Joyful</td>\n",
              "      <td>0.5017</td>\n",
              "    </tr>\n",
              "    <tr>\n",
              "      <th>28</th>\n",
              "      <td>Stim: bf14_nc.jpg</td>\n",
              "      <td>0.4182</td>\n",
              "    </tr>\n",
              "    <tr>\n",
              "      <th>29</th>\n",
              "      <td>Stim: Nasty</td>\n",
              "      <td>0.4516</td>\n",
              "    </tr>\n",
              "    <tr>\n",
              "      <th>30</th>\n",
              "      <td>Stim: Horrible</td>\n",
              "      <td>0.4683</td>\n",
              "    </tr>\n",
              "    <tr>\n",
              "      <th>31</th>\n",
              "      <td>Stim: wf3_nc.jpg</td>\n",
              "      <td>0.4849</td>\n",
              "    </tr>\n",
              "    <tr>\n",
              "      <th>32</th>\n",
              "      <td>Stim: bf23_nc.jpg</td>\n",
              "      <td>0.6684</td>\n",
              "    </tr>\n",
              "    <tr>\n",
              "      <th>33</th>\n",
              "      <td>Stim: Agony</td>\n",
              "      <td>0.5350</td>\n",
              "    </tr>\n",
              "    <tr>\n",
              "      <th>34</th>\n",
              "      <td>Stim: wm6_nc.jpg</td>\n",
              "      <td>0.8518</td>\n",
              "    </tr>\n",
              "    <tr>\n",
              "      <th>35</th>\n",
              "      <td>Stim: Superb</td>\n",
              "      <td>0.7184</td>\n",
              "    </tr>\n",
              "    <tr>\n",
              "      <th>36</th>\n",
              "      <td>Stim: Pleasure</td>\n",
              "      <td>0.7852</td>\n",
              "    </tr>\n",
              "    <tr>\n",
              "      <th>37</th>\n",
              "      <td>Stim: bm56_nc.jpg</td>\n",
              "      <td>0.5349</td>\n",
              "    </tr>\n",
              "    <tr>\n",
              "      <th>38</th>\n",
              "      <td>Stim: Marvelous</td>\n",
              "      <td>0.6684</td>\n",
              "    </tr>\n",
              "    <tr>\n",
              "      <th>39</th>\n",
              "      <td>Stim: wm1_nc.jpg</td>\n",
              "      <td>0.6017</td>\n",
              "    </tr>\n",
              "    <tr>\n",
              "      <th>40</th>\n",
              "      <td>Stim: wf6_nc.jpg</td>\n",
              "      <td>0.5016</td>\n",
              "    </tr>\n",
              "  </tbody>\n",
              "</table>\n",
              "</div>"
            ],
            "text/plain": [
              "                   msg  time_diff\n",
              "ind                              \n",
              "1         Stim: Lovely     0.7685\n",
              "2       Stim: Horrible     0.7351\n",
              "3    Stim: bf14_nc.jpg     0.6016\n",
              "4        Stim: Painful     0.7351\n",
              "5       Stim: Glorious     0.7852\n",
              "6         Stim: Superb     0.9686\n",
              "7    Stim: bm14_nc.jpg     0.5183\n",
              "8     Stim: wf2_nc.jpg     0.6190\n",
              "9      Stim: Humiliate     0.6350\n",
              "10   Stim: bm56_nc.jpg     0.4849\n",
              "11         Stim: Awful     0.6351\n",
              "12    Stim: wm4_nc.jpg     0.5850\n",
              "13     Stim: Beautiful     0.6184\n",
              "14   Stim: bm23_nc.jpg     0.5015\n",
              "15     Stim: Marvelous     0.5683\n",
              "16        Stim: Joyful     0.4183\n",
              "17    Stim: wm1_nc.jpg     0.5849\n",
              "18         Stim: Nasty     0.5016\n",
              "19   Stim: bm14_nc.jpg     0.4348\n",
              "20     Stim: Humiliate     0.5850\n",
              "21    Stim: wf2_nc.jpg     0.5349\n",
              "22    Stim: wf3_nc.jpg     0.5015\n",
              "23   Stim: bf56_nc.jpg     0.9519\n",
              "24         Stim: Awful     0.5683\n",
              "25    Stim: wf6_nc.jpg     0.8519\n",
              "26   Stim: bf56_nc.jpg     0.5016\n",
              "27        Stim: Joyful     0.5017\n",
              "28   Stim: bf14_nc.jpg     0.4182\n",
              "29         Stim: Nasty     0.4516\n",
              "30      Stim: Horrible     0.4683\n",
              "31    Stim: wf3_nc.jpg     0.4849\n",
              "32   Stim: bf23_nc.jpg     0.6684\n",
              "33         Stim: Agony     0.5350\n",
              "34    Stim: wm6_nc.jpg     0.8518\n",
              "35        Stim: Superb     0.7184\n",
              "36      Stim: Pleasure     0.7852\n",
              "37   Stim: bm56_nc.jpg     0.5349\n",
              "38     Stim: Marvelous     0.6684\n",
              "39    Stim: wm1_nc.jpg     0.6017\n",
              "40    Stim: wf6_nc.jpg     0.5016"
            ]
          },
          "metadata": {
            "tags": []
          },
          "execution_count": 70
        }
      ]
    },
    {
      "cell_type": "markdown",
      "metadata": {
        "id": "HWsALJkcF_3O"
      },
      "source": [
        "## Online"
      ]
    },
    {
      "cell_type": "code",
      "metadata": {
        "ExecuteTime": {
          "end_time": "2021-02-27T03:52:42.422159Z",
          "start_time": "2021-02-27T03:52:38.158108Z"
        },
        "id": "eIJsyTq1F_3O"
      },
      "source": [
        "scope = ['https://spreadsheets.google.com/feeds',\n",
        "         'https://www.googleapis.com/auth/drive']\n",
        "\n",
        "credentials = ServiceAccountCredentials.from_json_keyfile_name(\n",
        "         '../online/DPAProject-083039688e6a.json', scope) # Your json file here\n",
        "\n",
        "gc = gspread.authorize(credentials)\n",
        "wks = gc.open(\"Subject Log\").sheet1\n",
        "\n",
        "data = wks.get_all_values()\n",
        "headers = data.pop(0)\n",
        "\n",
        "df_subj_qual = pd.DataFrame(data, columns=headers)"
      ],
      "execution_count": null,
      "outputs": []
    },
    {
      "cell_type": "code",
      "metadata": {
        "ExecuteTime": {
          "end_time": "2021-02-27T03:52:43.797344Z",
          "start_time": "2021-02-27T03:52:42.425041Z"
        },
        "id": "NX2QnzVlF_3P"
      },
      "source": [
        "wks = gc.open(\"Subject Log\").worksheets()[1]\n",
        "\n",
        "data = wks.get_all_values()\n",
        "headers = data.pop(0)\n",
        "\n",
        "df_online = pd.DataFrame(data, columns=headers)"
      ],
      "execution_count": null,
      "outputs": []
    },
    {
      "cell_type": "code",
      "metadata": {
        "ExecuteTime": {
          "end_time": "2021-02-27T03:52:43.811919Z",
          "start_time": "2021-02-27T03:52:43.800074Z"
        },
        "id": "grwkbWR8F_3P"
      },
      "source": [
        "all_subjs = df_subj_qual[df_subj_qual['Date Finished'] == \"\"][\"Subject ID\"]\n",
        "all_subjs_df = df_online[df_online['Subject ID'].isin(all_subjs)]"
      ],
      "execution_count": null,
      "outputs": []
    },
    {
      "cell_type": "code",
      "metadata": {
        "ExecuteTime": {
          "end_time": "2021-02-27T03:52:43.838449Z",
          "start_time": "2021-02-27T03:52:43.815687Z"
        },
        "id": "WJ3wiyJOF_3P"
      },
      "source": [
        "raw_scores_df = raw_scores_df.join(all_subjs_df.set_index('Subject ID')[['AQ Score', 'EQ Score', 'STAI Y1', 'STAI Y2', 'CFMT - Australian', 'PI 20']])\n",
        "raw_scores_df = raw_scores_df.replace('-', np.nan)\n",
        "raw_scores_df = raw_scores_df.replace('', np.nan)\n",
        "raw_scores_df = raw_scores_df.astype(float)\n",
        "raw_scores_df.rename(columns ={'AQ Score': 'AQ', 'EQ Score': 'EQ', 'STAI Y1': 'STAI_Y1', 'STAI Y2': 'STAI_Y2', 'CFMT - Australian': 'CFMT_aus', 'PI 20': 'PI20'}, inplace=True)"
      ],
      "execution_count": null,
      "outputs": []
    },
    {
      "cell_type": "markdown",
      "metadata": {
        "id": "vTvQ4Z_sF_3Q"
      },
      "source": [
        "## Export"
      ]
    },
    {
      "cell_type": "code",
      "metadata": {
        "ExecuteTime": {
          "end_time": "2021-02-27T03:52:43.913288Z",
          "start_time": "2021-02-27T03:52:43.841191Z"
        },
        "id": "quizBcydF_3Q"
      },
      "source": [
        "raw_scores_df.to_csv('results/raw_scores_32220.csv')\n",
        "perc_scores_df.to_csv('results/perc_scores_32220.csv')"
      ],
      "execution_count": null,
      "outputs": []
    },
    {
      "cell_type": "markdown",
      "metadata": {
        "id": "JLWjycY4F_3Q"
      },
      "source": [
        "# Analysis"
      ]
    },
    {
      "cell_type": "markdown",
      "metadata": {
        "id": "iJ3dOeNbF_3R"
      },
      "source": [
        "## Factor Analysis"
      ]
    },
    {
      "cell_type": "code",
      "metadata": {
        "ExecuteTime": {
          "end_time": "2021-02-27T03:52:44.366047Z",
          "start_time": "2021-02-27T03:52:43.915822Z"
        },
        "id": "HRrSfhccF_3R",
        "outputId": "1bbde45f-627e-4ead-9be8-b3b94699f6cc"
      },
      "source": [
        "from factor_analyzer import FactorAnalyzer\n",
        "x_factor = raw_scores_df.loc[:, :'GD'].join(raw_scores_df['CFMT_aus'])\n",
        "fa = FactorAnalyzer(rotation=None)\n",
        "fa.fit(x_factor)"
      ],
      "execution_count": null,
      "outputs": [
        {
          "output_type": "error",
          "ename": "ModuleNotFoundError",
          "evalue": "No module named 'factor_analyzer'",
          "traceback": [
            "\u001b[0;31m---------------------------------------------------------------------------\u001b[0m",
            "\u001b[0;31mModuleNotFoundError\u001b[0m                       Traceback (most recent call last)",
            "\u001b[0;32m<ipython-input-17-2ff5db1ed359>\u001b[0m in \u001b[0;36m<module>\u001b[0;34m\u001b[0m\n\u001b[0;32m----> 1\u001b[0;31m \u001b[0;32mfrom\u001b[0m \u001b[0mfactor_analyzer\u001b[0m \u001b[0;32mimport\u001b[0m \u001b[0mFactorAnalyzer\u001b[0m\u001b[0;34m\u001b[0m\u001b[0;34m\u001b[0m\u001b[0m\n\u001b[0m\u001b[1;32m      2\u001b[0m \u001b[0mx_factor\u001b[0m \u001b[0;34m=\u001b[0m \u001b[0mraw_scores_df\u001b[0m\u001b[0;34m.\u001b[0m\u001b[0mloc\u001b[0m\u001b[0;34m[\u001b[0m\u001b[0;34m:\u001b[0m\u001b[0;34m,\u001b[0m \u001b[0;34m:\u001b[0m\u001b[0;34m'GD'\u001b[0m\u001b[0;34m]\u001b[0m\u001b[0;34m.\u001b[0m\u001b[0mjoin\u001b[0m\u001b[0;34m(\u001b[0m\u001b[0mraw_scores_df\u001b[0m\u001b[0;34m[\u001b[0m\u001b[0;34m'CFMT_aus'\u001b[0m\u001b[0;34m]\u001b[0m\u001b[0;34m)\u001b[0m\u001b[0;34m\u001b[0m\u001b[0;34m\u001b[0m\u001b[0m\n\u001b[1;32m      3\u001b[0m \u001b[0mfa\u001b[0m \u001b[0;34m=\u001b[0m \u001b[0mFactorAnalyzer\u001b[0m\u001b[0;34m(\u001b[0m\u001b[0mrotation\u001b[0m\u001b[0;34m=\u001b[0m\u001b[0;32mNone\u001b[0m\u001b[0;34m)\u001b[0m\u001b[0;34m\u001b[0m\u001b[0;34m\u001b[0m\u001b[0m\n\u001b[1;32m      4\u001b[0m \u001b[0mfa\u001b[0m\u001b[0;34m.\u001b[0m\u001b[0mfit\u001b[0m\u001b[0;34m(\u001b[0m\u001b[0mx_factor\u001b[0m\u001b[0;34m)\u001b[0m\u001b[0;34m\u001b[0m\u001b[0;34m\u001b[0m\u001b[0m\n",
            "\u001b[0;31mModuleNotFoundError\u001b[0m: No module named 'factor_analyzer'"
          ]
        }
      ]
    },
    {
      "cell_type": "code",
      "metadata": {
        "ExecuteTime": {
          "end_time": "2021-02-27T03:52:44.374345Z",
          "start_time": "2021-02-27T03:51:48.435Z"
        },
        "id": "fob49pvyF_3R"
      },
      "source": [
        "eig, v = fa.get_eigenvalues()\n",
        "plt.scatter(range(0, len(eig)), eig)\n",
        "plt.plot(range(0, len(eig)), eig)"
      ],
      "execution_count": null,
      "outputs": []
    },
    {
      "cell_type": "code",
      "metadata": {
        "ExecuteTime": {
          "end_time": "2021-02-27T03:52:44.375644Z",
          "start_time": "2021-02-27T03:51:48.442Z"
        },
        "id": "Vx00KXUCF_3S"
      },
      "source": [
        "fa = FactorAnalyzer(rotation='promax', n_factors =4)\n",
        "fa.fit(x_factor)"
      ],
      "execution_count": null,
      "outputs": []
    },
    {
      "cell_type": "code",
      "metadata": {
        "ExecuteTime": {
          "end_time": "2021-02-27T03:52:44.377047Z",
          "start_time": "2021-02-27T03:51:48.447Z"
        },
        "id": "BK406Sp0F_3S"
      },
      "source": [
        "factor_df = pd.DataFrame(index = x_factor.columns, columns = ['factor1', 'factor2', 'factor3', 'factor4'], data = fa.loadings_)\n",
        "# factor_df.reindex(['CFMT', 'CFMT_aus', 'BFMT', 'FF', 'CCMT', 'BET', 'EH', 'MIE', 'Films', 'GD'])"
      ],
      "execution_count": null,
      "outputs": []
    },
    {
      "cell_type": "code",
      "metadata": {
        "ExecuteTime": {
          "end_time": "2021-02-27T03:52:44.378380Z",
          "start_time": "2021-02-27T03:51:48.455Z"
        },
        "id": "Gce1yE8lF_3T"
      },
      "source": [
        "def label_point_from_df(x_label, y_label, df, ax):\n",
        "    texts = []\n",
        "    for i, point in df.iterrows():\n",
        "        texts.append(ax.text(point[x_label], point[y_label], point.name))\n",
        "    adjust_text(texts)"
      ],
      "execution_count": null,
      "outputs": []
    },
    {
      "cell_type": "code",
      "metadata": {
        "ExecuteTime": {
          "end_time": "2021-02-27T03:52:44.379685Z",
          "start_time": "2021-02-27T03:51:48.460Z"
        },
        "id": "j1SLKOBrF_3T"
      },
      "source": [
        "from adjustText import adjust_text\n",
        "\n",
        "\n",
        "plt.rcParams.update({'font.size': 13})\n",
        "ax = sns.scatterplot(x= 'factor1', y='factor2', data = factor_df)\n",
        "label_point_from_df('factor1', 'factor2', factor_df, ax)"
      ],
      "execution_count": null,
      "outputs": []
    },
    {
      "cell_type": "code",
      "metadata": {
        "ExecuteTime": {
          "end_time": "2021-02-27T03:52:44.381561Z",
          "start_time": "2021-02-27T03:51:48.465Z"
        },
        "id": "Rco9EszdF_3U"
      },
      "source": [
        "plt.rcParams.update({'font.size': 13})\n",
        "ax = sns.scatterplot(x= 'factor2', y='factor3', data = factor_df)\n",
        "label_point_from_df('factor2', 'factor3', factor_df, ax)"
      ],
      "execution_count": null,
      "outputs": []
    },
    {
      "cell_type": "code",
      "metadata": {
        "ExecuteTime": {
          "end_time": "2021-02-27T03:52:44.383030Z",
          "start_time": "2021-02-27T03:51:48.471Z"
        },
        "id": "kdV_9ryQF_3U"
      },
      "source": [
        "plt.rcParams.update({'font.size': 13})\n",
        "ax = sns.scatterplot(x= 'factor3', y='factor4', data = factor_df)\n",
        "label_point_from_df('factor3', 'factor4', factor_df, ax)"
      ],
      "execution_count": null,
      "outputs": []
    },
    {
      "cell_type": "code",
      "metadata": {
        "ExecuteTime": {
          "end_time": "2021-02-27T03:52:44.384578Z",
          "start_time": "2021-02-27T03:51:48.477Z"
        },
        "id": "VQzsmWAaF_3V"
      },
      "source": [
        "transform_df = pd.DataFrame(index = x_factor.index, columns = ['factor1', 'factor2', 'factor3', 'factor4'], data = fa.transform(x_factor))\n",
        "transform_df = transform_df.join(raw_scores_df[['AQ', 'EQ', 'STAI_Y1', 'STAI_Y2']])"
      ],
      "execution_count": null,
      "outputs": []
    },
    {
      "cell_type": "code",
      "metadata": {
        "ExecuteTime": {
          "end_time": "2021-02-27T03:52:44.386013Z",
          "start_time": "2021-02-27T03:51:48.483Z"
        },
        "id": "jYMC-HjPF_3V"
      },
      "source": [
        "plt.figure(figsize = (15, 10))\n",
        "sns.heatmap(transform_df.corr(), annot=True)"
      ],
      "execution_count": null,
      "outputs": []
    },
    {
      "cell_type": "code",
      "metadata": {
        "ExecuteTime": {
          "end_time": "2021-02-27T03:52:44.387703Z",
          "start_time": "2021-02-27T03:51:48.489Z"
        },
        "scrolled": true,
        "id": "YykwPSphF_3W"
      },
      "source": [
        "# p_values = calculate_pvalues(transform_df.astype(float)).values\n",
        "\n",
        "perm_pvalue = []\n",
        "transform_df = transform_df.astype(float)\n",
        "for col_1 in transform_df.columns:\n",
        "    row_pvalue = []\n",
        "    for col_2 in transform_df.columns:\n",
        "        print(col_1, col_2)\n",
        "        perm_df = permutation_test(transform_df, col_1, col_2, 1000)\n",
        "        corr_par = transform_df[[col_1, col_2]].corr().iloc[0, 1]\n",
        "        row_pvalue.append(np.sum(np.abs(perm_df['perm_corr']) > np.abs(corr_par))/1000)\n",
        "    perm_pvalue.append(row_pvalue)\n",
        "        "
      ],
      "execution_count": null,
      "outputs": []
    },
    {
      "cell_type": "code",
      "metadata": {
        "ExecuteTime": {
          "end_time": "2021-02-27T03:52:44.389030Z",
          "start_time": "2021-02-27T03:51:48.494Z"
        },
        "id": "G-5ILD0lF_3W"
      },
      "source": [
        "pvalues_df = pd.DataFrame(perm_pvalue, columns = transform_df.columns, index = transform_df.columns)"
      ],
      "execution_count": null,
      "outputs": []
    },
    {
      "cell_type": "code",
      "metadata": {
        "ExecuteTime": {
          "end_time": "2021-02-27T03:52:44.390205Z",
          "start_time": "2021-02-27T03:51:48.499Z"
        },
        "id": "mpGTEOQnF_3W"
      },
      "source": [
        "plt.figure(figsize=(15, 15))\n",
        "p_values_df = pvalues_df.loc[transform_df.columns, transform_df.columns]\n",
        "labels =transform_df.columns\n",
        "\n",
        "# mask = np.triu(np.ones_like(transform_df.astype(float).corr(), dtype=np.bool))\n",
        "# ax = sns.heatmap(transform_df.astype(float).corr(), mask=mask, annot = True, cmap = 'RdBu', xticklabels=labels, yticklabels=labels)\n",
        "ax = sns.heatmap(transform_df.astype(float).corr(), annot = True, cmap = 'RdBu_r', xticklabels=labels, yticklabels=labels)\n",
        "for y_i, row in enumerate(p_values_df.values):\n",
        "    for x_i, cell in enumerate(row):\n",
        "        if cell < 0.05:\n",
        "            ax.add_patch(Rectangle((x_i, y_i), 1, 1, fill=False, edgecolor = 'black', lw=3))\n",
        "plt.show()"
      ],
      "execution_count": null,
      "outputs": []
    },
    {
      "cell_type": "markdown",
      "metadata": {
        "id": "6_iIiv4-F_3X"
      },
      "source": [
        "## PCA"
      ]
    },
    {
      "cell_type": "code",
      "metadata": {
        "ExecuteTime": {
          "end_time": "2021-02-27T03:52:44.394122Z",
          "start_time": "2021-02-27T03:51:48.509Z"
        },
        "id": "ifymK98VF_3X"
      },
      "source": [
        "from sklearn.decomposition import PCA\n",
        "pca_df = x_factor\n",
        "D = pca_df.values\n",
        "pca_n = D.shape[0]\n",
        "#Center Data\n",
        "pca_means = np.mean(D, axis = 0)\n",
        "X = (D - pca_means)/np.sqrt(pca_n)\n",
        "\n",
        "pca = PCA()\n",
        "pcs = pca.fit_transform(X)"
      ],
      "execution_count": null,
      "outputs": []
    },
    {
      "cell_type": "code",
      "metadata": {
        "ExecuteTime": {
          "end_time": "2021-02-27T03:52:44.396374Z",
          "start_time": "2021-02-27T03:51:48.514Z"
        },
        "id": "1VTGsbSIF_3X"
      },
      "source": [
        "pca_df['pc1'] = pcs[:, 0]\n",
        "pca_df['pc2'] = pcs[:, 1]\n",
        "pca_df['pc3'] = pcs[:, 2]"
      ],
      "execution_count": null,
      "outputs": []
    },
    {
      "cell_type": "code",
      "metadata": {
        "ExecuteTime": {
          "end_time": "2021-02-27T03:52:44.398148Z",
          "start_time": "2021-02-27T03:51:48.522Z"
        },
        "id": "QDwW8Hj6F_3Y"
      },
      "source": [
        "features_df = pd.DataFrame(columns = ['pc1', 'pc2', 'pc3'], index=pca_df.columns[:-3])\n",
        "t_features = pca.components_.T * np.sqrt(pca.explained_variance_)\n",
        "features_df['pc1'] = t_features[:, 0]\n",
        "features_df['pc2'] = t_features[:, 1]\n",
        "features_df['pc3'] = t_features[:, 2]\n",
        "\n",
        "\n"
      ],
      "execution_count": null,
      "outputs": []
    },
    {
      "cell_type": "code",
      "metadata": {
        "ExecuteTime": {
          "end_time": "2021-02-27T03:52:44.400084Z",
          "start_time": "2021-02-27T03:51:48.529Z"
        },
        "id": "zMRJVN4EF_3Y"
      },
      "source": [
        "from adjustText import adjust_text\n",
        "\n",
        "\n",
        "plt.rcParams.update({'font.size': 13})\n",
        "ax = sns.scatterplot(x= 'pc1', y='pc2', data = features_df)\n",
        "label_point_from_df('pc1', 'pc2', features_df, ax)"
      ],
      "execution_count": null,
      "outputs": []
    },
    {
      "cell_type": "code",
      "metadata": {
        "ExecuteTime": {
          "end_time": "2021-02-27T03:52:44.401903Z",
          "start_time": "2021-02-27T03:51:48.534Z"
        },
        "id": "813i3FLnF_3Y"
      },
      "source": [
        "plt.rcParams.update({'font.size': 13})\n",
        "ax = sns.scatterplot(x= 'pc2', y='pc3', data = features_df)\n",
        "label_point_from_df('pc2', 'pc3', features_df, ax)"
      ],
      "execution_count": null,
      "outputs": []
    },
    {
      "cell_type": "code",
      "metadata": {
        "ExecuteTime": {
          "end_time": "2021-02-27T03:52:44.403251Z",
          "start_time": "2021-02-27T03:51:48.538Z"
        },
        "id": "fk1fQSlyF_3Y"
      },
      "source": [
        "pca_df.join(raw_scores_df[['AQ', 'EQ', 'STAI_Y1', 'STAI_Y2']]).loc[:, 'pc1':].corr().round(2)"
      ],
      "execution_count": null,
      "outputs": []
    },
    {
      "cell_type": "markdown",
      "metadata": {
        "id": "BVJCve-7F_3Z"
      },
      "source": [
        "## Correlations"
      ]
    },
    {
      "cell_type": "code",
      "metadata": {
        "ExecuteTime": {
          "end_time": "2021-02-27T03:52:44.405643Z",
          "start_time": "2021-02-27T03:51:48.541Z"
        },
        "id": "rttEKePiF_3Z"
      },
      "source": [
        "from scipy.stats import pearsonr\n",
        "import pandas as pd\n",
        "\n",
        "def calculate_pvalues(df):\n",
        "    df = df.dropna()._get_numeric_data()\n",
        "    dfcols = pd.DataFrame(columns=df.columns)\n",
        "    pvalues = dfcols.transpose().join(dfcols, how='outer')\n",
        "    for r in df.columns:\n",
        "        for c in df.columns:\n",
        "            pvalues[r][c] = round(pearsonr(df[r], df[c])[1], 4)\n",
        "    return pvalues"
      ],
      "execution_count": null,
      "outputs": []
    },
    {
      "cell_type": "code",
      "metadata": {
        "ExecuteTime": {
          "end_time": "2021-02-27T03:52:44.407490Z",
          "start_time": "2021-02-27T03:51:48.544Z"
        },
        "id": "IB2zpeelF_3Z"
      },
      "source": [
        "from sklearn.utils import shuffle\n",
        "\n",
        "\n",
        "def permutation_test(df, y, x, times_shuffle):\n",
        "    np.random.seed(1000)\n",
        "    perm_df = pd.DataFrame()\n",
        "    for i in range(times_shuffle):\n",
        "        y_shuffle = shuffle(df[y]).reset_index(drop=True)\n",
        "        shuffle_df = df[[x]].reset_index(drop=True)\n",
        "        shuffle_df[y] = y_shuffle\n",
        "\n",
        "        corr = shuffle_df[[y, x]].corr().iloc[0, 1]\n",
        "        perm_df.loc[i, 'perm_corr'] = corr\n",
        "    return perm_df"
      ],
      "execution_count": null,
      "outputs": []
    },
    {
      "cell_type": "code",
      "metadata": {
        "ExecuteTime": {
          "end_time": "2021-02-27T03:52:44.409424Z",
          "start_time": "2021-02-27T03:51:48.547Z"
        },
        "scrolled": true,
        "id": "U40ZnmZJF_3a"
      },
      "source": [
        "# p_values = calculate_pvalues(raw_scores_df.astype(float)).values\n",
        "\n",
        "perm_pvalue = []\n",
        "raw_scores_df = raw_scores_df.astype(float)\n",
        "for col_1 in raw_scores_df.columns:\n",
        "    row_pvalue = []\n",
        "    for col_2 in raw_scores_df.columns:\n",
        "        print(col_1, col_2)\n",
        "        perm_df = permutation_test(raw_scores_df, col_1, col_2, 1000)\n",
        "        corr_par = raw_scores_df[[col_1, col_2]].corr().iloc[0, 1]\n",
        "        row_pvalue.append(np.sum(np.abs(perm_df['perm_corr']) > np.abs(corr_par))/1000)\n",
        "    perm_pvalue.append(row_pvalue)\n",
        "        "
      ],
      "execution_count": null,
      "outputs": []
    },
    {
      "cell_type": "code",
      "metadata": {
        "ExecuteTime": {
          "end_time": "2021-02-27T03:52:44.413738Z",
          "start_time": "2021-02-27T03:51:48.550Z"
        },
        "id": "ZFoQbegCF_3a"
      },
      "source": [
        "pvalues_df = pd.DataFrame(perm_pvalue, columns = raw_scores_df.columns, index = raw_scores_df.columns)"
      ],
      "execution_count": null,
      "outputs": []
    },
    {
      "cell_type": "code",
      "metadata": {
        "ExecuteTime": {
          "end_time": "2021-02-27T03:52:44.415890Z",
          "start_time": "2021-02-27T03:51:48.555Z"
        },
        "scrolled": false,
        "id": "NNG-RDEMF_3a"
      },
      "source": [
        "plt.figure(figsize=(15, 15))\n",
        "raw_scores_df = raw_scores_df[['CFMT', 'CFMT_aus', 'BFMT', 'FF', 'CCMT', 'PI20', 'BET', 'EH', 'MIE', 'Films', 'GD', 'AQ', 'EQ', 'STAI_Y1', 'STAI_Y2']]\n",
        "p_values_df = pvalues_df.loc[raw_scores_df.columns, raw_scores_df.columns]\n",
        "labels = ['CFMT', 'CFMT Australian', 'Brads FMT', 'Famous Faces', 'CCMT', 'PI20', 'Bhismas Emotion Task', 'Emotion Hexagon', 'Mind in the Eyes', 'Films Task', 'Gaze Direction', 'AQ', 'EQ', 'STAI_Y1', 'STAI_Y2']\n",
        "\n",
        "# mask = np.triu(np.ones_like(raw_scores_df.astype(float).corr(), dtype=np.bool))\n",
        "# ax = sns.heatmap(raw_scores_df.astype(float).corr(), mask=mask, annot = True, cmap = 'RdBu', xticklabels=labels, yticklabels=labels)\n",
        "ax = sns.heatmap(raw_scores_df.astype(float).corr(), annot = True, cmap = 'RdBu_r', xticklabels=labels, yticklabels=labels)\n",
        "for y_i, row in enumerate(p_values_df.values):\n",
        "    for x_i, cell in enumerate(row):\n",
        "        if cell < 0.05:\n",
        "            ax.add_patch(Rectangle((x_i, y_i), 1, 1, fill=False, edgecolor = 'black', lw=3))\n",
        "plt.show()"
      ],
      "execution_count": null,
      "outputs": []
    },
    {
      "cell_type": "code",
      "metadata": {
        "ExecuteTime": {
          "end_time": "2021-02-27T03:52:44.418389Z",
          "start_time": "2021-02-27T03:51:48.558Z"
        },
        "id": "sjYwA8TNF_3b"
      },
      "source": [
        "sns.regplot(x = 'AQ', y = 'CFMT_aus', data = raw_scores_df.astype(float))\n",
        "print (pearsonr(raw_scores_df['AQ'].astype(float), raw_scores_df['CFMT_aus'].astype(float)))"
      ],
      "execution_count": null,
      "outputs": []
    },
    {
      "cell_type": "code",
      "metadata": {
        "ExecuteTime": {
          "end_time": "2021-02-27T03:52:44.420263Z",
          "start_time": "2021-02-27T03:51:48.562Z"
        },
        "id": "PHGFOPEbF_3b"
      },
      "source": [
        "sns.regplot(x = 'STAI_Y2', y = 'CFMT_aus', data = raw_scores_df.astype(float))\n",
        "print (pearsonr(raw_scores_df['STAI_Y2'].astype(float), raw_scores_df['CFMT'].astype(float)))"
      ],
      "execution_count": null,
      "outputs": []
    },
    {
      "cell_type": "code",
      "metadata": {
        "ExecuteTime": {
          "end_time": "2021-02-27T03:52:44.421756Z",
          "start_time": "2021-02-27T03:51:48.568Z"
        },
        "id": "FzOxb2rLF_3b"
      },
      "source": [
        "p_values = calculate_pvalues(raw_scores_df.astype(float)).values\n",
        "pd.DataFrame(data= p_values)"
      ],
      "execution_count": null,
      "outputs": []
    },
    {
      "cell_type": "markdown",
      "metadata": {
        "id": "d4w_thEtF_3b"
      },
      "source": [
        "## Histograms"
      ]
    },
    {
      "cell_type": "code",
      "metadata": {
        "ExecuteTime": {
          "end_time": "2021-02-27T03:52:44.422967Z",
          "start_time": "2021-02-27T03:51:48.572Z"
        },
        "id": "m9wNOxA2F_3c"
      },
      "source": [
        "fig, ax = plt.subplots(3, 5)\n",
        "fig.set_figwidth(30)\n",
        "fig.set_figheight(20)\n",
        "ax = ax.ravel()\n",
        "for i, col in enumerate(raw_scores_df.columns):\n",
        "    ax[i].hist(raw_scores_df[col], bins=10)\n",
        "    ax[i].set_title(col)"
      ],
      "execution_count": null,
      "outputs": []
    }
  ]
}